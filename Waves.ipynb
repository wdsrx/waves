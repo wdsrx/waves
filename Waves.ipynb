{
 "cells": [
  {
   "cell_type": "markdown",
   "id": "ca7e8c24",
   "metadata": {},
   "source": [
    "# WAVES"
   ]
  },
  {
   "cell_type": "code",
   "execution_count": 1,
   "id": "ade09779",
   "metadata": {
    "execution": {
     "iopub.execute_input": "2022-09-04T20:42:09.875269Z",
     "iopub.status.busy": "2022-09-04T20:42:09.873263Z",
     "iopub.status.idle": "2022-09-04T20:42:10.593217Z",
     "shell.execute_reply": "2022-09-04T20:42:10.592195Z"
    }
   },
   "outputs": [],
   "source": [
    "import pyodbc\n",
    "import pandas as pd"
   ]
  },
  {
   "cell_type": "code",
   "execution_count": 2,
   "id": "10a73873",
   "metadata": {
    "execution": {
     "iopub.execute_input": "2022-09-04T20:42:10.596218Z",
     "iopub.status.busy": "2022-09-04T20:42:10.596218Z",
     "iopub.status.idle": "2022-09-04T20:42:10.686304Z",
     "shell.execute_reply": "2022-09-04T20:42:10.684758Z"
    }
   },
   "outputs": [],
   "source": [
    "cnxn = pyodbc.connect(\"Driver={SQL Server Native Client 11.0};\"\n",
    "                        \"Server=wd02;\"\n",
    "                        \"Database=FootPrint;\"\n",
    "                        \"UID=WOODFIELD\\\\jmeza@wdsrx.com;\"\n",
    "                        \"PWD=Clavezaza2022;\"\n",
    "                        \"Trusted_Connection=yes;\")"
   ]
  },
  {
   "cell_type": "markdown",
   "id": "49f49c4d",
   "metadata": {},
   "source": [
    "### Query"
   ]
  },
  {
   "cell_type": "code",
   "execution_count": 3,
   "id": "a36ea14d",
   "metadata": {
    "execution": {
     "iopub.execute_input": "2022-09-04T20:42:10.692311Z",
     "iopub.status.busy": "2022-09-04T20:42:10.691344Z",
     "iopub.status.idle": "2022-09-04T20:42:10.951187Z",
     "shell.execute_reply": "2022-09-04T20:42:10.950277Z"
    }
   },
   "outputs": [],
   "source": [
    "df = pd.read_sql_query(\"SELECT CONVERT(varchar,w.releaseDate,100) Date, w.id, wa.name Warehouse, s.lookupCode Shipments, p.name Customer, ss.name ShipmentStatus\\\n",
    "    FROM datex_footprint.Waves w\\\n",
    "    JOIN datex_footprint.WaveStatuses ws\\\n",
    "        ON ws.id = w.statusId\\\n",
    "    JOIN datex_footprint.Warehouses wa\\\n",
    "        ON wa.id = w.warehouseId\\\n",
    "    JOIN datex_footprint.shipments s\\\n",
    "        ON s.waveId = w.id\\\n",
    "    JOIN datex_footprint.ShipmentOrderLookup sol\\\n",
    "        ON sol.shipmentId = s.id\\\n",
    "    JOIN datex_footprint.Orders o\\\n",
    "        ON o.id = sol.orderId\\\n",
    "    JOIN datex_footprint.Projects p\\\n",
    "        ON p.id = o.projectId\\\n",
    "    JOIN datex_footprint.ShipmentStatuses ss\\\n",
    "        ON ss.id = s.statusId\\\n",
    "    WHERE releaseDate > dateadd(day,-1,getdate())\\\n",
    "        AND w.statusId = 3\\\n",
    "    ORDER BY releaseDate DESC\", cnxn)"
   ]
  },
  {
   "cell_type": "markdown",
   "id": "e7150e3c",
   "metadata": {},
   "source": [
    "# Create Waves Table Data"
   ]
  },
  {
   "cell_type": "code",
   "execution_count": 4,
   "id": "845a7997",
   "metadata": {
    "execution": {
     "iopub.execute_input": "2022-09-04T20:42:10.954163Z",
     "iopub.status.busy": "2022-09-04T20:42:10.954163Z",
     "iopub.status.idle": "2022-09-04T20:42:10.983151Z",
     "shell.execute_reply": "2022-09-04T20:42:10.982151Z"
    }
   },
   "outputs": [
    {
     "data": {
      "text/html": [
       "<div>\n",
       "<style scoped>\n",
       "    .dataframe tbody tr th:only-of-type {\n",
       "        vertical-align: middle;\n",
       "    }\n",
       "\n",
       "    .dataframe tbody tr th {\n",
       "        vertical-align: top;\n",
       "    }\n",
       "\n",
       "    .dataframe thead th {\n",
       "        text-align: right;\n",
       "    }\n",
       "</style>\n",
       "<table border=\"1\" class=\"dataframe\">\n",
       "  <thead>\n",
       "    <tr style=\"text-align: right;\">\n",
       "      <th></th>\n",
       "      <th>Date</th>\n",
       "      <th>id</th>\n",
       "      <th>Warehouse</th>\n",
       "      <th>Shipments</th>\n",
       "      <th>Customer</th>\n",
       "      <th>ShipmentStatus</th>\n",
       "    </tr>\n",
       "  </thead>\n",
       "  <tbody>\n",
       "    <tr>\n",
       "      <th>0</th>\n",
       "      <td>Sep  5 2022  8:30AM</td>\n",
       "      <td>245676</td>\n",
       "      <td>10</td>\n",
       "      <td>MSP213644</td>\n",
       "      <td>Methapharm, Inc.</td>\n",
       "      <td>Released</td>\n",
       "    </tr>\n",
       "    <tr>\n",
       "      <th>1</th>\n",
       "      <td>Sep  5 2022  8:30AM</td>\n",
       "      <td>245676</td>\n",
       "      <td>10</td>\n",
       "      <td>MSP213646</td>\n",
       "      <td>Methapharm, Inc.</td>\n",
       "      <td>Released</td>\n",
       "    </tr>\n",
       "    <tr>\n",
       "      <th>2</th>\n",
       "      <td>Sep  5 2022  8:30AM</td>\n",
       "      <td>245676</td>\n",
       "      <td>10</td>\n",
       "      <td>MSP213652</td>\n",
       "      <td>Methapharm, Inc.</td>\n",
       "      <td>Released</td>\n",
       "    </tr>\n",
       "    <tr>\n",
       "      <th>3</th>\n",
       "      <td>Sep  5 2022  8:30AM</td>\n",
       "      <td>245676</td>\n",
       "      <td>10</td>\n",
       "      <td>MSP213655</td>\n",
       "      <td>Methapharm, Inc.</td>\n",
       "      <td>Released</td>\n",
       "    </tr>\n",
       "    <tr>\n",
       "      <th>4</th>\n",
       "      <td>Sep  5 2022  8:30AM</td>\n",
       "      <td>245676</td>\n",
       "      <td>10</td>\n",
       "      <td>MSP213670</td>\n",
       "      <td>Methapharm, Inc.</td>\n",
       "      <td>Released</td>\n",
       "    </tr>\n",
       "    <tr>\n",
       "      <th>5</th>\n",
       "      <td>Sep  5 2022  8:30AM</td>\n",
       "      <td>245678</td>\n",
       "      <td>10</td>\n",
       "      <td>MSP213647</td>\n",
       "      <td>Methapharm, Inc.</td>\n",
       "      <td>Released</td>\n",
       "    </tr>\n",
       "    <tr>\n",
       "      <th>6</th>\n",
       "      <td>Sep  5 2022  8:30AM</td>\n",
       "      <td>245678</td>\n",
       "      <td>10</td>\n",
       "      <td>MSP213648</td>\n",
       "      <td>Methapharm, Inc.</td>\n",
       "      <td>Released</td>\n",
       "    </tr>\n",
       "    <tr>\n",
       "      <th>7</th>\n",
       "      <td>Sep  5 2022  8:30AM</td>\n",
       "      <td>245678</td>\n",
       "      <td>10</td>\n",
       "      <td>MSP213649</td>\n",
       "      <td>Methapharm, Inc.</td>\n",
       "      <td>Released</td>\n",
       "    </tr>\n",
       "    <tr>\n",
       "      <th>8</th>\n",
       "      <td>Sep  5 2022  8:30AM</td>\n",
       "      <td>245678</td>\n",
       "      <td>10</td>\n",
       "      <td>MSP213650</td>\n",
       "      <td>Methapharm, Inc.</td>\n",
       "      <td>Released</td>\n",
       "    </tr>\n",
       "    <tr>\n",
       "      <th>9</th>\n",
       "      <td>Sep  5 2022  8:30AM</td>\n",
       "      <td>245678</td>\n",
       "      <td>10</td>\n",
       "      <td>MSP213651</td>\n",
       "      <td>Methapharm, Inc.</td>\n",
       "      <td>Released</td>\n",
       "    </tr>\n",
       "  </tbody>\n",
       "</table>\n",
       "</div>"
      ],
      "text/plain": [
       "                  Date      id Warehouse   Shipments          Customer  \\\n",
       "0  Sep  5 2022  8:30AM  245676        10   MSP213644  Methapharm, Inc.   \n",
       "1  Sep  5 2022  8:30AM  245676        10   MSP213646  Methapharm, Inc.   \n",
       "2  Sep  5 2022  8:30AM  245676        10   MSP213652  Methapharm, Inc.   \n",
       "3  Sep  5 2022  8:30AM  245676        10   MSP213655  Methapharm, Inc.   \n",
       "4  Sep  5 2022  8:30AM  245676        10  MSP213670   Methapharm, Inc.   \n",
       "5  Sep  5 2022  8:30AM  245678        10   MSP213647  Methapharm, Inc.   \n",
       "6  Sep  5 2022  8:30AM  245678        10   MSP213648  Methapharm, Inc.   \n",
       "7  Sep  5 2022  8:30AM  245678        10   MSP213649  Methapharm, Inc.   \n",
       "8  Sep  5 2022  8:30AM  245678        10   MSP213650  Methapharm, Inc.   \n",
       "9  Sep  5 2022  8:30AM  245678        10   MSP213651  Methapharm, Inc.   \n",
       "\n",
       "  ShipmentStatus  \n",
       "0       Released  \n",
       "1       Released  \n",
       "2       Released  \n",
       "3       Released  \n",
       "4       Released  \n",
       "5       Released  \n",
       "6       Released  \n",
       "7       Released  \n",
       "8       Released  \n",
       "9       Released  "
      ]
     },
     "execution_count": 4,
     "metadata": {},
     "output_type": "execute_result"
    }
   ],
   "source": [
    "df.head(10)"
   ]
  },
  {
   "cell_type": "code",
   "execution_count": 5,
   "id": "fbdc4124",
   "metadata": {
    "execution": {
     "iopub.execute_input": "2022-09-04T20:42:10.986151Z",
     "iopub.status.busy": "2022-09-04T20:42:10.986151Z",
     "iopub.status.idle": "2022-09-04T20:42:10.998153Z",
     "shell.execute_reply": "2022-09-04T20:42:10.997154Z"
    }
   },
   "outputs": [
    {
     "data": {
      "text/html": [
       "<div>\n",
       "<style scoped>\n",
       "    .dataframe tbody tr th:only-of-type {\n",
       "        vertical-align: middle;\n",
       "    }\n",
       "\n",
       "    .dataframe tbody tr th {\n",
       "        vertical-align: top;\n",
       "    }\n",
       "\n",
       "    .dataframe thead th {\n",
       "        text-align: right;\n",
       "    }\n",
       "</style>\n",
       "<table border=\"1\" class=\"dataframe\">\n",
       "  <thead>\n",
       "    <tr style=\"text-align: right;\">\n",
       "      <th></th>\n",
       "      <th>id</th>\n",
       "      <th>ShipmentStatus</th>\n",
       "      <th>Shipments</th>\n",
       "    </tr>\n",
       "  </thead>\n",
       "  <tbody>\n",
       "    <tr>\n",
       "      <th>0</th>\n",
       "      <td>245676</td>\n",
       "      <td>Released</td>\n",
       "      <td>5</td>\n",
       "    </tr>\n",
       "    <tr>\n",
       "      <th>1</th>\n",
       "      <td>245678</td>\n",
       "      <td>Released</td>\n",
       "      <td>17</td>\n",
       "    </tr>\n",
       "  </tbody>\n",
       "</table>\n",
       "</div>"
      ],
      "text/plain": [
       "       id ShipmentStatus  Shipments\n",
       "0  245676       Released          5\n",
       "1  245678       Released         17"
      ]
     },
     "execution_count": 5,
     "metadata": {},
     "output_type": "execute_result"
    }
   ],
   "source": [
    "# Count Shipments per Wave and Status\n",
    "count_shipments_statusdf = df.groupby(['id', 'ShipmentStatus']).count()[['Shipments']]\n",
    "count_shipments_statusdf.reset_index(inplace=True)\n",
    "count_shipments_statusdf.tail()"
   ]
  },
  {
   "cell_type": "code",
   "execution_count": 6,
   "id": "5a210b35",
   "metadata": {
    "execution": {
     "iopub.execute_input": "2022-09-04T20:42:11.001184Z",
     "iopub.status.busy": "2022-09-04T20:42:11.001184Z",
     "iopub.status.idle": "2022-09-04T20:42:11.029164Z",
     "shell.execute_reply": "2022-09-04T20:42:11.028634Z"
    }
   },
   "outputs": [
    {
     "data": {
      "text/html": [
       "<div>\n",
       "<style scoped>\n",
       "    .dataframe tbody tr th:only-of-type {\n",
       "        vertical-align: middle;\n",
       "    }\n",
       "\n",
       "    .dataframe tbody tr th {\n",
       "        vertical-align: top;\n",
       "    }\n",
       "\n",
       "    .dataframe thead th {\n",
       "        text-align: right;\n",
       "    }\n",
       "</style>\n",
       "<table border=\"1\" class=\"dataframe\">\n",
       "  <thead>\n",
       "    <tr style=\"text-align: right;\">\n",
       "      <th>ShipmentStatus</th>\n",
       "      <th>Released</th>\n",
       "    </tr>\n",
       "    <tr>\n",
       "      <th>id</th>\n",
       "      <th></th>\n",
       "    </tr>\n",
       "  </thead>\n",
       "  <tbody>\n",
       "    <tr>\n",
       "      <th>245676</th>\n",
       "      <td>5</td>\n",
       "    </tr>\n",
       "    <tr>\n",
       "      <th>245678</th>\n",
       "      <td>17</td>\n",
       "    </tr>\n",
       "  </tbody>\n",
       "</table>\n",
       "</div>"
      ],
      "text/plain": [
       "ShipmentStatus  Released\n",
       "id                      \n",
       "245676                 5\n",
       "245678                17"
      ]
     },
     "execution_count": 6,
     "metadata": {},
     "output_type": "execute_result"
    }
   ],
   "source": [
    "# Convert Statuses to Columns\n",
    "shipment_pivot = count_shipments_statusdf.pivot(index='id', columns='ShipmentStatus', values='Shipments')\n",
    "shipment_pivot.tail()"
   ]
  },
  {
   "cell_type": "code",
   "execution_count": 7,
   "id": "d292f585",
   "metadata": {
    "execution": {
     "iopub.execute_input": "2022-09-04T20:42:11.032215Z",
     "iopub.status.busy": "2022-09-04T20:42:11.032215Z",
     "iopub.status.idle": "2022-09-04T20:42:11.045230Z",
     "shell.execute_reply": "2022-09-04T20:42:11.044259Z"
    }
   },
   "outputs": [
    {
     "data": {
      "text/html": [
       "<div>\n",
       "<style scoped>\n",
       "    .dataframe tbody tr th:only-of-type {\n",
       "        vertical-align: middle;\n",
       "    }\n",
       "\n",
       "    .dataframe tbody tr th {\n",
       "        vertical-align: top;\n",
       "    }\n",
       "\n",
       "    .dataframe thead th {\n",
       "        text-align: right;\n",
       "    }\n",
       "</style>\n",
       "<table border=\"1\" class=\"dataframe\">\n",
       "  <thead>\n",
       "    <tr style=\"text-align: right;\">\n",
       "      <th>ShipmentStatus</th>\n",
       "      <th>Released</th>\n",
       "    </tr>\n",
       "    <tr>\n",
       "      <th>id</th>\n",
       "      <th></th>\n",
       "    </tr>\n",
       "  </thead>\n",
       "  <tbody>\n",
       "    <tr>\n",
       "      <th>245676</th>\n",
       "      <td>5</td>\n",
       "    </tr>\n",
       "    <tr>\n",
       "      <th>245678</th>\n",
       "      <td>17</td>\n",
       "    </tr>\n",
       "  </tbody>\n",
       "</table>\n",
       "</div>"
      ],
      "text/plain": [
       "ShipmentStatus  Released\n",
       "id                      \n",
       "245676                 5\n",
       "245678                17"
      ]
     },
     "execution_count": 7,
     "metadata": {},
     "output_type": "execute_result"
    }
   ],
   "source": [
    "# Convert NaN to 0\n",
    "shipment_pivot = shipment_pivot.fillna(0)\n",
    "shipment_pivot.head()"
   ]
  },
  {
   "cell_type": "code",
   "execution_count": 8,
   "id": "8a2d9f19",
   "metadata": {
    "execution": {
     "iopub.execute_input": "2022-09-04T20:42:11.048230Z",
     "iopub.status.busy": "2022-09-04T20:42:11.048230Z",
     "iopub.status.idle": "2022-09-04T20:42:11.075985Z",
     "shell.execute_reply": "2022-09-04T20:42:11.075216Z"
    }
   },
   "outputs": [
    {
     "name": "stdout",
     "output_type": "stream",
     "text": [
      "Column Completed does not exist yet\n",
      "Column Executing does not exist yet\n"
     ]
    },
    {
     "data": {
      "text/html": [
       "<div>\n",
       "<style scoped>\n",
       "    .dataframe tbody tr th:only-of-type {\n",
       "        vertical-align: middle;\n",
       "    }\n",
       "\n",
       "    .dataframe tbody tr th {\n",
       "        vertical-align: top;\n",
       "    }\n",
       "\n",
       "    .dataframe thead th {\n",
       "        text-align: right;\n",
       "    }\n",
       "</style>\n",
       "<table border=\"1\" class=\"dataframe\">\n",
       "  <thead>\n",
       "    <tr style=\"text-align: right;\">\n",
       "      <th>ShipmentStatus</th>\n",
       "      <th>Released</th>\n",
       "    </tr>\n",
       "    <tr>\n",
       "      <th>id</th>\n",
       "      <th></th>\n",
       "    </tr>\n",
       "  </thead>\n",
       "  <tbody>\n",
       "    <tr>\n",
       "      <th>245676</th>\n",
       "      <td>5</td>\n",
       "    </tr>\n",
       "    <tr>\n",
       "      <th>245678</th>\n",
       "      <td>17</td>\n",
       "    </tr>\n",
       "  </tbody>\n",
       "</table>\n",
       "</div>"
      ],
      "text/plain": [
       "ShipmentStatus  Released\n",
       "id                      \n",
       "245676                 5\n",
       "245678                17"
      ]
     },
     "execution_count": 8,
     "metadata": {},
     "output_type": "execute_result"
    }
   ],
   "source": [
    "# Convert Float to Int\n",
    "try:\n",
    "    shipment_pivot['Completed'] = shipment_pivot['Completed'].astype(int)\n",
    "except:\n",
    "    print('Column Completed does not exist yet')\n",
    "\n",
    "try:\n",
    "    shipment_pivot['Executing'] = shipment_pivot['Executing'].astype(int)\n",
    "except:\n",
    "    print('Column Executing does not exist yet')\n",
    "\n",
    "try:\n",
    "    shipment_pivot['Released'] = shipment_pivot['Released'].astype(int)\n",
    "except:\n",
    "    print('Column Released does not exist yet')\n",
    "\n",
    "shipment_pivot.head()"
   ]
  },
  {
   "cell_type": "code",
   "execution_count": 9,
   "id": "dd56ac2a",
   "metadata": {
    "execution": {
     "iopub.execute_input": "2022-09-04T20:42:11.079016Z",
     "iopub.status.busy": "2022-09-04T20:42:11.079016Z",
     "iopub.status.idle": "2022-09-04T20:42:11.092043Z",
     "shell.execute_reply": "2022-09-04T20:42:11.091043Z"
    }
   },
   "outputs": [
    {
     "data": {
      "text/html": [
       "<div>\n",
       "<style scoped>\n",
       "    .dataframe tbody tr th:only-of-type {\n",
       "        vertical-align: middle;\n",
       "    }\n",
       "\n",
       "    .dataframe tbody tr th {\n",
       "        vertical-align: top;\n",
       "    }\n",
       "\n",
       "    .dataframe thead th {\n",
       "        text-align: right;\n",
       "    }\n",
       "</style>\n",
       "<table border=\"1\" class=\"dataframe\">\n",
       "  <thead>\n",
       "    <tr style=\"text-align: right;\">\n",
       "      <th>ShipmentStatus</th>\n",
       "      <th>id</th>\n",
       "      <th>Released</th>\n",
       "    </tr>\n",
       "  </thead>\n",
       "  <tbody>\n",
       "    <tr>\n",
       "      <th>0</th>\n",
       "      <td>245676</td>\n",
       "      <td>5</td>\n",
       "    </tr>\n",
       "    <tr>\n",
       "      <th>1</th>\n",
       "      <td>245678</td>\n",
       "      <td>17</td>\n",
       "    </tr>\n",
       "  </tbody>\n",
       "</table>\n",
       "</div>"
      ],
      "text/plain": [
       "ShipmentStatus      id  Released\n",
       "0               245676         5\n",
       "1               245678        17"
      ]
     },
     "execution_count": 9,
     "metadata": {},
     "output_type": "execute_result"
    }
   ],
   "source": [
    "# Convert id index to a column\n",
    "shipment_pivot.reset_index(inplace=True)\n",
    "shipment_pivot.head()"
   ]
  },
  {
   "cell_type": "code",
   "execution_count": 10,
   "id": "732ec321",
   "metadata": {
    "execution": {
     "iopub.execute_input": "2022-09-04T20:42:11.095041Z",
     "iopub.status.busy": "2022-09-04T20:42:11.095041Z",
     "iopub.status.idle": "2022-09-04T20:42:11.107077Z",
     "shell.execute_reply": "2022-09-04T20:42:11.106348Z"
    }
   },
   "outputs": [
    {
     "name": "stdout",
     "output_type": "stream",
     "text": [
      "Column Completed does not exist yet\n",
      "Column Executing does not exist yet\n"
     ]
    },
    {
     "data": {
      "text/html": [
       "<div>\n",
       "<style scoped>\n",
       "    .dataframe tbody tr th:only-of-type {\n",
       "        vertical-align: middle;\n",
       "    }\n",
       "\n",
       "    .dataframe tbody tr th {\n",
       "        vertical-align: top;\n",
       "    }\n",
       "\n",
       "    .dataframe thead th {\n",
       "        text-align: right;\n",
       "    }\n",
       "</style>\n",
       "<table border=\"1\" class=\"dataframe\">\n",
       "  <thead>\n",
       "    <tr style=\"text-align: right;\">\n",
       "      <th>ShipmentStatus</th>\n",
       "      <th>id</th>\n",
       "      <th>Released</th>\n",
       "    </tr>\n",
       "  </thead>\n",
       "  <tbody>\n",
       "    <tr>\n",
       "      <th>0</th>\n",
       "      <td>245676</td>\n",
       "      <td>5</td>\n",
       "    </tr>\n",
       "    <tr>\n",
       "      <th>1</th>\n",
       "      <td>245678</td>\n",
       "      <td>17</td>\n",
       "    </tr>\n",
       "  </tbody>\n",
       "</table>\n",
       "</div>"
      ],
      "text/plain": [
       "ShipmentStatus      id  Released\n",
       "0               245676         5\n",
       "1               245678        17"
      ]
     },
     "execution_count": 10,
     "metadata": {},
     "output_type": "execute_result"
    }
   ],
   "source": [
    "# Convert zeros to blanks. This also change the data type to String\n",
    "try:\n",
    "    shipment_pivot['Completed'].replace([0, ''], '', inplace=True)\n",
    "except:\n",
    "    print('Column Completed does not exist yet')\n",
    "    \n",
    "try:\n",
    "    shipment_pivot['Executing'].replace([0, ''], '', inplace=True)\n",
    "except:\n",
    "    print('Column Executing does not exist yet')\n",
    "\n",
    "try:\n",
    "    shipment_pivot['Released'].replace([0, ''], '', inplace=True)\n",
    "except:\n",
    "    print('Column Released does not exist yet')\n",
    "    \n",
    "shipment_pivot.head()"
   ]
  },
  {
   "cell_type": "code",
   "execution_count": 11,
   "id": "0f1d4b18",
   "metadata": {
    "execution": {
     "iopub.execute_input": "2022-09-04T20:42:11.110075Z",
     "iopub.status.busy": "2022-09-04T20:42:11.110075Z",
     "iopub.status.idle": "2022-09-04T20:42:11.122802Z",
     "shell.execute_reply": "2022-09-04T20:42:11.122292Z"
    }
   },
   "outputs": [
    {
     "data": {
      "text/plain": [
       "ShipmentStatus\n",
       "id          int64\n",
       "Released    int32\n",
       "dtype: object"
      ]
     },
     "execution_count": 11,
     "metadata": {},
     "output_type": "execute_result"
    }
   ],
   "source": [
    "shipment_pivot.dtypes"
   ]
  },
  {
   "cell_type": "code",
   "execution_count": 12,
   "id": "86c90f9e",
   "metadata": {
    "execution": {
     "iopub.execute_input": "2022-09-04T20:42:11.126846Z",
     "iopub.status.busy": "2022-09-04T20:42:11.125812Z",
     "iopub.status.idle": "2022-09-04T20:42:11.138933Z",
     "shell.execute_reply": "2022-09-04T20:42:11.137943Z"
    }
   },
   "outputs": [],
   "source": [
    "# Change columns order\n",
    "df = df[['Date', 'id', 'Warehouse', 'Customer']]"
   ]
  },
  {
   "cell_type": "code",
   "execution_count": 13,
   "id": "c398d4ee",
   "metadata": {
    "execution": {
     "iopub.execute_input": "2022-09-04T20:42:11.141909Z",
     "iopub.status.busy": "2022-09-04T20:42:11.140942Z",
     "iopub.status.idle": "2022-09-04T20:42:11.153961Z",
     "shell.execute_reply": "2022-09-04T20:42:11.152963Z"
    }
   },
   "outputs": [],
   "source": [
    "# Drops duplicates\n",
    "df = df.drop_duplicates()"
   ]
  },
  {
   "cell_type": "code",
   "execution_count": 14,
   "id": "2db34f0d",
   "metadata": {
    "execution": {
     "iopub.execute_input": "2022-09-04T20:42:11.156956Z",
     "iopub.status.busy": "2022-09-04T20:42:11.155990Z",
     "iopub.status.idle": "2022-09-04T20:42:11.169646Z",
     "shell.execute_reply": "2022-09-04T20:42:11.168610Z"
    }
   },
   "outputs": [
    {
     "data": {
      "text/html": [
       "<div>\n",
       "<style scoped>\n",
       "    .dataframe tbody tr th:only-of-type {\n",
       "        vertical-align: middle;\n",
       "    }\n",
       "\n",
       "    .dataframe tbody tr th {\n",
       "        vertical-align: top;\n",
       "    }\n",
       "\n",
       "    .dataframe thead th {\n",
       "        text-align: right;\n",
       "    }\n",
       "</style>\n",
       "<table border=\"1\" class=\"dataframe\">\n",
       "  <thead>\n",
       "    <tr style=\"text-align: right;\">\n",
       "      <th></th>\n",
       "      <th>Date</th>\n",
       "      <th>id</th>\n",
       "      <th>Warehouse</th>\n",
       "      <th>Customer</th>\n",
       "    </tr>\n",
       "  </thead>\n",
       "  <tbody>\n",
       "    <tr>\n",
       "      <th>0</th>\n",
       "      <td>Sep  5 2022  8:30AM</td>\n",
       "      <td>245676</td>\n",
       "      <td>10</td>\n",
       "      <td>Methapharm, Inc.</td>\n",
       "    </tr>\n",
       "    <tr>\n",
       "      <th>5</th>\n",
       "      <td>Sep  5 2022  8:30AM</td>\n",
       "      <td>245678</td>\n",
       "      <td>10</td>\n",
       "      <td>Methapharm, Inc.</td>\n",
       "    </tr>\n",
       "  </tbody>\n",
       "</table>\n",
       "</div>"
      ],
      "text/plain": [
       "                  Date      id Warehouse          Customer\n",
       "0  Sep  5 2022  8:30AM  245676        10  Methapharm, Inc.\n",
       "5  Sep  5 2022  8:30AM  245678        10  Methapharm, Inc."
      ]
     },
     "execution_count": 14,
     "metadata": {},
     "output_type": "execute_result"
    }
   ],
   "source": [
    "df.head(10)"
   ]
  },
  {
   "cell_type": "code",
   "execution_count": 15,
   "id": "1bcb0348",
   "metadata": {
    "execution": {
     "iopub.execute_input": "2022-09-04T20:42:11.172661Z",
     "iopub.status.busy": "2022-09-04T20:42:11.171643Z",
     "iopub.status.idle": "2022-09-04T20:42:11.185610Z",
     "shell.execute_reply": "2022-09-04T20:42:11.184857Z"
    }
   },
   "outputs": [
    {
     "data": {
      "text/html": [
       "<div>\n",
       "<style scoped>\n",
       "    .dataframe tbody tr th:only-of-type {\n",
       "        vertical-align: middle;\n",
       "    }\n",
       "\n",
       "    .dataframe tbody tr th {\n",
       "        vertical-align: top;\n",
       "    }\n",
       "\n",
       "    .dataframe thead th {\n",
       "        text-align: right;\n",
       "    }\n",
       "</style>\n",
       "<table border=\"1\" class=\"dataframe\">\n",
       "  <thead>\n",
       "    <tr style=\"text-align: right;\">\n",
       "      <th></th>\n",
       "      <th>Date</th>\n",
       "      <th>id</th>\n",
       "      <th>Warehouse</th>\n",
       "      <th>Customer</th>\n",
       "      <th>Released</th>\n",
       "    </tr>\n",
       "  </thead>\n",
       "  <tbody>\n",
       "    <tr>\n",
       "      <th>0</th>\n",
       "      <td>Sep  5 2022  8:30AM</td>\n",
       "      <td>245676</td>\n",
       "      <td>10</td>\n",
       "      <td>Methapharm, Inc.</td>\n",
       "      <td>5</td>\n",
       "    </tr>\n",
       "    <tr>\n",
       "      <th>1</th>\n",
       "      <td>Sep  5 2022  8:30AM</td>\n",
       "      <td>245678</td>\n",
       "      <td>10</td>\n",
       "      <td>Methapharm, Inc.</td>\n",
       "      <td>17</td>\n",
       "    </tr>\n",
       "  </tbody>\n",
       "</table>\n",
       "</div>"
      ],
      "text/plain": [
       "                  Date      id Warehouse          Customer  Released\n",
       "0  Sep  5 2022  8:30AM  245676        10  Methapharm, Inc.         5\n",
       "1  Sep  5 2022  8:30AM  245678        10  Methapharm, Inc.        17"
      ]
     },
     "execution_count": 15,
     "metadata": {},
     "output_type": "execute_result"
    }
   ],
   "source": [
    "# Merge df with pivot table\n",
    "df2 = df.merge(shipment_pivot, left_on='id', right_on='id')\n",
    "df2.head(10)"
   ]
  },
  {
   "cell_type": "code",
   "execution_count": 16,
   "id": "27c97993",
   "metadata": {
    "execution": {
     "iopub.execute_input": "2022-09-04T20:42:11.188645Z",
     "iopub.status.busy": "2022-09-04T20:42:11.188645Z",
     "iopub.status.idle": "2022-09-04T20:42:11.201650Z",
     "shell.execute_reply": "2022-09-04T20:42:11.200611Z"
    }
   },
   "outputs": [],
   "source": [
    "wave_df = pd.DataFrame()\n",
    "statuses = list(df2.columns)\n",
    "\n",
    "# Reorder columns\n",
    "if ('Released' in statuses) and ('Executing' in statuses) and ('Completed' in statuses):\n",
    "    wave_df = df2[['Date', 'id', 'Warehouse', 'Customer', 'Released', 'Executing', 'Completed']]\n",
    "elif ('Released' in statuses) and ('Executing' in statuses):\n",
    "    wave_df = df2[['Date', 'id', 'Warehouse', 'Customer', 'Released', 'Executing']]\n",
    "elif ('Released' in statuses) and ('Completed' in statuses):\n",
    "    wave_df = df2[['Date', 'id', 'Warehouse', 'Customer', 'Released', 'Completed']]\n",
    "elif ('Released' in statuses):\n",
    "    wave_df = df2[['Date', 'id', 'Warehouse', 'Customer', 'Released']]\n",
    "else:\n",
    "    wave_df = df2[['Date', 'id', 'Warehouse', 'Customer']]"
   ]
  },
  {
   "cell_type": "code",
   "execution_count": 17,
   "id": "0980b3ed",
   "metadata": {
    "execution": {
     "iopub.execute_input": "2022-09-04T20:42:11.204609Z",
     "iopub.status.busy": "2022-09-04T20:42:11.204609Z",
     "iopub.status.idle": "2022-09-04T20:42:11.217613Z",
     "shell.execute_reply": "2022-09-04T20:42:11.216653Z"
    }
   },
   "outputs": [
    {
     "data": {
      "text/html": [
       "<div>\n",
       "<style scoped>\n",
       "    .dataframe tbody tr th:only-of-type {\n",
       "        vertical-align: middle;\n",
       "    }\n",
       "\n",
       "    .dataframe tbody tr th {\n",
       "        vertical-align: top;\n",
       "    }\n",
       "\n",
       "    .dataframe thead th {\n",
       "        text-align: right;\n",
       "    }\n",
       "</style>\n",
       "<table border=\"1\" class=\"dataframe\">\n",
       "  <thead>\n",
       "    <tr style=\"text-align: right;\">\n",
       "      <th></th>\n",
       "      <th>Date</th>\n",
       "      <th>id</th>\n",
       "      <th>Warehouse</th>\n",
       "      <th>Customer</th>\n",
       "      <th>Released</th>\n",
       "    </tr>\n",
       "  </thead>\n",
       "  <tbody>\n",
       "    <tr>\n",
       "      <th>0</th>\n",
       "      <td>Sep  5 2022  8:30AM</td>\n",
       "      <td>245676</td>\n",
       "      <td>10</td>\n",
       "      <td>Methapharm, Inc.</td>\n",
       "      <td>5</td>\n",
       "    </tr>\n",
       "    <tr>\n",
       "      <th>1</th>\n",
       "      <td>Sep  5 2022  8:30AM</td>\n",
       "      <td>245678</td>\n",
       "      <td>10</td>\n",
       "      <td>Methapharm, Inc.</td>\n",
       "      <td>17</td>\n",
       "    </tr>\n",
       "  </tbody>\n",
       "</table>\n",
       "</div>"
      ],
      "text/plain": [
       "                  Date      id Warehouse          Customer  Released\n",
       "0  Sep  5 2022  8:30AM  245676        10  Methapharm, Inc.         5\n",
       "1  Sep  5 2022  8:30AM  245678        10  Methapharm, Inc.        17"
      ]
     },
     "execution_count": 17,
     "metadata": {},
     "output_type": "execute_result"
    }
   ],
   "source": [
    "wave_df.head(10)"
   ]
  },
  {
   "cell_type": "code",
   "execution_count": 18,
   "id": "19117df3",
   "metadata": {
    "execution": {
     "iopub.execute_input": "2022-09-04T20:42:11.220610Z",
     "iopub.status.busy": "2022-09-04T20:42:11.220610Z",
     "iopub.status.idle": "2022-09-04T20:42:11.233281Z",
     "shell.execute_reply": "2022-09-04T20:42:11.232772Z"
    }
   },
   "outputs": [],
   "source": [
    "# Save Waves DF into json file\n",
    "wave_df.to_json('data/waves.json')"
   ]
  },
  {
   "cell_type": "markdown",
   "id": "0509bd7b",
   "metadata": {},
   "source": [
    "# Warehouse Pie Chart Data"
   ]
  },
  {
   "cell_type": "code",
   "execution_count": 19,
   "id": "8f7a231b",
   "metadata": {
    "execution": {
     "iopub.execute_input": "2022-09-04T20:42:11.236323Z",
     "iopub.status.busy": "2022-09-04T20:42:11.236323Z",
     "iopub.status.idle": "2022-09-04T20:42:11.249275Z",
     "shell.execute_reply": "2022-09-04T20:42:11.248759Z"
    }
   },
   "outputs": [
    {
     "data": {
      "text/html": [
       "<div>\n",
       "<style scoped>\n",
       "    .dataframe tbody tr th:only-of-type {\n",
       "        vertical-align: middle;\n",
       "    }\n",
       "\n",
       "    .dataframe tbody tr th {\n",
       "        vertical-align: top;\n",
       "    }\n",
       "\n",
       "    .dataframe thead th {\n",
       "        text-align: right;\n",
       "    }\n",
       "</style>\n",
       "<table border=\"1\" class=\"dataframe\">\n",
       "  <thead>\n",
       "    <tr style=\"text-align: right;\">\n",
       "      <th></th>\n",
       "      <th>Date</th>\n",
       "      <th>id</th>\n",
       "      <th>Warehouse</th>\n",
       "      <th>Customer</th>\n",
       "      <th>Released</th>\n",
       "    </tr>\n",
       "  </thead>\n",
       "  <tbody>\n",
       "    <tr>\n",
       "      <th>0</th>\n",
       "      <td>Sep  5 2022  8:30AM</td>\n",
       "      <td>245676</td>\n",
       "      <td>10</td>\n",
       "      <td>Methapharm, Inc.</td>\n",
       "      <td>5</td>\n",
       "    </tr>\n",
       "    <tr>\n",
       "      <th>1</th>\n",
       "      <td>Sep  5 2022  8:30AM</td>\n",
       "      <td>245678</td>\n",
       "      <td>10</td>\n",
       "      <td>Methapharm, Inc.</td>\n",
       "      <td>17</td>\n",
       "    </tr>\n",
       "  </tbody>\n",
       "</table>\n",
       "</div>"
      ],
      "text/plain": [
       "                  Date      id Warehouse          Customer  Released\n",
       "0  Sep  5 2022  8:30AM  245676        10  Methapharm, Inc.         5\n",
       "1  Sep  5 2022  8:30AM  245678        10  Methapharm, Inc.        17"
      ]
     },
     "execution_count": 19,
     "metadata": {},
     "output_type": "execute_result"
    }
   ],
   "source": [
    "# Save df2 in df3\n",
    "warehouse_df = wave_df\n",
    "warehouse_df.head()"
   ]
  },
  {
   "cell_type": "code",
   "execution_count": 20,
   "id": "74bc202e",
   "metadata": {
    "execution": {
     "iopub.execute_input": "2022-09-04T20:42:11.252288Z",
     "iopub.status.busy": "2022-09-04T20:42:11.252288Z",
     "iopub.status.idle": "2022-09-04T20:42:11.264287Z",
     "shell.execute_reply": "2022-09-04T20:42:11.264287Z"
    }
   },
   "outputs": [
    {
     "name": "stdout",
     "output_type": "stream",
     "text": [
      "Column Executing does not exist yet\n",
      "Column Completed does not exist yet\n"
     ]
    },
    {
     "data": {
      "text/html": [
       "<div>\n",
       "<style scoped>\n",
       "    .dataframe tbody tr th:only-of-type {\n",
       "        vertical-align: middle;\n",
       "    }\n",
       "\n",
       "    .dataframe tbody tr th {\n",
       "        vertical-align: top;\n",
       "    }\n",
       "\n",
       "    .dataframe thead th {\n",
       "        text-align: right;\n",
       "    }\n",
       "</style>\n",
       "<table border=\"1\" class=\"dataframe\">\n",
       "  <thead>\n",
       "    <tr style=\"text-align: right;\">\n",
       "      <th></th>\n",
       "      <th>Date</th>\n",
       "      <th>id</th>\n",
       "      <th>Warehouse</th>\n",
       "      <th>Customer</th>\n",
       "      <th>Released</th>\n",
       "    </tr>\n",
       "  </thead>\n",
       "  <tbody>\n",
       "    <tr>\n",
       "      <th>0</th>\n",
       "      <td>Sep  5 2022  8:30AM</td>\n",
       "      <td>245676</td>\n",
       "      <td>10</td>\n",
       "      <td>Methapharm, Inc.</td>\n",
       "      <td>5</td>\n",
       "    </tr>\n",
       "    <tr>\n",
       "      <th>1</th>\n",
       "      <td>Sep  5 2022  8:30AM</td>\n",
       "      <td>245678</td>\n",
       "      <td>10</td>\n",
       "      <td>Methapharm, Inc.</td>\n",
       "      <td>17</td>\n",
       "    </tr>\n",
       "  </tbody>\n",
       "</table>\n",
       "</div>"
      ],
      "text/plain": [
       "                  Date      id Warehouse          Customer  Released\n",
       "0  Sep  5 2022  8:30AM  245676        10  Methapharm, Inc.         5\n",
       "1  Sep  5 2022  8:30AM  245678        10  Methapharm, Inc.        17"
      ]
     },
     "execution_count": 20,
     "metadata": {},
     "output_type": "execute_result"
    }
   ],
   "source": [
    "# Conver String to Float\n",
    "try:\n",
    "    warehouse_df['Released'] = pd.to_numeric(warehouse_df['Released'],errors='coerce')\n",
    "except:\n",
    "    print('Column Released does not exist yet')\n",
    "\n",
    "try:\n",
    "    warehouse_df['Executing'] = pd.to_numeric(warehouse_df['Executing'],errors='coerce')\n",
    "except:\n",
    "    print('Column Executing does not exist yet')\n",
    "\n",
    "try:\n",
    "    warehouse_df['Completed'] = pd.to_numeric(warehouse_df['Completed'],errors='coerce')\n",
    "except:\n",
    "    print('Column Completed does not exist yet')\n",
    "\n",
    "warehouse_df.head()"
   ]
  },
  {
   "cell_type": "code",
   "execution_count": 21,
   "id": "d80e31c0",
   "metadata": {
    "execution": {
     "iopub.execute_input": "2022-09-04T20:42:11.267287Z",
     "iopub.status.busy": "2022-09-04T20:42:11.267287Z",
     "iopub.status.idle": "2022-09-04T20:42:11.296234Z",
     "shell.execute_reply": "2022-09-04T20:42:11.295506Z"
    }
   },
   "outputs": [
    {
     "data": {
      "text/html": [
       "<div>\n",
       "<style scoped>\n",
       "    .dataframe tbody tr th:only-of-type {\n",
       "        vertical-align: middle;\n",
       "    }\n",
       "\n",
       "    .dataframe tbody tr th {\n",
       "        vertical-align: top;\n",
       "    }\n",
       "\n",
       "    .dataframe thead th {\n",
       "        text-align: right;\n",
       "    }\n",
       "</style>\n",
       "<table border=\"1\" class=\"dataframe\">\n",
       "  <thead>\n",
       "    <tr style=\"text-align: right;\">\n",
       "      <th></th>\n",
       "      <th>Date</th>\n",
       "      <th>id</th>\n",
       "      <th>Warehouse</th>\n",
       "      <th>Customer</th>\n",
       "      <th>Released</th>\n",
       "    </tr>\n",
       "  </thead>\n",
       "  <tbody>\n",
       "    <tr>\n",
       "      <th>0</th>\n",
       "      <td>Sep  5 2022  8:30AM</td>\n",
       "      <td>245676</td>\n",
       "      <td>10</td>\n",
       "      <td>Methapharm, Inc.</td>\n",
       "      <td>5</td>\n",
       "    </tr>\n",
       "    <tr>\n",
       "      <th>1</th>\n",
       "      <td>Sep  5 2022  8:30AM</td>\n",
       "      <td>245678</td>\n",
       "      <td>10</td>\n",
       "      <td>Methapharm, Inc.</td>\n",
       "      <td>17</td>\n",
       "    </tr>\n",
       "  </tbody>\n",
       "</table>\n",
       "</div>"
      ],
      "text/plain": [
       "                  Date      id Warehouse          Customer  Released\n",
       "0  Sep  5 2022  8:30AM  245676        10  Methapharm, Inc.         5\n",
       "1  Sep  5 2022  8:30AM  245678        10  Methapharm, Inc.        17"
      ]
     },
     "execution_count": 21,
     "metadata": {},
     "output_type": "execute_result"
    }
   ],
   "source": [
    "# Conver NaN to Zero\n",
    "warehouse_df = warehouse_df.fillna(0)\n",
    "warehouse_df.head()"
   ]
  },
  {
   "cell_type": "code",
   "execution_count": 22,
   "id": "8151af58",
   "metadata": {
    "execution": {
     "iopub.execute_input": "2022-09-04T20:42:11.299225Z",
     "iopub.status.busy": "2022-09-04T20:42:11.299225Z",
     "iopub.status.idle": "2022-09-04T20:42:11.312228Z",
     "shell.execute_reply": "2022-09-04T20:42:11.311587Z"
    }
   },
   "outputs": [
    {
     "data": {
      "text/html": [
       "<div>\n",
       "<style scoped>\n",
       "    .dataframe tbody tr th:only-of-type {\n",
       "        vertical-align: middle;\n",
       "    }\n",
       "\n",
       "    .dataframe tbody tr th {\n",
       "        vertical-align: top;\n",
       "    }\n",
       "\n",
       "    .dataframe thead th {\n",
       "        text-align: right;\n",
       "    }\n",
       "</style>\n",
       "<table border=\"1\" class=\"dataframe\">\n",
       "  <thead>\n",
       "    <tr style=\"text-align: right;\">\n",
       "      <th></th>\n",
       "      <th>id</th>\n",
       "      <th>Released</th>\n",
       "    </tr>\n",
       "    <tr>\n",
       "      <th>Warehouse</th>\n",
       "      <th></th>\n",
       "      <th></th>\n",
       "    </tr>\n",
       "  </thead>\n",
       "  <tbody>\n",
       "    <tr>\n",
       "      <th>10</th>\n",
       "      <td>491354</td>\n",
       "      <td>22</td>\n",
       "    </tr>\n",
       "  </tbody>\n",
       "</table>\n",
       "</div>"
      ],
      "text/plain": [
       "               id  Released\n",
       "Warehouse                  \n",
       "10         491354        22"
      ]
     },
     "execution_count": 22,
     "metadata": {},
     "output_type": "execute_result"
    }
   ],
   "source": [
    "# Group by Warehouse\n",
    "warehouse_df = warehouse_df.groupby(['Warehouse']).sum()\n",
    "warehouse_df"
   ]
  },
  {
   "cell_type": "code",
   "execution_count": 23,
   "id": "634c80cc",
   "metadata": {
    "execution": {
     "iopub.execute_input": "2022-09-04T20:42:11.316263Z",
     "iopub.status.busy": "2022-09-04T20:42:11.315257Z",
     "iopub.status.idle": "2022-09-04T20:42:11.327224Z",
     "shell.execute_reply": "2022-09-04T20:42:11.327224Z"
    }
   },
   "outputs": [
    {
     "data": {
      "text/html": [
       "<div>\n",
       "<style scoped>\n",
       "    .dataframe tbody tr th:only-of-type {\n",
       "        vertical-align: middle;\n",
       "    }\n",
       "\n",
       "    .dataframe tbody tr th {\n",
       "        vertical-align: top;\n",
       "    }\n",
       "\n",
       "    .dataframe thead th {\n",
       "        text-align: right;\n",
       "    }\n",
       "</style>\n",
       "<table border=\"1\" class=\"dataframe\">\n",
       "  <thead>\n",
       "    <tr style=\"text-align: right;\">\n",
       "      <th></th>\n",
       "      <th>Warehouse</th>\n",
       "      <th>id</th>\n",
       "      <th>Released</th>\n",
       "    </tr>\n",
       "  </thead>\n",
       "  <tbody>\n",
       "    <tr>\n",
       "      <th>0</th>\n",
       "      <td>10</td>\n",
       "      <td>491354</td>\n",
       "      <td>22</td>\n",
       "    </tr>\n",
       "  </tbody>\n",
       "</table>\n",
       "</div>"
      ],
      "text/plain": [
       "  Warehouse      id  Released\n",
       "0        10  491354        22"
      ]
     },
     "execution_count": 23,
     "metadata": {},
     "output_type": "execute_result"
    }
   ],
   "source": [
    "# Reset Index\n",
    "warehouse_df.reset_index(inplace=True)\n",
    "warehouse_df"
   ]
  },
  {
   "cell_type": "code",
   "execution_count": 24,
   "id": "f9246e74",
   "metadata": {
    "execution": {
     "iopub.execute_input": "2022-09-04T20:42:11.331257Z",
     "iopub.status.busy": "2022-09-04T20:42:11.330262Z",
     "iopub.status.idle": "2022-09-04T20:42:11.343941Z",
     "shell.execute_reply": "2022-09-04T20:42:11.343432Z"
    }
   },
   "outputs": [
    {
     "data": {
      "text/html": [
       "<div>\n",
       "<style scoped>\n",
       "    .dataframe tbody tr th:only-of-type {\n",
       "        vertical-align: middle;\n",
       "    }\n",
       "\n",
       "    .dataframe tbody tr th {\n",
       "        vertical-align: top;\n",
       "    }\n",
       "\n",
       "    .dataframe thead th {\n",
       "        text-align: right;\n",
       "    }\n",
       "</style>\n",
       "<table border=\"1\" class=\"dataframe\">\n",
       "  <thead>\n",
       "    <tr style=\"text-align: right;\">\n",
       "      <th></th>\n",
       "      <th>Warehouse</th>\n",
       "      <th>Released</th>\n",
       "    </tr>\n",
       "  </thead>\n",
       "  <tbody>\n",
       "    <tr>\n",
       "      <th>0</th>\n",
       "      <td>10</td>\n",
       "      <td>22</td>\n",
       "    </tr>\n",
       "  </tbody>\n",
       "</table>\n",
       "</div>"
      ],
      "text/plain": [
       "  Warehouse  Released\n",
       "0        10        22"
      ]
     },
     "execution_count": 24,
     "metadata": {},
     "output_type": "execute_result"
    }
   ],
   "source": [
    "warehouses = list(warehouse_df.columns)\n",
    "warehouse_df2 = pd.DataFrame()\n",
    "\n",
    "if ('Released' in warehouses) and ('Executing' in warehouses) and ('Completed' in warehouses):\n",
    "    warehouse_df2 = warehouse_df[['Warehouse', 'Released', 'Executing', 'Completed']]\n",
    "elif ('Released' in warehouses) and ('Executing' in warehouses):\n",
    "    warehouse_df2 = warehouse_df[['Warehouse', 'Released', 'Executing']]\n",
    "elif ('Released' in warehouses) and ('Completed' in warehouses):\n",
    "    warehouse_df2 = warehouse_df[['Warehouse', 'Released', 'Completed']]\n",
    "elif ('Released' in warehouses):\n",
    "    warehouse_df2 = warehouse_df[['Warehouse', 'Released']]\n",
    "else:\n",
    "    warehouse_df2 = warehouse_df[['Warehouse']]\n",
    "\n",
    "warehouse_df2"
   ]
  },
  {
   "cell_type": "code",
   "execution_count": 25,
   "id": "25719670",
   "metadata": {
    "execution": {
     "iopub.execute_input": "2022-09-04T20:42:11.346986Z",
     "iopub.status.busy": "2022-09-04T20:42:11.346986Z",
     "iopub.status.idle": "2022-09-04T20:42:11.375126Z",
     "shell.execute_reply": "2022-09-04T20:42:11.374392Z"
    }
   },
   "outputs": [
    {
     "data": {
      "text/html": [
       "<div>\n",
       "<style scoped>\n",
       "    .dataframe tbody tr th:only-of-type {\n",
       "        vertical-align: middle;\n",
       "    }\n",
       "\n",
       "    .dataframe tbody tr th {\n",
       "        vertical-align: top;\n",
       "    }\n",
       "\n",
       "    .dataframe thead th {\n",
       "        text-align: right;\n",
       "    }\n",
       "</style>\n",
       "<table border=\"1\" class=\"dataframe\">\n",
       "  <thead>\n",
       "    <tr style=\"text-align: right;\">\n",
       "      <th></th>\n",
       "      <th>Warehouse</th>\n",
       "      <th>Status</th>\n",
       "      <th>Value</th>\n",
       "    </tr>\n",
       "  </thead>\n",
       "  <tbody>\n",
       "    <tr>\n",
       "      <th>0</th>\n",
       "      <td>10</td>\n",
       "      <td>Released</td>\n",
       "      <td>22</td>\n",
       "    </tr>\n",
       "  </tbody>\n",
       "</table>\n",
       "</div>"
      ],
      "text/plain": [
       "  Warehouse    Status  Value\n",
       "0        10  Released     22"
      ]
     },
     "execution_count": 25,
     "metadata": {},
     "output_type": "execute_result"
    }
   ],
   "source": [
    "warehouse_df2 = pd.melt(warehouse_df2, id_vars=[\"Warehouse\"], \n",
    "                  var_name=\"Status\", value_name=\"Value\")\n",
    "warehouse_df2.head()"
   ]
  },
  {
   "cell_type": "code",
   "execution_count": 26,
   "id": "0441825e",
   "metadata": {
    "execution": {
     "iopub.execute_input": "2022-09-04T20:42:11.379117Z",
     "iopub.status.busy": "2022-09-04T20:42:11.378150Z",
     "iopub.status.idle": "2022-09-04T20:42:11.391125Z",
     "shell.execute_reply": "2022-09-04T20:42:11.390155Z"
    }
   },
   "outputs": [
    {
     "data": {
      "text/html": [
       "<div>\n",
       "<style scoped>\n",
       "    .dataframe tbody tr th:only-of-type {\n",
       "        vertical-align: middle;\n",
       "    }\n",
       "\n",
       "    .dataframe tbody tr th {\n",
       "        vertical-align: top;\n",
       "    }\n",
       "\n",
       "    .dataframe thead th {\n",
       "        text-align: right;\n",
       "    }\n",
       "</style>\n",
       "<table border=\"1\" class=\"dataframe\">\n",
       "  <thead>\n",
       "    <tr style=\"text-align: right;\">\n",
       "      <th>Warehouse</th>\n",
       "      <th>10</th>\n",
       "    </tr>\n",
       "    <tr>\n",
       "      <th>Status</th>\n",
       "      <th></th>\n",
       "    </tr>\n",
       "  </thead>\n",
       "  <tbody>\n",
       "    <tr>\n",
       "      <th>Released</th>\n",
       "      <td>22</td>\n",
       "    </tr>\n",
       "  </tbody>\n",
       "</table>\n",
       "</div>"
      ],
      "text/plain": [
       "Warehouse  10\n",
       "Status       \n",
       "Released   22"
      ]
     },
     "execution_count": 26,
     "metadata": {},
     "output_type": "execute_result"
    }
   ],
   "source": [
    "warehouse_df3 = warehouse_df2.pivot(index ='Status', columns='Warehouse', values='Value')\n",
    "warehouse_df3"
   ]
  },
  {
   "cell_type": "code",
   "execution_count": 27,
   "id": "74ed4c78",
   "metadata": {
    "execution": {
     "iopub.execute_input": "2022-09-04T20:42:11.394119Z",
     "iopub.status.busy": "2022-09-04T20:42:11.394119Z",
     "iopub.status.idle": "2022-09-04T20:42:11.407120Z",
     "shell.execute_reply": "2022-09-04T20:42:11.406117Z"
    }
   },
   "outputs": [
    {
     "data": {
      "text/html": [
       "<div>\n",
       "<style scoped>\n",
       "    .dataframe tbody tr th:only-of-type {\n",
       "        vertical-align: middle;\n",
       "    }\n",
       "\n",
       "    .dataframe tbody tr th {\n",
       "        vertical-align: top;\n",
       "    }\n",
       "\n",
       "    .dataframe thead th {\n",
       "        text-align: right;\n",
       "    }\n",
       "</style>\n",
       "<table border=\"1\" class=\"dataframe\">\n",
       "  <thead>\n",
       "    <tr style=\"text-align: right;\">\n",
       "      <th>Warehouse</th>\n",
       "      <th>Status</th>\n",
       "      <th>10</th>\n",
       "    </tr>\n",
       "  </thead>\n",
       "  <tbody>\n",
       "    <tr>\n",
       "      <th>0</th>\n",
       "      <td>Released</td>\n",
       "      <td>22</td>\n",
       "    </tr>\n",
       "  </tbody>\n",
       "</table>\n",
       "</div>"
      ],
      "text/plain": [
       "Warehouse    Status  10\n",
       "0          Released  22"
      ]
     },
     "execution_count": 27,
     "metadata": {},
     "output_type": "execute_result"
    }
   ],
   "source": [
    "warehouse_df4 = warehouse_df3.reset_index()\n",
    "warehouse_df4"
   ]
  },
  {
   "cell_type": "code",
   "execution_count": 28,
   "id": "fa16a5ad",
   "metadata": {
    "execution": {
     "iopub.execute_input": "2022-09-04T20:42:11.410119Z",
     "iopub.status.busy": "2022-09-04T20:42:11.410119Z",
     "iopub.status.idle": "2022-09-04T20:42:11.422166Z",
     "shell.execute_reply": "2022-09-04T20:42:11.421421Z"
    }
   },
   "outputs": [
    {
     "data": {
      "text/html": [
       "<div>\n",
       "<style scoped>\n",
       "    .dataframe tbody tr th:only-of-type {\n",
       "        vertical-align: middle;\n",
       "    }\n",
       "\n",
       "    .dataframe tbody tr th {\n",
       "        vertical-align: top;\n",
       "    }\n",
       "\n",
       "    .dataframe thead th {\n",
       "        text-align: right;\n",
       "    }\n",
       "</style>\n",
       "<table border=\"1\" class=\"dataframe\">\n",
       "  <thead>\n",
       "    <tr style=\"text-align: right;\">\n",
       "      <th></th>\n",
       "      <th>Status</th>\n",
       "      <th>10</th>\n",
       "    </tr>\n",
       "  </thead>\n",
       "  <tbody>\n",
       "    <tr>\n",
       "      <th>0</th>\n",
       "      <td>Released</td>\n",
       "      <td>22</td>\n",
       "    </tr>\n",
       "  </tbody>\n",
       "</table>\n",
       "</div>"
      ],
      "text/plain": [
       "     Status  10\n",
       "0  Released  22"
      ]
     },
     "execution_count": 28,
     "metadata": {},
     "output_type": "execute_result"
    }
   ],
   "source": [
    "warehouse_df4 = warehouse_df4.rename_axis(None, axis=1)\n",
    "warehouse_df4"
   ]
  },
  {
   "cell_type": "code",
   "execution_count": 29,
   "id": "be505001",
   "metadata": {
    "execution": {
     "iopub.execute_input": "2022-09-04T20:42:11.425199Z",
     "iopub.status.busy": "2022-09-04T20:42:11.425199Z",
     "iopub.status.idle": "2022-09-04T20:42:11.438168Z",
     "shell.execute_reply": "2022-09-04T20:42:11.437197Z"
    }
   },
   "outputs": [],
   "source": [
    "# Save Warehouse into JSON file\n",
    "warehouse_df4.to_json('data/warehouse.json')"
   ]
  },
  {
   "cell_type": "code",
   "execution_count": 30,
   "id": "6137ffa2",
   "metadata": {
    "execution": {
     "iopub.execute_input": "2022-09-04T20:42:11.441168Z",
     "iopub.status.busy": "2022-09-04T20:42:11.441168Z",
     "iopub.status.idle": "2022-09-04T20:42:11.453843Z",
     "shell.execute_reply": "2022-09-04T20:42:11.453335Z"
    }
   },
   "outputs": [],
   "source": [
    "# Close connection\n",
    "cnxn.close()"
   ]
  },
  {
   "cell_type": "code",
   "execution_count": null,
   "id": "30f09d04",
   "metadata": {},
   "outputs": [],
   "source": []
  }
 ],
 "metadata": {
  "kernelspec": {
   "display_name": "PythonData",
   "language": "python",
   "name": "pythondata"
  },
  "language_info": {
   "codemirror_mode": {
    "name": "ipython",
    "version": 3
   },
   "file_extension": ".py",
   "mimetype": "text/x-python",
   "name": "python",
   "nbconvert_exporter": "python",
   "pygments_lexer": "ipython3",
   "version": "3.7.11"
  }
 },
 "nbformat": 4,
 "nbformat_minor": 5
}
