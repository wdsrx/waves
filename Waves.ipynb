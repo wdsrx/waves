{
 "cells": [
  {
   "cell_type": "markdown",
   "id": "ca7e8c24",
   "metadata": {},
   "source": [
    "# WAVES"
   ]
  },
  {
   "cell_type": "code",
   "execution_count": 1,
   "id": "ade09779",
   "metadata": {
    "execution": {
     "iopub.execute_input": "2022-06-26T00:37:13.877826Z",
     "iopub.status.busy": "2022-06-26T00:37:13.876826Z",
     "iopub.status.idle": "2022-06-26T00:37:14.408032Z",
     "shell.execute_reply": "2022-06-26T00:37:14.407259Z"
    }
   },
   "outputs": [],
   "source": [
    "import pyodbc\n",
    "import pandas as pd"
   ]
  },
  {
   "cell_type": "code",
   "execution_count": 2,
   "id": "10a73873",
   "metadata": {
    "execution": {
     "iopub.execute_input": "2022-06-26T00:37:14.411015Z",
     "iopub.status.busy": "2022-06-26T00:37:14.411015Z",
     "iopub.status.idle": "2022-06-26T00:37:14.468949Z",
     "shell.execute_reply": "2022-06-26T00:37:14.468429Z"
    }
   },
   "outputs": [],
   "source": [
    "cnxn = pyodbc.connect(\"Driver={SQL Server Native Client 11.0};\"\n",
    "                        \"Server=wd02;\"\n",
    "                        \"Database=FootPrint;\"\n",
    "                        \"Trusted_Connection=yes;\")"
   ]
  },
  {
   "cell_type": "markdown",
   "id": "49f49c4d",
   "metadata": {},
   "source": [
    "### Query"
   ]
  },
  {
   "cell_type": "code",
   "execution_count": 3,
   "id": "a36ea14d",
   "metadata": {
    "execution": {
     "iopub.execute_input": "2022-06-26T00:37:14.472997Z",
     "iopub.status.busy": "2022-06-26T00:37:14.471965Z",
     "iopub.status.idle": "2022-06-26T00:37:15.269956Z",
     "shell.execute_reply": "2022-06-26T00:37:15.266838Z"
    }
   },
   "outputs": [],
   "source": [
    "df = pd.read_sql_query(\"SELECT CONVERT(varchar,w.releaseDate,100) Date, w.id, wa.name Warehouse, s.lookupCode Shipments, p.name Customer, ss.name ShipmentStatus\\\n",
    "    FROM datex_footprint.Waves w\\\n",
    "    JOIN datex_footprint.WaveStatuses ws\\\n",
    "        ON ws.id = w.statusId\\\n",
    "    JOIN datex_footprint.Warehouses wa\\\n",
    "        ON wa.id = w.warehouseId\\\n",
    "    JOIN datex_footprint.shipments s\\\n",
    "        ON s.waveId = w.id\\\n",
    "    JOIN datex_footprint.ShipmentOrderLookup sol\\\n",
    "        ON sol.shipmentId = s.id\\\n",
    "    JOIN datex_footprint.Orders o\\\n",
    "        ON o.id = sol.orderId\\\n",
    "    JOIN datex_footprint.Projects p\\\n",
    "        ON p.id = o.projectId\\\n",
    "    JOIN datex_footprint.ShipmentStatuses ss\\\n",
    "        ON ss.id = s.statusId\\\n",
    "    WHERE releaseDate > dateadd(day,-1,getdate())\\\n",
    "        AND w.statusId = 3\\\n",
    "    ORDER BY releaseDate DESC\", cnxn)"
   ]
  },
  {
   "cell_type": "markdown",
   "id": "e7150e3c",
   "metadata": {},
   "source": [
    "# Create Waves Table Data"
   ]
  },
  {
   "cell_type": "code",
   "execution_count": 4,
   "id": "845a7997",
   "metadata": {
    "execution": {
     "iopub.execute_input": "2022-06-26T00:37:15.279958Z",
     "iopub.status.busy": "2022-06-26T00:37:15.278969Z",
     "iopub.status.idle": "2022-06-26T00:37:15.348226Z",
     "shell.execute_reply": "2022-06-26T00:37:15.345662Z"
    }
   },
   "outputs": [
    {
     "data": {
      "text/html": [
       "<div>\n",
       "<style scoped>\n",
       "    .dataframe tbody tr th:only-of-type {\n",
       "        vertical-align: middle;\n",
       "    }\n",
       "\n",
       "    .dataframe tbody tr th {\n",
       "        vertical-align: top;\n",
       "    }\n",
       "\n",
       "    .dataframe thead th {\n",
       "        text-align: right;\n",
       "    }\n",
       "</style>\n",
       "<table border=\"1\" class=\"dataframe\">\n",
       "  <thead>\n",
       "    <tr style=\"text-align: right;\">\n",
       "      <th></th>\n",
       "      <th>Date</th>\n",
       "      <th>id</th>\n",
       "      <th>Warehouse</th>\n",
       "      <th>Shipments</th>\n",
       "      <th>Customer</th>\n",
       "      <th>ShipmentStatus</th>\n",
       "    </tr>\n",
       "  </thead>\n",
       "  <tbody>\n",
       "    <tr>\n",
       "      <th>0</th>\n",
       "      <td>Jun 25 2022 11:25AM</td>\n",
       "      <td>240452</td>\n",
       "      <td>22</td>\n",
       "      <td>618975</td>\n",
       "      <td>NBTY Global, Inc.</td>\n",
       "      <td>Released</td>\n",
       "    </tr>\n",
       "    <tr>\n",
       "      <th>1</th>\n",
       "      <td>Jun 25 2022 11:24AM</td>\n",
       "      <td>240451</td>\n",
       "      <td>22</td>\n",
       "      <td>618971</td>\n",
       "      <td>NBTY Global, Inc.</td>\n",
       "      <td>Released</td>\n",
       "    </tr>\n",
       "  </tbody>\n",
       "</table>\n",
       "</div>"
      ],
      "text/plain": [
       "                  Date      id Warehouse Shipments           Customer  \\\n",
       "0  Jun 25 2022 11:25AM  240452        22    618975  NBTY Global, Inc.   \n",
       "1  Jun 25 2022 11:24AM  240451        22    618971  NBTY Global, Inc.   \n",
       "\n",
       "  ShipmentStatus  \n",
       "0       Released  \n",
       "1       Released  "
      ]
     },
     "execution_count": 4,
     "metadata": {},
     "output_type": "execute_result"
    }
   ],
   "source": [
    "df.head(10)"
   ]
  },
  {
   "cell_type": "code",
   "execution_count": 5,
   "id": "fbdc4124",
   "metadata": {
    "execution": {
     "iopub.execute_input": "2022-06-26T00:37:15.358232Z",
     "iopub.status.busy": "2022-06-26T00:37:15.357226Z",
     "iopub.status.idle": "2022-06-26T00:37:15.410917Z",
     "shell.execute_reply": "2022-06-26T00:37:15.408054Z"
    }
   },
   "outputs": [
    {
     "data": {
      "text/html": [
       "<div>\n",
       "<style scoped>\n",
       "    .dataframe tbody tr th:only-of-type {\n",
       "        vertical-align: middle;\n",
       "    }\n",
       "\n",
       "    .dataframe tbody tr th {\n",
       "        vertical-align: top;\n",
       "    }\n",
       "\n",
       "    .dataframe thead th {\n",
       "        text-align: right;\n",
       "    }\n",
       "</style>\n",
       "<table border=\"1\" class=\"dataframe\">\n",
       "  <thead>\n",
       "    <tr style=\"text-align: right;\">\n",
       "      <th></th>\n",
       "      <th>id</th>\n",
       "      <th>ShipmentStatus</th>\n",
       "      <th>Shipments</th>\n",
       "    </tr>\n",
       "  </thead>\n",
       "  <tbody>\n",
       "    <tr>\n",
       "      <th>0</th>\n",
       "      <td>240451</td>\n",
       "      <td>Released</td>\n",
       "      <td>1</td>\n",
       "    </tr>\n",
       "    <tr>\n",
       "      <th>1</th>\n",
       "      <td>240452</td>\n",
       "      <td>Released</td>\n",
       "      <td>1</td>\n",
       "    </tr>\n",
       "  </tbody>\n",
       "</table>\n",
       "</div>"
      ],
      "text/plain": [
       "       id ShipmentStatus  Shipments\n",
       "0  240451       Released          1\n",
       "1  240452       Released          1"
      ]
     },
     "execution_count": 5,
     "metadata": {},
     "output_type": "execute_result"
    }
   ],
   "source": [
    "# Count Shipments per Wave and Status\n",
    "count_shipments_statusdf = df.groupby(['id', 'ShipmentStatus']).count()[['Shipments']]\n",
    "count_shipments_statusdf.reset_index(inplace=True)\n",
    "count_shipments_statusdf.tail()"
   ]
  },
  {
   "cell_type": "code",
   "execution_count": 6,
   "id": "5a210b35",
   "metadata": {
    "execution": {
     "iopub.execute_input": "2022-06-26T00:37:15.420920Z",
     "iopub.status.busy": "2022-06-26T00:37:15.419927Z",
     "iopub.status.idle": "2022-06-26T00:37:15.456948Z",
     "shell.execute_reply": "2022-06-26T00:37:15.454561Z"
    }
   },
   "outputs": [
    {
     "data": {
      "text/html": [
       "<div>\n",
       "<style scoped>\n",
       "    .dataframe tbody tr th:only-of-type {\n",
       "        vertical-align: middle;\n",
       "    }\n",
       "\n",
       "    .dataframe tbody tr th {\n",
       "        vertical-align: top;\n",
       "    }\n",
       "\n",
       "    .dataframe thead th {\n",
       "        text-align: right;\n",
       "    }\n",
       "</style>\n",
       "<table border=\"1\" class=\"dataframe\">\n",
       "  <thead>\n",
       "    <tr style=\"text-align: right;\">\n",
       "      <th>ShipmentStatus</th>\n",
       "      <th>Released</th>\n",
       "    </tr>\n",
       "    <tr>\n",
       "      <th>id</th>\n",
       "      <th></th>\n",
       "    </tr>\n",
       "  </thead>\n",
       "  <tbody>\n",
       "    <tr>\n",
       "      <th>240451</th>\n",
       "      <td>1</td>\n",
       "    </tr>\n",
       "    <tr>\n",
       "      <th>240452</th>\n",
       "      <td>1</td>\n",
       "    </tr>\n",
       "  </tbody>\n",
       "</table>\n",
       "</div>"
      ],
      "text/plain": [
       "ShipmentStatus  Released\n",
       "id                      \n",
       "240451                 1\n",
       "240452                 1"
      ]
     },
     "execution_count": 6,
     "metadata": {},
     "output_type": "execute_result"
    }
   ],
   "source": [
    "# Convert Statuses to Columns\n",
    "shipment_pivot = count_shipments_statusdf.pivot(index='id', columns='ShipmentStatus', values='Shipments')\n",
    "shipment_pivot.tail()"
   ]
  },
  {
   "cell_type": "code",
   "execution_count": 7,
   "id": "d292f585",
   "metadata": {
    "execution": {
     "iopub.execute_input": "2022-06-26T00:37:15.467000Z",
     "iopub.status.busy": "2022-06-26T00:37:15.466003Z",
     "iopub.status.idle": "2022-06-26T00:37:15.503938Z",
     "shell.execute_reply": "2022-06-26T00:37:15.500856Z"
    }
   },
   "outputs": [
    {
     "data": {
      "text/html": [
       "<div>\n",
       "<style scoped>\n",
       "    .dataframe tbody tr th:only-of-type {\n",
       "        vertical-align: middle;\n",
       "    }\n",
       "\n",
       "    .dataframe tbody tr th {\n",
       "        vertical-align: top;\n",
       "    }\n",
       "\n",
       "    .dataframe thead th {\n",
       "        text-align: right;\n",
       "    }\n",
       "</style>\n",
       "<table border=\"1\" class=\"dataframe\">\n",
       "  <thead>\n",
       "    <tr style=\"text-align: right;\">\n",
       "      <th>ShipmentStatus</th>\n",
       "      <th>Released</th>\n",
       "    </tr>\n",
       "    <tr>\n",
       "      <th>id</th>\n",
       "      <th></th>\n",
       "    </tr>\n",
       "  </thead>\n",
       "  <tbody>\n",
       "    <tr>\n",
       "      <th>240451</th>\n",
       "      <td>1</td>\n",
       "    </tr>\n",
       "    <tr>\n",
       "      <th>240452</th>\n",
       "      <td>1</td>\n",
       "    </tr>\n",
       "  </tbody>\n",
       "</table>\n",
       "</div>"
      ],
      "text/plain": [
       "ShipmentStatus  Released\n",
       "id                      \n",
       "240451                 1\n",
       "240452                 1"
      ]
     },
     "execution_count": 7,
     "metadata": {},
     "output_type": "execute_result"
    }
   ],
   "source": [
    "# Convert NaN to 0\n",
    "shipment_pivot = shipment_pivot.fillna(0)\n",
    "shipment_pivot.head()"
   ]
  },
  {
   "cell_type": "code",
   "execution_count": 8,
   "id": "8a2d9f19",
   "metadata": {
    "execution": {
     "iopub.execute_input": "2022-06-26T00:37:15.513940Z",
     "iopub.status.busy": "2022-06-26T00:37:15.512943Z",
     "iopub.status.idle": "2022-06-26T00:37:15.565808Z",
     "shell.execute_reply": "2022-06-26T00:37:15.563157Z"
    }
   },
   "outputs": [
    {
     "name": "stdout",
     "output_type": "stream",
     "text": [
      "Column Completed does not exist yet\n",
      "Column Executing does not exist yet\n"
     ]
    },
    {
     "data": {
      "text/html": [
       "<div>\n",
       "<style scoped>\n",
       "    .dataframe tbody tr th:only-of-type {\n",
       "        vertical-align: middle;\n",
       "    }\n",
       "\n",
       "    .dataframe tbody tr th {\n",
       "        vertical-align: top;\n",
       "    }\n",
       "\n",
       "    .dataframe thead th {\n",
       "        text-align: right;\n",
       "    }\n",
       "</style>\n",
       "<table border=\"1\" class=\"dataframe\">\n",
       "  <thead>\n",
       "    <tr style=\"text-align: right;\">\n",
       "      <th>ShipmentStatus</th>\n",
       "      <th>Released</th>\n",
       "    </tr>\n",
       "    <tr>\n",
       "      <th>id</th>\n",
       "      <th></th>\n",
       "    </tr>\n",
       "  </thead>\n",
       "  <tbody>\n",
       "    <tr>\n",
       "      <th>240451</th>\n",
       "      <td>1</td>\n",
       "    </tr>\n",
       "    <tr>\n",
       "      <th>240452</th>\n",
       "      <td>1</td>\n",
       "    </tr>\n",
       "  </tbody>\n",
       "</table>\n",
       "</div>"
      ],
      "text/plain": [
       "ShipmentStatus  Released\n",
       "id                      \n",
       "240451                 1\n",
       "240452                 1"
      ]
     },
     "execution_count": 8,
     "metadata": {},
     "output_type": "execute_result"
    }
   ],
   "source": [
    "# Convert Float to Int\n",
    "try:\n",
    "    shipment_pivot['Completed'] = shipment_pivot['Completed'].astype(int)\n",
    "except:\n",
    "    print('Column Completed does not exist yet')\n",
    "\n",
    "try:\n",
    "    shipment_pivot['Executing'] = shipment_pivot['Executing'].astype(int)\n",
    "except:\n",
    "    print('Column Executing does not exist yet')\n",
    "\n",
    "try:\n",
    "    shipment_pivot['Released'] = shipment_pivot['Released'].astype(int)\n",
    "except:\n",
    "    print('Column Released does not exist yet')\n",
    "\n",
    "shipment_pivot.head()"
   ]
  },
  {
   "cell_type": "code",
   "execution_count": 9,
   "id": "dd56ac2a",
   "metadata": {
    "execution": {
     "iopub.execute_input": "2022-06-26T00:37:15.574809Z",
     "iopub.status.busy": "2022-06-26T00:37:15.574809Z",
     "iopub.status.idle": "2022-06-26T00:37:15.610739Z",
     "shell.execute_reply": "2022-06-26T00:37:15.608733Z"
    }
   },
   "outputs": [
    {
     "data": {
      "text/html": [
       "<div>\n",
       "<style scoped>\n",
       "    .dataframe tbody tr th:only-of-type {\n",
       "        vertical-align: middle;\n",
       "    }\n",
       "\n",
       "    .dataframe tbody tr th {\n",
       "        vertical-align: top;\n",
       "    }\n",
       "\n",
       "    .dataframe thead th {\n",
       "        text-align: right;\n",
       "    }\n",
       "</style>\n",
       "<table border=\"1\" class=\"dataframe\">\n",
       "  <thead>\n",
       "    <tr style=\"text-align: right;\">\n",
       "      <th>ShipmentStatus</th>\n",
       "      <th>id</th>\n",
       "      <th>Released</th>\n",
       "    </tr>\n",
       "  </thead>\n",
       "  <tbody>\n",
       "    <tr>\n",
       "      <th>0</th>\n",
       "      <td>240451</td>\n",
       "      <td>1</td>\n",
       "    </tr>\n",
       "    <tr>\n",
       "      <th>1</th>\n",
       "      <td>240452</td>\n",
       "      <td>1</td>\n",
       "    </tr>\n",
       "  </tbody>\n",
       "</table>\n",
       "</div>"
      ],
      "text/plain": [
       "ShipmentStatus      id  Released\n",
       "0               240451         1\n",
       "1               240452         1"
      ]
     },
     "execution_count": 9,
     "metadata": {},
     "output_type": "execute_result"
    }
   ],
   "source": [
    "# Convert id index to a column\n",
    "shipment_pivot.reset_index(inplace=True)\n",
    "shipment_pivot.head()"
   ]
  },
  {
   "cell_type": "code",
   "execution_count": 10,
   "id": "732ec321",
   "metadata": {
    "execution": {
     "iopub.execute_input": "2022-06-26T00:37:15.616735Z",
     "iopub.status.busy": "2022-06-26T00:37:15.615735Z",
     "iopub.status.idle": "2022-06-26T00:37:15.640763Z",
     "shell.execute_reply": "2022-06-26T00:37:15.640763Z"
    }
   },
   "outputs": [
    {
     "name": "stdout",
     "output_type": "stream",
     "text": [
      "Column Completed does not exist yet\n",
      "Column Executing does not exist yet\n"
     ]
    },
    {
     "data": {
      "text/html": [
       "<div>\n",
       "<style scoped>\n",
       "    .dataframe tbody tr th:only-of-type {\n",
       "        vertical-align: middle;\n",
       "    }\n",
       "\n",
       "    .dataframe tbody tr th {\n",
       "        vertical-align: top;\n",
       "    }\n",
       "\n",
       "    .dataframe thead th {\n",
       "        text-align: right;\n",
       "    }\n",
       "</style>\n",
       "<table border=\"1\" class=\"dataframe\">\n",
       "  <thead>\n",
       "    <tr style=\"text-align: right;\">\n",
       "      <th>ShipmentStatus</th>\n",
       "      <th>id</th>\n",
       "      <th>Released</th>\n",
       "    </tr>\n",
       "  </thead>\n",
       "  <tbody>\n",
       "    <tr>\n",
       "      <th>0</th>\n",
       "      <td>240451</td>\n",
       "      <td>1</td>\n",
       "    </tr>\n",
       "    <tr>\n",
       "      <th>1</th>\n",
       "      <td>240452</td>\n",
       "      <td>1</td>\n",
       "    </tr>\n",
       "  </tbody>\n",
       "</table>\n",
       "</div>"
      ],
      "text/plain": [
       "ShipmentStatus      id  Released\n",
       "0               240451         1\n",
       "1               240452         1"
      ]
     },
     "execution_count": 10,
     "metadata": {},
     "output_type": "execute_result"
    }
   ],
   "source": [
    "# Convert zeros to blanks. This also change the data type to String\n",
    "try:\n",
    "    shipment_pivot['Completed'].replace([0, ''], '', inplace=True)\n",
    "except:\n",
    "    print('Column Completed does not exist yet')\n",
    "    \n",
    "try:\n",
    "    shipment_pivot['Executing'].replace([0, ''], '', inplace=True)\n",
    "except:\n",
    "    print('Column Executing does not exist yet')\n",
    "\n",
    "try:\n",
    "    shipment_pivot['Released'].replace([0, ''], '', inplace=True)\n",
    "except:\n",
    "    print('Column Released does not exist yet')\n",
    "    \n",
    "shipment_pivot.head()"
   ]
  },
  {
   "cell_type": "code",
   "execution_count": 11,
   "id": "0f1d4b18",
   "metadata": {
    "execution": {
     "iopub.execute_input": "2022-06-26T00:37:15.644730Z",
     "iopub.status.busy": "2022-06-26T00:37:15.643763Z",
     "iopub.status.idle": "2022-06-26T00:37:15.656364Z",
     "shell.execute_reply": "2022-06-26T00:37:15.655814Z"
    }
   },
   "outputs": [
    {
     "data": {
      "text/plain": [
       "ShipmentStatus\n",
       "id          int64\n",
       "Released    int32\n",
       "dtype: object"
      ]
     },
     "execution_count": 11,
     "metadata": {},
     "output_type": "execute_result"
    }
   ],
   "source": [
    "shipment_pivot.dtypes"
   ]
  },
  {
   "cell_type": "code",
   "execution_count": 12,
   "id": "86c90f9e",
   "metadata": {
    "execution": {
     "iopub.execute_input": "2022-06-26T00:37:15.659373Z",
     "iopub.status.busy": "2022-06-26T00:37:15.658404Z",
     "iopub.status.idle": "2022-06-26T00:37:15.672301Z",
     "shell.execute_reply": "2022-06-26T00:37:15.671787Z"
    }
   },
   "outputs": [],
   "source": [
    "# Change columns order\n",
    "df = df[['Date', 'id', 'Warehouse', 'Customer']]"
   ]
  },
  {
   "cell_type": "code",
   "execution_count": 13,
   "id": "c398d4ee",
   "metadata": {
    "execution": {
     "iopub.execute_input": "2022-06-26T00:37:15.674342Z",
     "iopub.status.busy": "2022-06-26T00:37:15.674342Z",
     "iopub.status.idle": "2022-06-26T00:37:15.688439Z",
     "shell.execute_reply": "2022-06-26T00:37:15.687436Z"
    }
   },
   "outputs": [],
   "source": [
    "# Drops duplicates\n",
    "df = df.drop_duplicates()"
   ]
  },
  {
   "cell_type": "code",
   "execution_count": 14,
   "id": "2db34f0d",
   "metadata": {
    "execution": {
     "iopub.execute_input": "2022-06-26T00:37:15.691474Z",
     "iopub.status.busy": "2022-06-26T00:37:15.691474Z",
     "iopub.status.idle": "2022-06-26T00:37:15.703474Z",
     "shell.execute_reply": "2022-06-26T00:37:15.702589Z"
    }
   },
   "outputs": [
    {
     "data": {
      "text/html": [
       "<div>\n",
       "<style scoped>\n",
       "    .dataframe tbody tr th:only-of-type {\n",
       "        vertical-align: middle;\n",
       "    }\n",
       "\n",
       "    .dataframe tbody tr th {\n",
       "        vertical-align: top;\n",
       "    }\n",
       "\n",
       "    .dataframe thead th {\n",
       "        text-align: right;\n",
       "    }\n",
       "</style>\n",
       "<table border=\"1\" class=\"dataframe\">\n",
       "  <thead>\n",
       "    <tr style=\"text-align: right;\">\n",
       "      <th></th>\n",
       "      <th>Date</th>\n",
       "      <th>id</th>\n",
       "      <th>Warehouse</th>\n",
       "      <th>Customer</th>\n",
       "    </tr>\n",
       "  </thead>\n",
       "  <tbody>\n",
       "    <tr>\n",
       "      <th>0</th>\n",
       "      <td>Jun 25 2022 11:25AM</td>\n",
       "      <td>240452</td>\n",
       "      <td>22</td>\n",
       "      <td>NBTY Global, Inc.</td>\n",
       "    </tr>\n",
       "    <tr>\n",
       "      <th>1</th>\n",
       "      <td>Jun 25 2022 11:24AM</td>\n",
       "      <td>240451</td>\n",
       "      <td>22</td>\n",
       "      <td>NBTY Global, Inc.</td>\n",
       "    </tr>\n",
       "  </tbody>\n",
       "</table>\n",
       "</div>"
      ],
      "text/plain": [
       "                  Date      id Warehouse           Customer\n",
       "0  Jun 25 2022 11:25AM  240452        22  NBTY Global, Inc.\n",
       "1  Jun 25 2022 11:24AM  240451        22  NBTY Global, Inc."
      ]
     },
     "execution_count": 14,
     "metadata": {},
     "output_type": "execute_result"
    }
   ],
   "source": [
    "df.head(10)"
   ]
  },
  {
   "cell_type": "code",
   "execution_count": 15,
   "id": "1bcb0348",
   "metadata": {
    "execution": {
     "iopub.execute_input": "2022-06-26T00:37:15.706467Z",
     "iopub.status.busy": "2022-06-26T00:37:15.706467Z",
     "iopub.status.idle": "2022-06-26T00:37:15.719574Z",
     "shell.execute_reply": "2022-06-26T00:37:15.718796Z"
    }
   },
   "outputs": [
    {
     "data": {
      "text/html": [
       "<div>\n",
       "<style scoped>\n",
       "    .dataframe tbody tr th:only-of-type {\n",
       "        vertical-align: middle;\n",
       "    }\n",
       "\n",
       "    .dataframe tbody tr th {\n",
       "        vertical-align: top;\n",
       "    }\n",
       "\n",
       "    .dataframe thead th {\n",
       "        text-align: right;\n",
       "    }\n",
       "</style>\n",
       "<table border=\"1\" class=\"dataframe\">\n",
       "  <thead>\n",
       "    <tr style=\"text-align: right;\">\n",
       "      <th></th>\n",
       "      <th>Date</th>\n",
       "      <th>id</th>\n",
       "      <th>Warehouse</th>\n",
       "      <th>Customer</th>\n",
       "      <th>Released</th>\n",
       "    </tr>\n",
       "  </thead>\n",
       "  <tbody>\n",
       "    <tr>\n",
       "      <th>0</th>\n",
       "      <td>Jun 25 2022 11:25AM</td>\n",
       "      <td>240452</td>\n",
       "      <td>22</td>\n",
       "      <td>NBTY Global, Inc.</td>\n",
       "      <td>1</td>\n",
       "    </tr>\n",
       "    <tr>\n",
       "      <th>1</th>\n",
       "      <td>Jun 25 2022 11:24AM</td>\n",
       "      <td>240451</td>\n",
       "      <td>22</td>\n",
       "      <td>NBTY Global, Inc.</td>\n",
       "      <td>1</td>\n",
       "    </tr>\n",
       "  </tbody>\n",
       "</table>\n",
       "</div>"
      ],
      "text/plain": [
       "                  Date      id Warehouse           Customer  Released\n",
       "0  Jun 25 2022 11:25AM  240452        22  NBTY Global, Inc.         1\n",
       "1  Jun 25 2022 11:24AM  240451        22  NBTY Global, Inc.         1"
      ]
     },
     "execution_count": 15,
     "metadata": {},
     "output_type": "execute_result"
    }
   ],
   "source": [
    "# Merge df with pivot table\n",
    "df2 = df.merge(shipment_pivot, left_on='id', right_on='id')\n",
    "df2.head(10)"
   ]
  },
  {
   "cell_type": "code",
   "execution_count": 16,
   "id": "27c97993",
   "metadata": {
    "execution": {
     "iopub.execute_input": "2022-06-26T00:37:15.722568Z",
     "iopub.status.busy": "2022-06-26T00:37:15.722568Z",
     "iopub.status.idle": "2022-06-26T00:37:15.735640Z",
     "shell.execute_reply": "2022-06-26T00:37:15.734639Z"
    }
   },
   "outputs": [],
   "source": [
    "wave_df = pd.DataFrame()\n",
    "statuses = list(df2.columns)\n",
    "\n",
    "# Reorder columns\n",
    "if ('Released' in statuses) and ('Executing' in statuses) and ('Completed' in statuses):\n",
    "    wave_df = df2[['Date', 'id', 'Warehouse', 'Customer', 'Released', 'Executing', 'Completed']]\n",
    "elif ('Released' in statuses) and ('Executing' in statuses):\n",
    "    wave_df = df2[['Date', 'id', 'Warehouse', 'Customer', 'Released', 'Executing']]\n",
    "elif ('Released' in statuses) and ('Completed' in statuses):\n",
    "    wave_df = df2[['Date', 'id', 'Warehouse', 'Customer', 'Released', 'Completed']]\n",
    "elif ('Released' in statuses):\n",
    "    wave_df = df2[['Date', 'id', 'Warehouse', 'Customer', 'Released']]\n",
    "else:\n",
    "    wave_df = df2[['Date', 'id', 'Warehouse', 'Customer']]"
   ]
  },
  {
   "cell_type": "code",
   "execution_count": 17,
   "id": "0980b3ed",
   "metadata": {
    "execution": {
     "iopub.execute_input": "2022-06-26T00:37:15.738640Z",
     "iopub.status.busy": "2022-06-26T00:37:15.738640Z",
     "iopub.status.idle": "2022-06-26T00:37:15.750429Z",
     "shell.execute_reply": "2022-06-26T00:37:15.749921Z"
    }
   },
   "outputs": [
    {
     "data": {
      "text/html": [
       "<div>\n",
       "<style scoped>\n",
       "    .dataframe tbody tr th:only-of-type {\n",
       "        vertical-align: middle;\n",
       "    }\n",
       "\n",
       "    .dataframe tbody tr th {\n",
       "        vertical-align: top;\n",
       "    }\n",
       "\n",
       "    .dataframe thead th {\n",
       "        text-align: right;\n",
       "    }\n",
       "</style>\n",
       "<table border=\"1\" class=\"dataframe\">\n",
       "  <thead>\n",
       "    <tr style=\"text-align: right;\">\n",
       "      <th></th>\n",
       "      <th>Date</th>\n",
       "      <th>id</th>\n",
       "      <th>Warehouse</th>\n",
       "      <th>Customer</th>\n",
       "      <th>Released</th>\n",
       "    </tr>\n",
       "  </thead>\n",
       "  <tbody>\n",
       "    <tr>\n",
       "      <th>0</th>\n",
       "      <td>Jun 25 2022 11:25AM</td>\n",
       "      <td>240452</td>\n",
       "      <td>22</td>\n",
       "      <td>NBTY Global, Inc.</td>\n",
       "      <td>1</td>\n",
       "    </tr>\n",
       "    <tr>\n",
       "      <th>1</th>\n",
       "      <td>Jun 25 2022 11:24AM</td>\n",
       "      <td>240451</td>\n",
       "      <td>22</td>\n",
       "      <td>NBTY Global, Inc.</td>\n",
       "      <td>1</td>\n",
       "    </tr>\n",
       "  </tbody>\n",
       "</table>\n",
       "</div>"
      ],
      "text/plain": [
       "                  Date      id Warehouse           Customer  Released\n",
       "0  Jun 25 2022 11:25AM  240452        22  NBTY Global, Inc.         1\n",
       "1  Jun 25 2022 11:24AM  240451        22  NBTY Global, Inc.         1"
      ]
     },
     "execution_count": 17,
     "metadata": {},
     "output_type": "execute_result"
    }
   ],
   "source": [
    "wave_df.head(10)"
   ]
  },
  {
   "cell_type": "code",
   "execution_count": 18,
   "id": "19117df3",
   "metadata": {
    "execution": {
     "iopub.execute_input": "2022-06-26T00:37:15.753440Z",
     "iopub.status.busy": "2022-06-26T00:37:15.753440Z",
     "iopub.status.idle": "2022-06-26T00:37:15.765777Z",
     "shell.execute_reply": "2022-06-26T00:37:15.765039Z"
    }
   },
   "outputs": [],
   "source": [
    "# Save Waves DF into json file\n",
    "wave_df.to_json('data/waves.json')"
   ]
  },
  {
   "cell_type": "markdown",
   "id": "0509bd7b",
   "metadata": {},
   "source": [
    "# Warehouse Pie Chart Data"
   ]
  },
  {
   "cell_type": "code",
   "execution_count": 19,
   "id": "8f7a231b",
   "metadata": {
    "execution": {
     "iopub.execute_input": "2022-06-26T00:37:15.768807Z",
     "iopub.status.busy": "2022-06-26T00:37:15.768807Z",
     "iopub.status.idle": "2022-06-26T00:37:15.781337Z",
     "shell.execute_reply": "2022-06-26T00:37:15.780828Z"
    }
   },
   "outputs": [
    {
     "data": {
      "text/html": [
       "<div>\n",
       "<style scoped>\n",
       "    .dataframe tbody tr th:only-of-type {\n",
       "        vertical-align: middle;\n",
       "    }\n",
       "\n",
       "    .dataframe tbody tr th {\n",
       "        vertical-align: top;\n",
       "    }\n",
       "\n",
       "    .dataframe thead th {\n",
       "        text-align: right;\n",
       "    }\n",
       "</style>\n",
       "<table border=\"1\" class=\"dataframe\">\n",
       "  <thead>\n",
       "    <tr style=\"text-align: right;\">\n",
       "      <th></th>\n",
       "      <th>Date</th>\n",
       "      <th>id</th>\n",
       "      <th>Warehouse</th>\n",
       "      <th>Customer</th>\n",
       "      <th>Released</th>\n",
       "    </tr>\n",
       "  </thead>\n",
       "  <tbody>\n",
       "    <tr>\n",
       "      <th>0</th>\n",
       "      <td>Jun 25 2022 11:25AM</td>\n",
       "      <td>240452</td>\n",
       "      <td>22</td>\n",
       "      <td>NBTY Global, Inc.</td>\n",
       "      <td>1</td>\n",
       "    </tr>\n",
       "    <tr>\n",
       "      <th>1</th>\n",
       "      <td>Jun 25 2022 11:24AM</td>\n",
       "      <td>240451</td>\n",
       "      <td>22</td>\n",
       "      <td>NBTY Global, Inc.</td>\n",
       "      <td>1</td>\n",
       "    </tr>\n",
       "  </tbody>\n",
       "</table>\n",
       "</div>"
      ],
      "text/plain": [
       "                  Date      id Warehouse           Customer  Released\n",
       "0  Jun 25 2022 11:25AM  240452        22  NBTY Global, Inc.         1\n",
       "1  Jun 25 2022 11:24AM  240451        22  NBTY Global, Inc.         1"
      ]
     },
     "execution_count": 19,
     "metadata": {},
     "output_type": "execute_result"
    }
   ],
   "source": [
    "# Save df2 in df3\n",
    "warehouse_df = wave_df\n",
    "warehouse_df.head()"
   ]
  },
  {
   "cell_type": "code",
   "execution_count": 20,
   "id": "74bc202e",
   "metadata": {
    "execution": {
     "iopub.execute_input": "2022-06-26T00:37:15.784379Z",
     "iopub.status.busy": "2022-06-26T00:37:15.784379Z",
     "iopub.status.idle": "2022-06-26T00:37:15.797347Z",
     "shell.execute_reply": "2022-06-26T00:37:15.796349Z"
    }
   },
   "outputs": [
    {
     "name": "stdout",
     "output_type": "stream",
     "text": [
      "Column Executing does not exist yet\n",
      "Column Completed does not exist yet\n"
     ]
    },
    {
     "data": {
      "text/html": [
       "<div>\n",
       "<style scoped>\n",
       "    .dataframe tbody tr th:only-of-type {\n",
       "        vertical-align: middle;\n",
       "    }\n",
       "\n",
       "    .dataframe tbody tr th {\n",
       "        vertical-align: top;\n",
       "    }\n",
       "\n",
       "    .dataframe thead th {\n",
       "        text-align: right;\n",
       "    }\n",
       "</style>\n",
       "<table border=\"1\" class=\"dataframe\">\n",
       "  <thead>\n",
       "    <tr style=\"text-align: right;\">\n",
       "      <th></th>\n",
       "      <th>Date</th>\n",
       "      <th>id</th>\n",
       "      <th>Warehouse</th>\n",
       "      <th>Customer</th>\n",
       "      <th>Released</th>\n",
       "    </tr>\n",
       "  </thead>\n",
       "  <tbody>\n",
       "    <tr>\n",
       "      <th>0</th>\n",
       "      <td>Jun 25 2022 11:25AM</td>\n",
       "      <td>240452</td>\n",
       "      <td>22</td>\n",
       "      <td>NBTY Global, Inc.</td>\n",
       "      <td>1</td>\n",
       "    </tr>\n",
       "    <tr>\n",
       "      <th>1</th>\n",
       "      <td>Jun 25 2022 11:24AM</td>\n",
       "      <td>240451</td>\n",
       "      <td>22</td>\n",
       "      <td>NBTY Global, Inc.</td>\n",
       "      <td>1</td>\n",
       "    </tr>\n",
       "  </tbody>\n",
       "</table>\n",
       "</div>"
      ],
      "text/plain": [
       "                  Date      id Warehouse           Customer  Released\n",
       "0  Jun 25 2022 11:25AM  240452        22  NBTY Global, Inc.         1\n",
       "1  Jun 25 2022 11:24AM  240451        22  NBTY Global, Inc.         1"
      ]
     },
     "execution_count": 20,
     "metadata": {},
     "output_type": "execute_result"
    }
   ],
   "source": [
    "# Conver String to Float\n",
    "try:\n",
    "    warehouse_df['Released'] = pd.to_numeric(warehouse_df['Released'],errors='coerce')\n",
    "except:\n",
    "    print('Column Released does not exist yet')\n",
    "\n",
    "try:\n",
    "    warehouse_df['Executing'] = pd.to_numeric(warehouse_df['Executing'],errors='coerce')\n",
    "except:\n",
    "    print('Column Executing does not exist yet')\n",
    "\n",
    "try:\n",
    "    warehouse_df['Completed'] = pd.to_numeric(warehouse_df['Completed'],errors='coerce')\n",
    "except:\n",
    "    print('Column Completed does not exist yet')\n",
    "\n",
    "warehouse_df.head()"
   ]
  },
  {
   "cell_type": "code",
   "execution_count": 21,
   "id": "d80e31c0",
   "metadata": {
    "execution": {
     "iopub.execute_input": "2022-06-26T00:37:15.799346Z",
     "iopub.status.busy": "2022-06-26T00:37:15.799346Z",
     "iopub.status.idle": "2022-06-26T00:37:15.813392Z",
     "shell.execute_reply": "2022-06-26T00:37:15.812377Z"
    }
   },
   "outputs": [
    {
     "data": {
      "text/html": [
       "<div>\n",
       "<style scoped>\n",
       "    .dataframe tbody tr th:only-of-type {\n",
       "        vertical-align: middle;\n",
       "    }\n",
       "\n",
       "    .dataframe tbody tr th {\n",
       "        vertical-align: top;\n",
       "    }\n",
       "\n",
       "    .dataframe thead th {\n",
       "        text-align: right;\n",
       "    }\n",
       "</style>\n",
       "<table border=\"1\" class=\"dataframe\">\n",
       "  <thead>\n",
       "    <tr style=\"text-align: right;\">\n",
       "      <th></th>\n",
       "      <th>Date</th>\n",
       "      <th>id</th>\n",
       "      <th>Warehouse</th>\n",
       "      <th>Customer</th>\n",
       "      <th>Released</th>\n",
       "    </tr>\n",
       "  </thead>\n",
       "  <tbody>\n",
       "    <tr>\n",
       "      <th>0</th>\n",
       "      <td>Jun 25 2022 11:25AM</td>\n",
       "      <td>240452</td>\n",
       "      <td>22</td>\n",
       "      <td>NBTY Global, Inc.</td>\n",
       "      <td>1</td>\n",
       "    </tr>\n",
       "    <tr>\n",
       "      <th>1</th>\n",
       "      <td>Jun 25 2022 11:24AM</td>\n",
       "      <td>240451</td>\n",
       "      <td>22</td>\n",
       "      <td>NBTY Global, Inc.</td>\n",
       "      <td>1</td>\n",
       "    </tr>\n",
       "  </tbody>\n",
       "</table>\n",
       "</div>"
      ],
      "text/plain": [
       "                  Date      id Warehouse           Customer  Released\n",
       "0  Jun 25 2022 11:25AM  240452        22  NBTY Global, Inc.         1\n",
       "1  Jun 25 2022 11:24AM  240451        22  NBTY Global, Inc.         1"
      ]
     },
     "execution_count": 21,
     "metadata": {},
     "output_type": "execute_result"
    }
   ],
   "source": [
    "# Conver NaN to Zero\n",
    "warehouse_df = warehouse_df.fillna(0)\n",
    "warehouse_df.head()"
   ]
  },
  {
   "cell_type": "code",
   "execution_count": 22,
   "id": "8151af58",
   "metadata": {
    "execution": {
     "iopub.execute_input": "2022-06-26T00:37:15.815346Z",
     "iopub.status.busy": "2022-06-26T00:37:15.815346Z",
     "iopub.status.idle": "2022-06-26T00:37:15.827705Z",
     "shell.execute_reply": "2022-06-26T00:37:15.827705Z"
    }
   },
   "outputs": [
    {
     "data": {
      "text/html": [
       "<div>\n",
       "<style scoped>\n",
       "    .dataframe tbody tr th:only-of-type {\n",
       "        vertical-align: middle;\n",
       "    }\n",
       "\n",
       "    .dataframe tbody tr th {\n",
       "        vertical-align: top;\n",
       "    }\n",
       "\n",
       "    .dataframe thead th {\n",
       "        text-align: right;\n",
       "    }\n",
       "</style>\n",
       "<table border=\"1\" class=\"dataframe\">\n",
       "  <thead>\n",
       "    <tr style=\"text-align: right;\">\n",
       "      <th></th>\n",
       "      <th>id</th>\n",
       "      <th>Released</th>\n",
       "    </tr>\n",
       "    <tr>\n",
       "      <th>Warehouse</th>\n",
       "      <th></th>\n",
       "      <th></th>\n",
       "    </tr>\n",
       "  </thead>\n",
       "  <tbody>\n",
       "    <tr>\n",
       "      <th>22</th>\n",
       "      <td>480903</td>\n",
       "      <td>2</td>\n",
       "    </tr>\n",
       "  </tbody>\n",
       "</table>\n",
       "</div>"
      ],
      "text/plain": [
       "               id  Released\n",
       "Warehouse                  \n",
       "22         480903         2"
      ]
     },
     "execution_count": 22,
     "metadata": {},
     "output_type": "execute_result"
    }
   ],
   "source": [
    "# Group by Warehouse\n",
    "warehouse_df = warehouse_df.groupby(['Warehouse']).sum()\n",
    "warehouse_df"
   ]
  },
  {
   "cell_type": "code",
   "execution_count": 23,
   "id": "634c80cc",
   "metadata": {
    "execution": {
     "iopub.execute_input": "2022-06-26T00:37:15.830612Z",
     "iopub.status.busy": "2022-06-26T00:37:15.830612Z",
     "iopub.status.idle": "2022-06-26T00:37:15.843854Z",
     "shell.execute_reply": "2022-06-26T00:37:15.842854Z"
    }
   },
   "outputs": [
    {
     "data": {
      "text/html": [
       "<div>\n",
       "<style scoped>\n",
       "    .dataframe tbody tr th:only-of-type {\n",
       "        vertical-align: middle;\n",
       "    }\n",
       "\n",
       "    .dataframe tbody tr th {\n",
       "        vertical-align: top;\n",
       "    }\n",
       "\n",
       "    .dataframe thead th {\n",
       "        text-align: right;\n",
       "    }\n",
       "</style>\n",
       "<table border=\"1\" class=\"dataframe\">\n",
       "  <thead>\n",
       "    <tr style=\"text-align: right;\">\n",
       "      <th></th>\n",
       "      <th>Warehouse</th>\n",
       "      <th>id</th>\n",
       "      <th>Released</th>\n",
       "    </tr>\n",
       "  </thead>\n",
       "  <tbody>\n",
       "    <tr>\n",
       "      <th>0</th>\n",
       "      <td>22</td>\n",
       "      <td>480903</td>\n",
       "      <td>2</td>\n",
       "    </tr>\n",
       "  </tbody>\n",
       "</table>\n",
       "</div>"
      ],
      "text/plain": [
       "  Warehouse      id  Released\n",
       "0        22  480903         2"
      ]
     },
     "execution_count": 23,
     "metadata": {},
     "output_type": "execute_result"
    }
   ],
   "source": [
    "# Reset Index\n",
    "warehouse_df.reset_index(inplace=True)\n",
    "warehouse_df"
   ]
  },
  {
   "cell_type": "code",
   "execution_count": 24,
   "id": "f9246e74",
   "metadata": {
    "execution": {
     "iopub.execute_input": "2022-06-26T00:37:15.845853Z",
     "iopub.status.busy": "2022-06-26T00:37:15.845853Z",
     "iopub.status.idle": "2022-06-26T00:37:15.859207Z",
     "shell.execute_reply": "2022-06-26T00:37:15.858437Z"
    }
   },
   "outputs": [
    {
     "data": {
      "text/html": [
       "<div>\n",
       "<style scoped>\n",
       "    .dataframe tbody tr th:only-of-type {\n",
       "        vertical-align: middle;\n",
       "    }\n",
       "\n",
       "    .dataframe tbody tr th {\n",
       "        vertical-align: top;\n",
       "    }\n",
       "\n",
       "    .dataframe thead th {\n",
       "        text-align: right;\n",
       "    }\n",
       "</style>\n",
       "<table border=\"1\" class=\"dataframe\">\n",
       "  <thead>\n",
       "    <tr style=\"text-align: right;\">\n",
       "      <th></th>\n",
       "      <th>Warehouse</th>\n",
       "      <th>Released</th>\n",
       "    </tr>\n",
       "  </thead>\n",
       "  <tbody>\n",
       "    <tr>\n",
       "      <th>0</th>\n",
       "      <td>22</td>\n",
       "      <td>2</td>\n",
       "    </tr>\n",
       "  </tbody>\n",
       "</table>\n",
       "</div>"
      ],
      "text/plain": [
       "  Warehouse  Released\n",
       "0        22         2"
      ]
     },
     "execution_count": 24,
     "metadata": {},
     "output_type": "execute_result"
    }
   ],
   "source": [
    "warehouses = list(warehouse_df.columns)\n",
    "warehouse_df2 = pd.DataFrame()\n",
    "\n",
    "if ('Released' in warehouses) and ('Executing' in warehouses) and ('Completed' in warehouses):\n",
    "    warehouse_df2 = warehouse_df[['Warehouse', 'Released', 'Executing', 'Completed']]\n",
    "elif ('Released' in warehouses) and ('Executing' in warehouses):\n",
    "    warehouse_df2 = warehouse_df[['Warehouse', 'Released', 'Executing']]\n",
    "elif ('Released' in warehouses) and ('Completed' in warehouses):\n",
    "    warehouse_df2 = warehouse_df[['Warehouse', 'Released', 'Completed']]\n",
    "elif ('Released' in warehouses):\n",
    "    warehouse_df2 = warehouse_df[['Warehouse', 'Released']]\n",
    "else:\n",
    "    warehouse_df2 = warehouse_df[['Warehouse']]\n",
    "\n",
    "warehouse_df2"
   ]
  },
  {
   "cell_type": "code",
   "execution_count": 25,
   "id": "25719670",
   "metadata": {
    "execution": {
     "iopub.execute_input": "2022-06-26T00:37:15.862205Z",
     "iopub.status.busy": "2022-06-26T00:37:15.862205Z",
     "iopub.status.idle": "2022-06-26T00:37:15.875316Z",
     "shell.execute_reply": "2022-06-26T00:37:15.874348Z"
    }
   },
   "outputs": [
    {
     "data": {
      "text/html": [
       "<div>\n",
       "<style scoped>\n",
       "    .dataframe tbody tr th:only-of-type {\n",
       "        vertical-align: middle;\n",
       "    }\n",
       "\n",
       "    .dataframe tbody tr th {\n",
       "        vertical-align: top;\n",
       "    }\n",
       "\n",
       "    .dataframe thead th {\n",
       "        text-align: right;\n",
       "    }\n",
       "</style>\n",
       "<table border=\"1\" class=\"dataframe\">\n",
       "  <thead>\n",
       "    <tr style=\"text-align: right;\">\n",
       "      <th></th>\n",
       "      <th>Warehouse</th>\n",
       "      <th>Status</th>\n",
       "      <th>Value</th>\n",
       "    </tr>\n",
       "  </thead>\n",
       "  <tbody>\n",
       "    <tr>\n",
       "      <th>0</th>\n",
       "      <td>22</td>\n",
       "      <td>Released</td>\n",
       "      <td>2</td>\n",
       "    </tr>\n",
       "  </tbody>\n",
       "</table>\n",
       "</div>"
      ],
      "text/plain": [
       "  Warehouse    Status  Value\n",
       "0        22  Released      2"
      ]
     },
     "execution_count": 25,
     "metadata": {},
     "output_type": "execute_result"
    }
   ],
   "source": [
    "warehouse_df2 = pd.melt(warehouse_df2, id_vars=[\"Warehouse\"], \n",
    "                  var_name=\"Status\", value_name=\"Value\")\n",
    "warehouse_df2.head()"
   ]
  },
  {
   "cell_type": "code",
   "execution_count": 26,
   "id": "0441825e",
   "metadata": {
    "execution": {
     "iopub.execute_input": "2022-06-26T00:37:15.877327Z",
     "iopub.status.busy": "2022-06-26T00:37:15.877327Z",
     "iopub.status.idle": "2022-06-26T00:37:15.890459Z",
     "shell.execute_reply": "2022-06-26T00:37:15.889948Z"
    }
   },
   "outputs": [
    {
     "data": {
      "text/html": [
       "<div>\n",
       "<style scoped>\n",
       "    .dataframe tbody tr th:only-of-type {\n",
       "        vertical-align: middle;\n",
       "    }\n",
       "\n",
       "    .dataframe tbody tr th {\n",
       "        vertical-align: top;\n",
       "    }\n",
       "\n",
       "    .dataframe thead th {\n",
       "        text-align: right;\n",
       "    }\n",
       "</style>\n",
       "<table border=\"1\" class=\"dataframe\">\n",
       "  <thead>\n",
       "    <tr style=\"text-align: right;\">\n",
       "      <th>Warehouse</th>\n",
       "      <th>22</th>\n",
       "    </tr>\n",
       "    <tr>\n",
       "      <th>Status</th>\n",
       "      <th></th>\n",
       "    </tr>\n",
       "  </thead>\n",
       "  <tbody>\n",
       "    <tr>\n",
       "      <th>Released</th>\n",
       "      <td>2</td>\n",
       "    </tr>\n",
       "  </tbody>\n",
       "</table>\n",
       "</div>"
      ],
      "text/plain": [
       "Warehouse  22\n",
       "Status       \n",
       "Released    2"
      ]
     },
     "execution_count": 26,
     "metadata": {},
     "output_type": "execute_result"
    }
   ],
   "source": [
    "warehouse_df3 = warehouse_df2.pivot(index ='Status', columns='Warehouse', values='Value')\n",
    "warehouse_df3"
   ]
  },
  {
   "cell_type": "code",
   "execution_count": 27,
   "id": "74ed4c78",
   "metadata": {
    "execution": {
     "iopub.execute_input": "2022-06-26T00:37:15.893500Z",
     "iopub.status.busy": "2022-06-26T00:37:15.893500Z",
     "iopub.status.idle": "2022-06-26T00:37:15.905131Z",
     "shell.execute_reply": "2022-06-26T00:37:15.905131Z"
    }
   },
   "outputs": [
    {
     "data": {
      "text/html": [
       "<div>\n",
       "<style scoped>\n",
       "    .dataframe tbody tr th:only-of-type {\n",
       "        vertical-align: middle;\n",
       "    }\n",
       "\n",
       "    .dataframe tbody tr th {\n",
       "        vertical-align: top;\n",
       "    }\n",
       "\n",
       "    .dataframe thead th {\n",
       "        text-align: right;\n",
       "    }\n",
       "</style>\n",
       "<table border=\"1\" class=\"dataframe\">\n",
       "  <thead>\n",
       "    <tr style=\"text-align: right;\">\n",
       "      <th>Warehouse</th>\n",
       "      <th>Status</th>\n",
       "      <th>22</th>\n",
       "    </tr>\n",
       "  </thead>\n",
       "  <tbody>\n",
       "    <tr>\n",
       "      <th>0</th>\n",
       "      <td>Released</td>\n",
       "      <td>2</td>\n",
       "    </tr>\n",
       "  </tbody>\n",
       "</table>\n",
       "</div>"
      ],
      "text/plain": [
       "Warehouse    Status  22\n",
       "0          Released   2"
      ]
     },
     "execution_count": 27,
     "metadata": {},
     "output_type": "execute_result"
    }
   ],
   "source": [
    "warehouse_df4 = warehouse_df3.reset_index()\n",
    "warehouse_df4"
   ]
  },
  {
   "cell_type": "code",
   "execution_count": 28,
   "id": "fa16a5ad",
   "metadata": {
    "execution": {
     "iopub.execute_input": "2022-06-26T00:37:15.908158Z",
     "iopub.status.busy": "2022-06-26T00:37:15.908158Z",
     "iopub.status.idle": "2022-06-26T00:37:15.921378Z",
     "shell.execute_reply": "2022-06-26T00:37:15.920411Z"
    }
   },
   "outputs": [
    {
     "data": {
      "text/html": [
       "<div>\n",
       "<style scoped>\n",
       "    .dataframe tbody tr th:only-of-type {\n",
       "        vertical-align: middle;\n",
       "    }\n",
       "\n",
       "    .dataframe tbody tr th {\n",
       "        vertical-align: top;\n",
       "    }\n",
       "\n",
       "    .dataframe thead th {\n",
       "        text-align: right;\n",
       "    }\n",
       "</style>\n",
       "<table border=\"1\" class=\"dataframe\">\n",
       "  <thead>\n",
       "    <tr style=\"text-align: right;\">\n",
       "      <th></th>\n",
       "      <th>Status</th>\n",
       "      <th>22</th>\n",
       "    </tr>\n",
       "  </thead>\n",
       "  <tbody>\n",
       "    <tr>\n",
       "      <th>0</th>\n",
       "      <td>Released</td>\n",
       "      <td>2</td>\n",
       "    </tr>\n",
       "  </tbody>\n",
       "</table>\n",
       "</div>"
      ],
      "text/plain": [
       "     Status  22\n",
       "0  Released   2"
      ]
     },
     "execution_count": 28,
     "metadata": {},
     "output_type": "execute_result"
    }
   ],
   "source": [
    "warehouse_df4 = warehouse_df4.rename_axis(None, axis=1)\n",
    "warehouse_df4"
   ]
  },
  {
   "cell_type": "code",
   "execution_count": 29,
   "id": "be505001",
   "metadata": {
    "execution": {
     "iopub.execute_input": "2022-06-26T00:37:15.924408Z",
     "iopub.status.busy": "2022-06-26T00:37:15.924408Z",
     "iopub.status.idle": "2022-06-26T00:37:15.936721Z",
     "shell.execute_reply": "2022-06-26T00:37:15.935935Z"
    }
   },
   "outputs": [],
   "source": [
    "# Save Warehouse into JSON file\n",
    "warehouse_df4.to_json('data/warehouse.json')"
   ]
  },
  {
   "cell_type": "code",
   "execution_count": 30,
   "id": "6137ffa2",
   "metadata": {
    "execution": {
     "iopub.execute_input": "2022-06-26T00:37:15.939751Z",
     "iopub.status.busy": "2022-06-26T00:37:15.939751Z",
     "iopub.status.idle": "2022-06-26T00:37:15.952244Z",
     "shell.execute_reply": "2022-06-26T00:37:15.951518Z"
    }
   },
   "outputs": [],
   "source": [
    "# Close connection\n",
    "cnxn.close()"
   ]
  },
  {
   "cell_type": "code",
   "execution_count": null,
   "id": "30f09d04",
   "metadata": {},
   "outputs": [],
   "source": []
  }
 ],
 "metadata": {
  "kernelspec": {
   "display_name": "PythonData",
   "language": "python",
   "name": "pythondata"
  },
  "language_info": {
   "codemirror_mode": {
    "name": "ipython",
    "version": 3
   },
   "file_extension": ".py",
   "mimetype": "text/x-python",
   "name": "python",
   "nbconvert_exporter": "python",
   "pygments_lexer": "ipython3",
   "version": "3.7.11"
  }
 },
 "nbformat": 4,
 "nbformat_minor": 5
}
