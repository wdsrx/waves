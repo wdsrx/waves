{
 "cells": [
  {
   "cell_type": "markdown",
   "id": "ca7e8c24",
   "metadata": {},
   "source": [
    "# WAVES"
   ]
  },
  {
   "cell_type": "code",
   "execution_count": 1,
   "id": "ade09779",
   "metadata": {
    "execution": {
     "iopub.execute_input": "2022-09-19T10:04:01.275458Z",
     "iopub.status.busy": "2022-09-19T10:04:01.274393Z",
     "iopub.status.idle": "2022-09-19T10:04:02.103945Z",
     "shell.execute_reply": "2022-09-19T10:04:02.102180Z"
    }
   },
   "outputs": [],
   "source": [
    "import pyodbc\n",
    "import pandas as pd"
   ]
  },
  {
   "cell_type": "code",
   "execution_count": 2,
   "id": "10a73873",
   "metadata": {
    "execution": {
     "iopub.execute_input": "2022-09-19T10:04:02.111947Z",
     "iopub.status.busy": "2022-09-19T10:04:02.111947Z",
     "iopub.status.idle": "2022-09-19T10:04:02.257001Z",
     "shell.execute_reply": "2022-09-19T10:04:02.255972Z"
    }
   },
   "outputs": [],
   "source": [
    "cnxn = pyodbc.connect(\"Driver={SQL Server Native Client 11.0};\"\n",
    "                        \"Server=wd02;\"\n",
    "                        \"Database=FootPrint;\"\n",
    "                        \"UID=WOODFIELD\\\\jmeza@wdsrx.com;\"\n",
    "                        \"PWD=Clavezaza2022;\"\n",
    "                        \"Trusted_Connection=yes;\")"
   ]
  },
  {
   "cell_type": "markdown",
   "id": "49f49c4d",
   "metadata": {},
   "source": [
    "### Query"
   ]
  },
  {
   "cell_type": "code",
   "execution_count": 3,
   "id": "a36ea14d",
   "metadata": {
    "execution": {
     "iopub.execute_input": "2022-09-19T10:04:02.261030Z",
     "iopub.status.busy": "2022-09-19T10:04:02.261030Z",
     "iopub.status.idle": "2022-09-19T10:04:02.442239Z",
     "shell.execute_reply": "2022-09-19T10:04:02.441363Z"
    }
   },
   "outputs": [],
   "source": [
    "df = pd.read_sql_query(\"SELECT CONVERT(varchar,w.releaseDate,100) Date, w.id, wa.name Warehouse, s.lookupCode Shipments, p.name Customer, ss.name ShipmentStatus\\\n",
    "    FROM datex_footprint.Waves w\\\n",
    "    JOIN datex_footprint.WaveStatuses ws\\\n",
    "        ON ws.id = w.statusId\\\n",
    "    JOIN datex_footprint.Warehouses wa\\\n",
    "        ON wa.id = w.warehouseId\\\n",
    "    JOIN datex_footprint.shipments s\\\n",
    "        ON s.waveId = w.id\\\n",
    "    JOIN datex_footprint.ShipmentOrderLookup sol\\\n",
    "        ON sol.shipmentId = s.id\\\n",
    "    JOIN datex_footprint.Orders o\\\n",
    "        ON o.id = sol.orderId\\\n",
    "    JOIN datex_footprint.Projects p\\\n",
    "        ON p.id = o.projectId\\\n",
    "    JOIN datex_footprint.ShipmentStatuses ss\\\n",
    "        ON ss.id = s.statusId\\\n",
    "    WHERE releaseDate > dateadd(day,-1,getdate())\\\n",
    "        AND w.statusId = 3\\\n",
    "    ORDER BY releaseDate DESC\", cnxn)"
   ]
  },
  {
   "cell_type": "markdown",
   "id": "e7150e3c",
   "metadata": {},
   "source": [
    "# Create Waves Table Data"
   ]
  },
  {
   "cell_type": "code",
   "execution_count": 4,
   "id": "845a7997",
   "metadata": {
    "execution": {
     "iopub.execute_input": "2022-09-19T10:04:02.445237Z",
     "iopub.status.busy": "2022-09-19T10:04:02.445237Z",
     "iopub.status.idle": "2022-09-19T10:04:02.474245Z",
     "shell.execute_reply": "2022-09-19T10:04:02.473352Z"
    }
   },
   "outputs": [
    {
     "data": {
      "text/html": [
       "<div>\n",
       "<style scoped>\n",
       "    .dataframe tbody tr th:only-of-type {\n",
       "        vertical-align: middle;\n",
       "    }\n",
       "\n",
       "    .dataframe tbody tr th {\n",
       "        vertical-align: top;\n",
       "    }\n",
       "\n",
       "    .dataframe thead th {\n",
       "        text-align: right;\n",
       "    }\n",
       "</style>\n",
       "<table border=\"1\" class=\"dataframe\">\n",
       "  <thead>\n",
       "    <tr style=\"text-align: right;\">\n",
       "      <th></th>\n",
       "      <th>Date</th>\n",
       "      <th>id</th>\n",
       "      <th>Warehouse</th>\n",
       "      <th>Shipments</th>\n",
       "      <th>Customer</th>\n",
       "      <th>ShipmentStatus</th>\n",
       "    </tr>\n",
       "  </thead>\n",
       "  <tbody>\n",
       "  </tbody>\n",
       "</table>\n",
       "</div>"
      ],
      "text/plain": [
       "Empty DataFrame\n",
       "Columns: [Date, id, Warehouse, Shipments, Customer, ShipmentStatus]\n",
       "Index: []"
      ]
     },
     "execution_count": 4,
     "metadata": {},
     "output_type": "execute_result"
    }
   ],
   "source": [
    "df.head(10)"
   ]
  },
  {
   "cell_type": "code",
   "execution_count": 5,
   "id": "fbdc4124",
   "metadata": {
    "execution": {
     "iopub.execute_input": "2022-09-19T10:04:02.477239Z",
     "iopub.status.busy": "2022-09-19T10:04:02.477239Z",
     "iopub.status.idle": "2022-09-19T10:04:02.489752Z",
     "shell.execute_reply": "2022-09-19T10:04:02.488751Z"
    }
   },
   "outputs": [
    {
     "data": {
      "text/html": [
       "<div>\n",
       "<style scoped>\n",
       "    .dataframe tbody tr th:only-of-type {\n",
       "        vertical-align: middle;\n",
       "    }\n",
       "\n",
       "    .dataframe tbody tr th {\n",
       "        vertical-align: top;\n",
       "    }\n",
       "\n",
       "    .dataframe thead th {\n",
       "        text-align: right;\n",
       "    }\n",
       "</style>\n",
       "<table border=\"1\" class=\"dataframe\">\n",
       "  <thead>\n",
       "    <tr style=\"text-align: right;\">\n",
       "      <th></th>\n",
       "      <th>id</th>\n",
       "      <th>ShipmentStatus</th>\n",
       "      <th>Shipments</th>\n",
       "    </tr>\n",
       "  </thead>\n",
       "  <tbody>\n",
       "  </tbody>\n",
       "</table>\n",
       "</div>"
      ],
      "text/plain": [
       "Empty DataFrame\n",
       "Columns: [id, ShipmentStatus, Shipments]\n",
       "Index: []"
      ]
     },
     "execution_count": 5,
     "metadata": {},
     "output_type": "execute_result"
    }
   ],
   "source": [
    "# Count Shipments per Wave and Status\n",
    "count_shipments_statusdf = df.groupby(['id', 'ShipmentStatus']).count()[['Shipments']]\n",
    "count_shipments_statusdf.reset_index(inplace=True)\n",
    "count_shipments_statusdf.tail()"
   ]
  },
  {
   "cell_type": "code",
   "execution_count": 6,
   "id": "5a210b35",
   "metadata": {
    "execution": {
     "iopub.execute_input": "2022-09-19T10:04:02.492751Z",
     "iopub.status.busy": "2022-09-19T10:04:02.492751Z",
     "iopub.status.idle": "2022-09-19T10:04:02.504753Z",
     "shell.execute_reply": "2022-09-19T10:04:02.503793Z"
    }
   },
   "outputs": [
    {
     "data": {
      "text/html": [
       "<div>\n",
       "<style scoped>\n",
       "    .dataframe tbody tr th:only-of-type {\n",
       "        vertical-align: middle;\n",
       "    }\n",
       "\n",
       "    .dataframe tbody tr th {\n",
       "        vertical-align: top;\n",
       "    }\n",
       "\n",
       "    .dataframe thead th {\n",
       "        text-align: right;\n",
       "    }\n",
       "</style>\n",
       "<table border=\"1\" class=\"dataframe\">\n",
       "  <thead>\n",
       "    <tr style=\"text-align: right;\">\n",
       "      <th>ShipmentStatus</th>\n",
       "    </tr>\n",
       "    <tr>\n",
       "      <th>id</th>\n",
       "    </tr>\n",
       "  </thead>\n",
       "  <tbody>\n",
       "  </tbody>\n",
       "</table>\n",
       "</div>"
      ],
      "text/plain": [
       "Empty DataFrame\n",
       "Columns: []\n",
       "Index: []"
      ]
     },
     "execution_count": 6,
     "metadata": {},
     "output_type": "execute_result"
    }
   ],
   "source": [
    "# Convert Statuses to Columns\n",
    "shipment_pivot = count_shipments_statusdf.pivot(index='id', columns='ShipmentStatus', values='Shipments')\n",
    "shipment_pivot.tail()"
   ]
  },
  {
   "cell_type": "code",
   "execution_count": 7,
   "id": "d292f585",
   "metadata": {
    "execution": {
     "iopub.execute_input": "2022-09-19T10:04:02.507753Z",
     "iopub.status.busy": "2022-09-19T10:04:02.507753Z",
     "iopub.status.idle": "2022-09-19T10:04:02.520785Z",
     "shell.execute_reply": "2022-09-19T10:04:02.519785Z"
    }
   },
   "outputs": [
    {
     "data": {
      "text/html": [
       "<div>\n",
       "<style scoped>\n",
       "    .dataframe tbody tr th:only-of-type {\n",
       "        vertical-align: middle;\n",
       "    }\n",
       "\n",
       "    .dataframe tbody tr th {\n",
       "        vertical-align: top;\n",
       "    }\n",
       "\n",
       "    .dataframe thead th {\n",
       "        text-align: right;\n",
       "    }\n",
       "</style>\n",
       "<table border=\"1\" class=\"dataframe\">\n",
       "  <thead>\n",
       "    <tr style=\"text-align: right;\">\n",
       "      <th>ShipmentStatus</th>\n",
       "    </tr>\n",
       "    <tr>\n",
       "      <th>id</th>\n",
       "    </tr>\n",
       "  </thead>\n",
       "  <tbody>\n",
       "  </tbody>\n",
       "</table>\n",
       "</div>"
      ],
      "text/plain": [
       "Empty DataFrame\n",
       "Columns: []\n",
       "Index: []"
      ]
     },
     "execution_count": 7,
     "metadata": {},
     "output_type": "execute_result"
    }
   ],
   "source": [
    "# Convert NaN to 0\n",
    "shipment_pivot = shipment_pivot.fillna(0)\n",
    "shipment_pivot.head()"
   ]
  },
  {
   "cell_type": "code",
   "execution_count": 8,
   "id": "8a2d9f19",
   "metadata": {
    "execution": {
     "iopub.execute_input": "2022-09-19T10:04:02.523788Z",
     "iopub.status.busy": "2022-09-19T10:04:02.522752Z",
     "iopub.status.idle": "2022-09-19T10:04:02.535301Z",
     "shell.execute_reply": "2022-09-19T10:04:02.534750Z"
    }
   },
   "outputs": [
    {
     "name": "stdout",
     "output_type": "stream",
     "text": [
      "Column Completed does not exist yet\n",
      "Column Executing does not exist yet\n",
      "Column Released does not exist yet\n"
     ]
    },
    {
     "data": {
      "text/html": [
       "<div>\n",
       "<style scoped>\n",
       "    .dataframe tbody tr th:only-of-type {\n",
       "        vertical-align: middle;\n",
       "    }\n",
       "\n",
       "    .dataframe tbody tr th {\n",
       "        vertical-align: top;\n",
       "    }\n",
       "\n",
       "    .dataframe thead th {\n",
       "        text-align: right;\n",
       "    }\n",
       "</style>\n",
       "<table border=\"1\" class=\"dataframe\">\n",
       "  <thead>\n",
       "    <tr style=\"text-align: right;\">\n",
       "      <th>ShipmentStatus</th>\n",
       "    </tr>\n",
       "    <tr>\n",
       "      <th>id</th>\n",
       "    </tr>\n",
       "  </thead>\n",
       "  <tbody>\n",
       "  </tbody>\n",
       "</table>\n",
       "</div>"
      ],
      "text/plain": [
       "Empty DataFrame\n",
       "Columns: []\n",
       "Index: []"
      ]
     },
     "execution_count": 8,
     "metadata": {},
     "output_type": "execute_result"
    }
   ],
   "source": [
    "# Convert Float to Int\n",
    "try:\n",
    "    shipment_pivot['Completed'] = shipment_pivot['Completed'].astype(int)\n",
    "except:\n",
    "    print('Column Completed does not exist yet')\n",
    "\n",
    "try:\n",
    "    shipment_pivot['Executing'] = shipment_pivot['Executing'].astype(int)\n",
    "except:\n",
    "    print('Column Executing does not exist yet')\n",
    "\n",
    "try:\n",
    "    shipment_pivot['Released'] = shipment_pivot['Released'].astype(int)\n",
    "except:\n",
    "    print('Column Released does not exist yet')\n",
    "\n",
    "shipment_pivot.head()"
   ]
  },
  {
   "cell_type": "code",
   "execution_count": 9,
   "id": "dd56ac2a",
   "metadata": {
    "execution": {
     "iopub.execute_input": "2022-09-19T10:04:02.538345Z",
     "iopub.status.busy": "2022-09-19T10:04:02.538345Z",
     "iopub.status.idle": "2022-09-19T10:04:02.551092Z",
     "shell.execute_reply": "2022-09-19T10:04:02.550093Z"
    }
   },
   "outputs": [
    {
     "data": {
      "text/html": [
       "<div>\n",
       "<style scoped>\n",
       "    .dataframe tbody tr th:only-of-type {\n",
       "        vertical-align: middle;\n",
       "    }\n",
       "\n",
       "    .dataframe tbody tr th {\n",
       "        vertical-align: top;\n",
       "    }\n",
       "\n",
       "    .dataframe thead th {\n",
       "        text-align: right;\n",
       "    }\n",
       "</style>\n",
       "<table border=\"1\" class=\"dataframe\">\n",
       "  <thead>\n",
       "    <tr style=\"text-align: right;\">\n",
       "      <th>ShipmentStatus</th>\n",
       "      <th>id</th>\n",
       "    </tr>\n",
       "  </thead>\n",
       "  <tbody>\n",
       "  </tbody>\n",
       "</table>\n",
       "</div>"
      ],
      "text/plain": [
       "Empty DataFrame\n",
       "Columns: [id]\n",
       "Index: []"
      ]
     },
     "execution_count": 9,
     "metadata": {},
     "output_type": "execute_result"
    }
   ],
   "source": [
    "# Convert id index to a column\n",
    "shipment_pivot.reset_index(inplace=True)\n",
    "shipment_pivot.head()"
   ]
  },
  {
   "cell_type": "code",
   "execution_count": 10,
   "id": "732ec321",
   "metadata": {
    "execution": {
     "iopub.execute_input": "2022-09-19T10:04:02.554126Z",
     "iopub.status.busy": "2022-09-19T10:04:02.554126Z",
     "iopub.status.idle": "2022-09-19T10:04:02.566954Z",
     "shell.execute_reply": "2022-09-19T10:04:02.565963Z"
    }
   },
   "outputs": [
    {
     "name": "stdout",
     "output_type": "stream",
     "text": [
      "Column Completed does not exist yet\n",
      "Column Executing does not exist yet\n",
      "Column Released does not exist yet\n"
     ]
    },
    {
     "data": {
      "text/html": [
       "<div>\n",
       "<style scoped>\n",
       "    .dataframe tbody tr th:only-of-type {\n",
       "        vertical-align: middle;\n",
       "    }\n",
       "\n",
       "    .dataframe tbody tr th {\n",
       "        vertical-align: top;\n",
       "    }\n",
       "\n",
       "    .dataframe thead th {\n",
       "        text-align: right;\n",
       "    }\n",
       "</style>\n",
       "<table border=\"1\" class=\"dataframe\">\n",
       "  <thead>\n",
       "    <tr style=\"text-align: right;\">\n",
       "      <th>ShipmentStatus</th>\n",
       "      <th>id</th>\n",
       "    </tr>\n",
       "  </thead>\n",
       "  <tbody>\n",
       "  </tbody>\n",
       "</table>\n",
       "</div>"
      ],
      "text/plain": [
       "Empty DataFrame\n",
       "Columns: [id]\n",
       "Index: []"
      ]
     },
     "execution_count": 10,
     "metadata": {},
     "output_type": "execute_result"
    }
   ],
   "source": [
    "# Convert zeros to blanks. This also change the data type to String\n",
    "try:\n",
    "    shipment_pivot['Completed'].replace([0, ''], '', inplace=True)\n",
    "except:\n",
    "    print('Column Completed does not exist yet')\n",
    "    \n",
    "try:\n",
    "    shipment_pivot['Executing'].replace([0, ''], '', inplace=True)\n",
    "except:\n",
    "    print('Column Executing does not exist yet')\n",
    "\n",
    "try:\n",
    "    shipment_pivot['Released'].replace([0, ''], '', inplace=True)\n",
    "except:\n",
    "    print('Column Released does not exist yet')\n",
    "    \n",
    "shipment_pivot.head()"
   ]
  },
  {
   "cell_type": "code",
   "execution_count": 11,
   "id": "0f1d4b18",
   "metadata": {
    "execution": {
     "iopub.execute_input": "2022-09-19T10:04:02.569953Z",
     "iopub.status.busy": "2022-09-19T10:04:02.569953Z",
     "iopub.status.idle": "2022-09-19T10:04:02.582284Z",
     "shell.execute_reply": "2022-09-19T10:04:02.581285Z"
    }
   },
   "outputs": [
    {
     "data": {
      "text/plain": [
       "ShipmentStatus\n",
       "id    object\n",
       "dtype: object"
      ]
     },
     "execution_count": 11,
     "metadata": {},
     "output_type": "execute_result"
    }
   ],
   "source": [
    "shipment_pivot.dtypes"
   ]
  },
  {
   "cell_type": "code",
   "execution_count": 12,
   "id": "86c90f9e",
   "metadata": {
    "execution": {
     "iopub.execute_input": "2022-09-19T10:04:02.585283Z",
     "iopub.status.busy": "2022-09-19T10:04:02.585283Z",
     "iopub.status.idle": "2022-09-19T10:04:02.598026Z",
     "shell.execute_reply": "2022-09-19T10:04:02.596993Z"
    }
   },
   "outputs": [],
   "source": [
    "# Change columns order\n",
    "df = df[['Date', 'id', 'Warehouse', 'Customer']]"
   ]
  },
  {
   "cell_type": "code",
   "execution_count": 13,
   "id": "c398d4ee",
   "metadata": {
    "execution": {
     "iopub.execute_input": "2022-09-19T10:04:02.601028Z",
     "iopub.status.busy": "2022-09-19T10:04:02.601028Z",
     "iopub.status.idle": "2022-09-19T10:04:02.613081Z",
     "shell.execute_reply": "2022-09-19T10:04:02.612310Z"
    }
   },
   "outputs": [],
   "source": [
    "# Drops duplicates\n",
    "df = df.drop_duplicates()"
   ]
  },
  {
   "cell_type": "code",
   "execution_count": 14,
   "id": "2db34f0d",
   "metadata": {
    "execution": {
     "iopub.execute_input": "2022-09-19T10:04:02.616048Z",
     "iopub.status.busy": "2022-09-19T10:04:02.616048Z",
     "iopub.status.idle": "2022-09-19T10:04:02.629042Z",
     "shell.execute_reply": "2022-09-19T10:04:02.628044Z"
    }
   },
   "outputs": [
    {
     "data": {
      "text/html": [
       "<div>\n",
       "<style scoped>\n",
       "    .dataframe tbody tr th:only-of-type {\n",
       "        vertical-align: middle;\n",
       "    }\n",
       "\n",
       "    .dataframe tbody tr th {\n",
       "        vertical-align: top;\n",
       "    }\n",
       "\n",
       "    .dataframe thead th {\n",
       "        text-align: right;\n",
       "    }\n",
       "</style>\n",
       "<table border=\"1\" class=\"dataframe\">\n",
       "  <thead>\n",
       "    <tr style=\"text-align: right;\">\n",
       "      <th></th>\n",
       "      <th>Date</th>\n",
       "      <th>id</th>\n",
       "      <th>Warehouse</th>\n",
       "      <th>Customer</th>\n",
       "    </tr>\n",
       "  </thead>\n",
       "  <tbody>\n",
       "  </tbody>\n",
       "</table>\n",
       "</div>"
      ],
      "text/plain": [
       "Empty DataFrame\n",
       "Columns: [Date, id, Warehouse, Customer]\n",
       "Index: []"
      ]
     },
     "execution_count": 14,
     "metadata": {},
     "output_type": "execute_result"
    }
   ],
   "source": [
    "df.head(10)"
   ]
  },
  {
   "cell_type": "code",
   "execution_count": 15,
   "id": "1bcb0348",
   "metadata": {
    "execution": {
     "iopub.execute_input": "2022-09-19T10:04:02.632045Z",
     "iopub.status.busy": "2022-09-19T10:04:02.632045Z",
     "iopub.status.idle": "2022-09-19T10:04:02.644042Z",
     "shell.execute_reply": "2022-09-19T10:04:02.643043Z"
    }
   },
   "outputs": [
    {
     "data": {
      "text/html": [
       "<div>\n",
       "<style scoped>\n",
       "    .dataframe tbody tr th:only-of-type {\n",
       "        vertical-align: middle;\n",
       "    }\n",
       "\n",
       "    .dataframe tbody tr th {\n",
       "        vertical-align: top;\n",
       "    }\n",
       "\n",
       "    .dataframe thead th {\n",
       "        text-align: right;\n",
       "    }\n",
       "</style>\n",
       "<table border=\"1\" class=\"dataframe\">\n",
       "  <thead>\n",
       "    <tr style=\"text-align: right;\">\n",
       "      <th></th>\n",
       "      <th>Date</th>\n",
       "      <th>Warehouse</th>\n",
       "      <th>Customer</th>\n",
       "      <th>id</th>\n",
       "    </tr>\n",
       "  </thead>\n",
       "  <tbody>\n",
       "  </tbody>\n",
       "</table>\n",
       "</div>"
      ],
      "text/plain": [
       "Empty DataFrame\n",
       "Columns: [Date, Warehouse, Customer, id]\n",
       "Index: []"
      ]
     },
     "execution_count": 15,
     "metadata": {},
     "output_type": "execute_result"
    }
   ],
   "source": [
    "# Merge df with pivot table\n",
    "df2 = df.merge(shipment_pivot, left_on='id', right_on='id')\n",
    "df2.head(10)"
   ]
  },
  {
   "cell_type": "code",
   "execution_count": 16,
   "id": "27c97993",
   "metadata": {
    "execution": {
     "iopub.execute_input": "2022-09-19T10:04:02.647044Z",
     "iopub.status.busy": "2022-09-19T10:04:02.647044Z",
     "iopub.status.idle": "2022-09-19T10:04:02.659278Z",
     "shell.execute_reply": "2022-09-19T10:04:02.658535Z"
    }
   },
   "outputs": [],
   "source": [
    "wave_df = pd.DataFrame()\n",
    "statuses = list(df2.columns)\n",
    "\n",
    "# Reorder columns\n",
    "if ('Released' in statuses) and ('Executing' in statuses) and ('Completed' in statuses):\n",
    "    wave_df = df2[['Date', 'id', 'Warehouse', 'Customer', 'Released', 'Executing', 'Completed']]\n",
    "elif ('Released' in statuses) and ('Executing' in statuses):\n",
    "    wave_df = df2[['Date', 'id', 'Warehouse', 'Customer', 'Released', 'Executing']]\n",
    "elif ('Released' in statuses) and ('Completed' in statuses):\n",
    "    wave_df = df2[['Date', 'id', 'Warehouse', 'Customer', 'Released', 'Completed']]\n",
    "elif ('Released' in statuses):\n",
    "    wave_df = df2[['Date', 'id', 'Warehouse', 'Customer', 'Released']]\n",
    "else:\n",
    "    wave_df = df2[['Date', 'id', 'Warehouse', 'Customer']]"
   ]
  },
  {
   "cell_type": "code",
   "execution_count": 17,
   "id": "0980b3ed",
   "metadata": {
    "execution": {
     "iopub.execute_input": "2022-09-19T10:04:02.663306Z",
     "iopub.status.busy": "2022-09-19T10:04:02.663306Z",
     "iopub.status.idle": "2022-09-19T10:04:02.674273Z",
     "shell.execute_reply": "2022-09-19T10:04:02.673321Z"
    }
   },
   "outputs": [
    {
     "data": {
      "text/html": [
       "<div>\n",
       "<style scoped>\n",
       "    .dataframe tbody tr th:only-of-type {\n",
       "        vertical-align: middle;\n",
       "    }\n",
       "\n",
       "    .dataframe tbody tr th {\n",
       "        vertical-align: top;\n",
       "    }\n",
       "\n",
       "    .dataframe thead th {\n",
       "        text-align: right;\n",
       "    }\n",
       "</style>\n",
       "<table border=\"1\" class=\"dataframe\">\n",
       "  <thead>\n",
       "    <tr style=\"text-align: right;\">\n",
       "      <th></th>\n",
       "      <th>Date</th>\n",
       "      <th>id</th>\n",
       "      <th>Warehouse</th>\n",
       "      <th>Customer</th>\n",
       "    </tr>\n",
       "  </thead>\n",
       "  <tbody>\n",
       "  </tbody>\n",
       "</table>\n",
       "</div>"
      ],
      "text/plain": [
       "Empty DataFrame\n",
       "Columns: [Date, id, Warehouse, Customer]\n",
       "Index: []"
      ]
     },
     "execution_count": 17,
     "metadata": {},
     "output_type": "execute_result"
    }
   ],
   "source": [
    "wave_df.head(10)"
   ]
  },
  {
   "cell_type": "code",
   "execution_count": 18,
   "id": "19117df3",
   "metadata": {
    "execution": {
     "iopub.execute_input": "2022-09-19T10:04:02.678302Z",
     "iopub.status.busy": "2022-09-19T10:04:02.678302Z",
     "iopub.status.idle": "2022-09-19T10:04:02.689270Z",
     "shell.execute_reply": "2022-09-19T10:04:02.688571Z"
    }
   },
   "outputs": [],
   "source": [
    "# Save Waves DF into json file\n",
    "wave_df.to_json('data/waves.json')"
   ]
  },
  {
   "cell_type": "markdown",
   "id": "0509bd7b",
   "metadata": {},
   "source": [
    "# Warehouse Pie Chart Data"
   ]
  },
  {
   "cell_type": "code",
   "execution_count": 19,
   "id": "8f7a231b",
   "metadata": {
    "execution": {
     "iopub.execute_input": "2022-09-19T10:04:02.693302Z",
     "iopub.status.busy": "2022-09-19T10:04:02.692267Z",
     "iopub.status.idle": "2022-09-19T10:04:02.705302Z",
     "shell.execute_reply": "2022-09-19T10:04:02.704479Z"
    }
   },
   "outputs": [
    {
     "data": {
      "text/html": [
       "<div>\n",
       "<style scoped>\n",
       "    .dataframe tbody tr th:only-of-type {\n",
       "        vertical-align: middle;\n",
       "    }\n",
       "\n",
       "    .dataframe tbody tr th {\n",
       "        vertical-align: top;\n",
       "    }\n",
       "\n",
       "    .dataframe thead th {\n",
       "        text-align: right;\n",
       "    }\n",
       "</style>\n",
       "<table border=\"1\" class=\"dataframe\">\n",
       "  <thead>\n",
       "    <tr style=\"text-align: right;\">\n",
       "      <th></th>\n",
       "      <th>Date</th>\n",
       "      <th>id</th>\n",
       "      <th>Warehouse</th>\n",
       "      <th>Customer</th>\n",
       "    </tr>\n",
       "  </thead>\n",
       "  <tbody>\n",
       "  </tbody>\n",
       "</table>\n",
       "</div>"
      ],
      "text/plain": [
       "Empty DataFrame\n",
       "Columns: [Date, id, Warehouse, Customer]\n",
       "Index: []"
      ]
     },
     "execution_count": 19,
     "metadata": {},
     "output_type": "execute_result"
    }
   ],
   "source": [
    "# Save df2 in df3\n",
    "warehouse_df = wave_df\n",
    "warehouse_df.head()"
   ]
  },
  {
   "cell_type": "code",
   "execution_count": 20,
   "id": "74bc202e",
   "metadata": {
    "execution": {
     "iopub.execute_input": "2022-09-19T10:04:02.709299Z",
     "iopub.status.busy": "2022-09-19T10:04:02.709299Z",
     "iopub.status.idle": "2022-09-19T10:04:02.735587Z",
     "shell.execute_reply": "2022-09-19T10:04:02.734842Z"
    }
   },
   "outputs": [
    {
     "name": "stdout",
     "output_type": "stream",
     "text": [
      "Column Released does not exist yet\n",
      "Column Executing does not exist yet\n",
      "Column Completed does not exist yet\n"
     ]
    },
    {
     "data": {
      "text/html": [
       "<div>\n",
       "<style scoped>\n",
       "    .dataframe tbody tr th:only-of-type {\n",
       "        vertical-align: middle;\n",
       "    }\n",
       "\n",
       "    .dataframe tbody tr th {\n",
       "        vertical-align: top;\n",
       "    }\n",
       "\n",
       "    .dataframe thead th {\n",
       "        text-align: right;\n",
       "    }\n",
       "</style>\n",
       "<table border=\"1\" class=\"dataframe\">\n",
       "  <thead>\n",
       "    <tr style=\"text-align: right;\">\n",
       "      <th></th>\n",
       "      <th>Date</th>\n",
       "      <th>id</th>\n",
       "      <th>Warehouse</th>\n",
       "      <th>Customer</th>\n",
       "    </tr>\n",
       "  </thead>\n",
       "  <tbody>\n",
       "  </tbody>\n",
       "</table>\n",
       "</div>"
      ],
      "text/plain": [
       "Empty DataFrame\n",
       "Columns: [Date, id, Warehouse, Customer]\n",
       "Index: []"
      ]
     },
     "execution_count": 20,
     "metadata": {},
     "output_type": "execute_result"
    }
   ],
   "source": [
    "# Conver String to Float\n",
    "try:\n",
    "    warehouse_df['Released'] = pd.to_numeric(warehouse_df['Released'],errors='coerce')\n",
    "except:\n",
    "    print('Column Released does not exist yet')\n",
    "\n",
    "try:\n",
    "    warehouse_df['Executing'] = pd.to_numeric(warehouse_df['Executing'],errors='coerce')\n",
    "except:\n",
    "    print('Column Executing does not exist yet')\n",
    "\n",
    "try:\n",
    "    warehouse_df['Completed'] = pd.to_numeric(warehouse_df['Completed'],errors='coerce')\n",
    "except:\n",
    "    print('Column Completed does not exist yet')\n",
    "\n",
    "warehouse_df.head()"
   ]
  },
  {
   "cell_type": "code",
   "execution_count": 21,
   "id": "d80e31c0",
   "metadata": {
    "execution": {
     "iopub.execute_input": "2022-09-19T10:04:02.739616Z",
     "iopub.status.busy": "2022-09-19T10:04:02.739616Z",
     "iopub.status.idle": "2022-09-19T10:04:02.751271Z",
     "shell.execute_reply": "2022-09-19T10:04:02.750722Z"
    }
   },
   "outputs": [
    {
     "data": {
      "text/html": [
       "<div>\n",
       "<style scoped>\n",
       "    .dataframe tbody tr th:only-of-type {\n",
       "        vertical-align: middle;\n",
       "    }\n",
       "\n",
       "    .dataframe tbody tr th {\n",
       "        vertical-align: top;\n",
       "    }\n",
       "\n",
       "    .dataframe thead th {\n",
       "        text-align: right;\n",
       "    }\n",
       "</style>\n",
       "<table border=\"1\" class=\"dataframe\">\n",
       "  <thead>\n",
       "    <tr style=\"text-align: right;\">\n",
       "      <th></th>\n",
       "      <th>Date</th>\n",
       "      <th>id</th>\n",
       "      <th>Warehouse</th>\n",
       "      <th>Customer</th>\n",
       "    </tr>\n",
       "  </thead>\n",
       "  <tbody>\n",
       "  </tbody>\n",
       "</table>\n",
       "</div>"
      ],
      "text/plain": [
       "Empty DataFrame\n",
       "Columns: [Date, id, Warehouse, Customer]\n",
       "Index: []"
      ]
     },
     "execution_count": 21,
     "metadata": {},
     "output_type": "execute_result"
    }
   ],
   "source": [
    "# Conver NaN to Zero\n",
    "warehouse_df = warehouse_df.fillna(0)\n",
    "warehouse_df.head()"
   ]
  },
  {
   "cell_type": "code",
   "execution_count": 22,
   "id": "8151af58",
   "metadata": {
    "execution": {
     "iopub.execute_input": "2022-09-19T10:04:02.755320Z",
     "iopub.status.busy": "2022-09-19T10:04:02.755320Z",
     "iopub.status.idle": "2022-09-19T10:04:02.767284Z",
     "shell.execute_reply": "2022-09-19T10:04:02.766283Z"
    }
   },
   "outputs": [
    {
     "data": {
      "text/html": [
       "<div>\n",
       "<style scoped>\n",
       "    .dataframe tbody tr th:only-of-type {\n",
       "        vertical-align: middle;\n",
       "    }\n",
       "\n",
       "    .dataframe tbody tr th {\n",
       "        vertical-align: top;\n",
       "    }\n",
       "\n",
       "    .dataframe thead th {\n",
       "        text-align: right;\n",
       "    }\n",
       "</style>\n",
       "<table border=\"1\" class=\"dataframe\">\n",
       "  <thead>\n",
       "    <tr style=\"text-align: right;\">\n",
       "      <th></th>\n",
       "    </tr>\n",
       "    <tr>\n",
       "      <th>Warehouse</th>\n",
       "    </tr>\n",
       "  </thead>\n",
       "  <tbody>\n",
       "  </tbody>\n",
       "</table>\n",
       "</div>"
      ],
      "text/plain": [
       "Empty DataFrame\n",
       "Columns: []\n",
       "Index: []"
      ]
     },
     "execution_count": 22,
     "metadata": {},
     "output_type": "execute_result"
    }
   ],
   "source": [
    "# Group by Warehouse\n",
    "warehouse_df = warehouse_df.groupby(['Warehouse']).sum()\n",
    "warehouse_df"
   ]
  },
  {
   "cell_type": "code",
   "execution_count": 23,
   "id": "634c80cc",
   "metadata": {
    "execution": {
     "iopub.execute_input": "2022-09-19T10:04:02.773289Z",
     "iopub.status.busy": "2022-09-19T10:04:02.773289Z",
     "iopub.status.idle": "2022-09-19T10:04:02.798323Z",
     "shell.execute_reply": "2022-09-19T10:04:02.797318Z"
    }
   },
   "outputs": [
    {
     "data": {
      "text/html": [
       "<div>\n",
       "<style scoped>\n",
       "    .dataframe tbody tr th:only-of-type {\n",
       "        vertical-align: middle;\n",
       "    }\n",
       "\n",
       "    .dataframe tbody tr th {\n",
       "        vertical-align: top;\n",
       "    }\n",
       "\n",
       "    .dataframe thead th {\n",
       "        text-align: right;\n",
       "    }\n",
       "</style>\n",
       "<table border=\"1\" class=\"dataframe\">\n",
       "  <thead>\n",
       "    <tr style=\"text-align: right;\">\n",
       "      <th></th>\n",
       "      <th>Warehouse</th>\n",
       "    </tr>\n",
       "  </thead>\n",
       "  <tbody>\n",
       "  </tbody>\n",
       "</table>\n",
       "</div>"
      ],
      "text/plain": [
       "Empty DataFrame\n",
       "Columns: [Warehouse]\n",
       "Index: []"
      ]
     },
     "execution_count": 23,
     "metadata": {},
     "output_type": "execute_result"
    }
   ],
   "source": [
    "# Reset Index\n",
    "warehouse_df.reset_index(inplace=True)\n",
    "warehouse_df"
   ]
  },
  {
   "cell_type": "code",
   "execution_count": 24,
   "id": "f9246e74",
   "metadata": {
    "execution": {
     "iopub.execute_input": "2022-09-19T10:04:02.802289Z",
     "iopub.status.busy": "2022-09-19T10:04:02.802289Z",
     "iopub.status.idle": "2022-09-19T10:04:02.829289Z",
     "shell.execute_reply": "2022-09-19T10:04:02.828320Z"
    }
   },
   "outputs": [
    {
     "data": {
      "text/html": [
       "<div>\n",
       "<style scoped>\n",
       "    .dataframe tbody tr th:only-of-type {\n",
       "        vertical-align: middle;\n",
       "    }\n",
       "\n",
       "    .dataframe tbody tr th {\n",
       "        vertical-align: top;\n",
       "    }\n",
       "\n",
       "    .dataframe thead th {\n",
       "        text-align: right;\n",
       "    }\n",
       "</style>\n",
       "<table border=\"1\" class=\"dataframe\">\n",
       "  <thead>\n",
       "    <tr style=\"text-align: right;\">\n",
       "      <th></th>\n",
       "      <th>Warehouse</th>\n",
       "    </tr>\n",
       "  </thead>\n",
       "  <tbody>\n",
       "  </tbody>\n",
       "</table>\n",
       "</div>"
      ],
      "text/plain": [
       "Empty DataFrame\n",
       "Columns: [Warehouse]\n",
       "Index: []"
      ]
     },
     "execution_count": 24,
     "metadata": {},
     "output_type": "execute_result"
    }
   ],
   "source": [
    "warehouses = list(warehouse_df.columns)\n",
    "warehouse_df2 = pd.DataFrame()\n",
    "\n",
    "if ('Released' in warehouses) and ('Executing' in warehouses) and ('Completed' in warehouses):\n",
    "    warehouse_df2 = warehouse_df[['Warehouse', 'Released', 'Executing', 'Completed']]\n",
    "elif ('Released' in warehouses) and ('Executing' in warehouses):\n",
    "    warehouse_df2 = warehouse_df[['Warehouse', 'Released', 'Executing']]\n",
    "elif ('Released' in warehouses) and ('Completed' in warehouses):\n",
    "    warehouse_df2 = warehouse_df[['Warehouse', 'Released', 'Completed']]\n",
    "elif ('Released' in warehouses):\n",
    "    warehouse_df2 = warehouse_df[['Warehouse', 'Released']]\n",
    "else:\n",
    "    warehouse_df2 = warehouse_df[['Warehouse']]\n",
    "\n",
    "warehouse_df2"
   ]
  },
  {
   "cell_type": "code",
   "execution_count": 25,
   "id": "25719670",
   "metadata": {
    "execution": {
     "iopub.execute_input": "2022-09-19T10:04:02.833283Z",
     "iopub.status.busy": "2022-09-19T10:04:02.833283Z",
     "iopub.status.idle": "2022-09-19T10:04:02.860976Z",
     "shell.execute_reply": "2022-09-19T10:04:02.860465Z"
    }
   },
   "outputs": [
    {
     "data": {
      "text/html": [
       "<div>\n",
       "<style scoped>\n",
       "    .dataframe tbody tr th:only-of-type {\n",
       "        vertical-align: middle;\n",
       "    }\n",
       "\n",
       "    .dataframe tbody tr th {\n",
       "        vertical-align: top;\n",
       "    }\n",
       "\n",
       "    .dataframe thead th {\n",
       "        text-align: right;\n",
       "    }\n",
       "</style>\n",
       "<table border=\"1\" class=\"dataframe\">\n",
       "  <thead>\n",
       "    <tr style=\"text-align: right;\">\n",
       "      <th></th>\n",
       "      <th>Warehouse</th>\n",
       "      <th>Status</th>\n",
       "      <th>Value</th>\n",
       "    </tr>\n",
       "  </thead>\n",
       "  <tbody>\n",
       "  </tbody>\n",
       "</table>\n",
       "</div>"
      ],
      "text/plain": [
       "Empty DataFrame\n",
       "Columns: [Warehouse, Status, Value]\n",
       "Index: []"
      ]
     },
     "execution_count": 25,
     "metadata": {},
     "output_type": "execute_result"
    }
   ],
   "source": [
    "warehouse_df2 = pd.melt(warehouse_df2, id_vars=[\"Warehouse\"], \n",
    "                  var_name=\"Status\", value_name=\"Value\")\n",
    "warehouse_df2.head()"
   ]
  },
  {
   "cell_type": "code",
   "execution_count": 26,
   "id": "0441825e",
   "metadata": {
    "execution": {
     "iopub.execute_input": "2022-09-19T10:04:02.865988Z",
     "iopub.status.busy": "2022-09-19T10:04:02.864987Z",
     "iopub.status.idle": "2022-09-19T10:04:02.876988Z",
     "shell.execute_reply": "2022-09-19T10:04:02.875989Z"
    }
   },
   "outputs": [
    {
     "data": {
      "text/html": [
       "<div>\n",
       "<style scoped>\n",
       "    .dataframe tbody tr th:only-of-type {\n",
       "        vertical-align: middle;\n",
       "    }\n",
       "\n",
       "    .dataframe tbody tr th {\n",
       "        vertical-align: top;\n",
       "    }\n",
       "\n",
       "    .dataframe thead th {\n",
       "        text-align: right;\n",
       "    }\n",
       "</style>\n",
       "<table border=\"1\" class=\"dataframe\">\n",
       "  <thead>\n",
       "    <tr style=\"text-align: right;\">\n",
       "      <th>Warehouse</th>\n",
       "    </tr>\n",
       "    <tr>\n",
       "      <th>Status</th>\n",
       "    </tr>\n",
       "  </thead>\n",
       "  <tbody>\n",
       "  </tbody>\n",
       "</table>\n",
       "</div>"
      ],
      "text/plain": [
       "Empty DataFrame\n",
       "Columns: []\n",
       "Index: []"
      ]
     },
     "execution_count": 26,
     "metadata": {},
     "output_type": "execute_result"
    }
   ],
   "source": [
    "warehouse_df3 = warehouse_df2.pivot(index ='Status', columns='Warehouse', values='Value')\n",
    "warehouse_df3"
   ]
  },
  {
   "cell_type": "code",
   "execution_count": 27,
   "id": "74ed4c78",
   "metadata": {
    "execution": {
     "iopub.execute_input": "2022-09-19T10:04:02.881991Z",
     "iopub.status.busy": "2022-09-19T10:04:02.880987Z",
     "iopub.status.idle": "2022-09-19T10:04:02.891988Z",
     "shell.execute_reply": "2022-09-19T10:04:02.890990Z"
    }
   },
   "outputs": [
    {
     "data": {
      "text/html": [
       "<div>\n",
       "<style scoped>\n",
       "    .dataframe tbody tr th:only-of-type {\n",
       "        vertical-align: middle;\n",
       "    }\n",
       "\n",
       "    .dataframe tbody tr th {\n",
       "        vertical-align: top;\n",
       "    }\n",
       "\n",
       "    .dataframe thead th {\n",
       "        text-align: right;\n",
       "    }\n",
       "</style>\n",
       "<table border=\"1\" class=\"dataframe\">\n",
       "  <thead>\n",
       "    <tr style=\"text-align: right;\">\n",
       "      <th>Warehouse</th>\n",
       "      <th>Status</th>\n",
       "    </tr>\n",
       "  </thead>\n",
       "  <tbody>\n",
       "  </tbody>\n",
       "</table>\n",
       "</div>"
      ],
      "text/plain": [
       "Empty DataFrame\n",
       "Columns: [Status]\n",
       "Index: []"
      ]
     },
     "execution_count": 27,
     "metadata": {},
     "output_type": "execute_result"
    }
   ],
   "source": [
    "warehouse_df4 = warehouse_df3.reset_index()\n",
    "warehouse_df4"
   ]
  },
  {
   "cell_type": "code",
   "execution_count": 28,
   "id": "fa16a5ad",
   "metadata": {
    "execution": {
     "iopub.execute_input": "2022-09-19T10:04:02.895990Z",
     "iopub.status.busy": "2022-09-19T10:04:02.895990Z",
     "iopub.status.idle": "2022-09-19T10:04:02.907989Z",
     "shell.execute_reply": "2022-09-19T10:04:02.907020Z"
    }
   },
   "outputs": [
    {
     "data": {
      "text/html": [
       "<div>\n",
       "<style scoped>\n",
       "    .dataframe tbody tr th:only-of-type {\n",
       "        vertical-align: middle;\n",
       "    }\n",
       "\n",
       "    .dataframe tbody tr th {\n",
       "        vertical-align: top;\n",
       "    }\n",
       "\n",
       "    .dataframe thead th {\n",
       "        text-align: right;\n",
       "    }\n",
       "</style>\n",
       "<table border=\"1\" class=\"dataframe\">\n",
       "  <thead>\n",
       "    <tr style=\"text-align: right;\">\n",
       "      <th></th>\n",
       "      <th>Status</th>\n",
       "    </tr>\n",
       "  </thead>\n",
       "  <tbody>\n",
       "  </tbody>\n",
       "</table>\n",
       "</div>"
      ],
      "text/plain": [
       "Empty DataFrame\n",
       "Columns: [Status]\n",
       "Index: []"
      ]
     },
     "execution_count": 28,
     "metadata": {},
     "output_type": "execute_result"
    }
   ],
   "source": [
    "warehouse_df4 = warehouse_df4.rename_axis(None, axis=1)\n",
    "warehouse_df4"
   ]
  },
  {
   "cell_type": "code",
   "execution_count": 29,
   "id": "be505001",
   "metadata": {
    "execution": {
     "iopub.execute_input": "2022-09-19T10:04:02.910526Z",
     "iopub.status.busy": "2022-09-19T10:04:02.910526Z",
     "iopub.status.idle": "2022-09-19T10:04:02.923538Z",
     "shell.execute_reply": "2022-09-19T10:04:02.922583Z"
    }
   },
   "outputs": [],
   "source": [
    "# Save Warehouse into JSON file\n",
    "warehouse_df4.to_json('data/warehouse.json')"
   ]
  },
  {
   "cell_type": "code",
   "execution_count": 30,
   "id": "6137ffa2",
   "metadata": {
    "execution": {
     "iopub.execute_input": "2022-09-19T10:04:02.926539Z",
     "iopub.status.busy": "2022-09-19T10:04:02.925537Z",
     "iopub.status.idle": "2022-09-19T10:04:02.939535Z",
     "shell.execute_reply": "2022-09-19T10:04:02.938566Z"
    }
   },
   "outputs": [],
   "source": [
    "# Close connection\n",
    "cnxn.close()"
   ]
  },
  {
   "cell_type": "code",
   "execution_count": null,
   "id": "30f09d04",
   "metadata": {},
   "outputs": [],
   "source": []
  }
 ],
 "metadata": {
  "kernelspec": {
   "display_name": "PythonData",
   "language": "python",
   "name": "pythondata"
  },
  "language_info": {
   "codemirror_mode": {
    "name": "ipython",
    "version": 3
   },
   "file_extension": ".py",
   "mimetype": "text/x-python",
   "name": "python",
   "nbconvert_exporter": "python",
   "pygments_lexer": "ipython3",
   "version": "3.7.11"
  }
 },
 "nbformat": 4,
 "nbformat_minor": 5
}
