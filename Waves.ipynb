{
 "cells": [
  {
   "cell_type": "markdown",
   "id": "ca7e8c24",
   "metadata": {},
   "source": [
    "# WAVES"
   ]
  },
  {
   "cell_type": "code",
   "execution_count": 1,
   "id": "ade09779",
   "metadata": {
    "execution": {
     "iopub.execute_input": "2022-07-04T06:32:24.011172Z",
     "iopub.status.busy": "2022-07-04T06:32:24.010204Z",
     "iopub.status.idle": "2022-07-04T06:32:24.731897Z",
     "shell.execute_reply": "2022-07-04T06:32:24.730896Z"
    }
   },
   "outputs": [],
   "source": [
    "import pyodbc\n",
    "import pandas as pd"
   ]
  },
  {
   "cell_type": "code",
   "execution_count": 2,
   "id": "10a73873",
   "metadata": {
    "execution": {
     "iopub.execute_input": "2022-07-04T06:32:24.736896Z",
     "iopub.status.busy": "2022-07-04T06:32:24.735896Z",
     "iopub.status.idle": "2022-07-04T06:32:24.811518Z",
     "shell.execute_reply": "2022-07-04T06:32:24.811010Z"
    }
   },
   "outputs": [],
   "source": [
    "cnxn = pyodbc.connect(\"Driver={SQL Server Native Client 11.0};\"\n",
    "                        \"Server=wd02;\"\n",
    "                        \"Database=FootPrint;\"\n",
    "                        \"Trusted_Connection=yes;\")"
   ]
  },
  {
   "cell_type": "markdown",
   "id": "49f49c4d",
   "metadata": {},
   "source": [
    "### Query"
   ]
  },
  {
   "cell_type": "code",
   "execution_count": 3,
   "id": "a36ea14d",
   "metadata": {
    "execution": {
     "iopub.execute_input": "2022-07-04T06:32:24.816528Z",
     "iopub.status.busy": "2022-07-04T06:32:24.816528Z",
     "iopub.status.idle": "2022-07-04T06:32:25.015547Z",
     "shell.execute_reply": "2022-07-04T06:32:25.014547Z"
    }
   },
   "outputs": [],
   "source": [
    "df = pd.read_sql_query(\"SELECT CONVERT(varchar,w.releaseDate,100) Date, w.id, wa.name Warehouse, s.lookupCode Shipments, p.name Customer, ss.name ShipmentStatus\\\n",
    "    FROM datex_footprint.Waves w\\\n",
    "    JOIN datex_footprint.WaveStatuses ws\\\n",
    "        ON ws.id = w.statusId\\\n",
    "    JOIN datex_footprint.Warehouses wa\\\n",
    "        ON wa.id = w.warehouseId\\\n",
    "    JOIN datex_footprint.shipments s\\\n",
    "        ON s.waveId = w.id\\\n",
    "    JOIN datex_footprint.ShipmentOrderLookup sol\\\n",
    "        ON sol.shipmentId = s.id\\\n",
    "    JOIN datex_footprint.Orders o\\\n",
    "        ON o.id = sol.orderId\\\n",
    "    JOIN datex_footprint.Projects p\\\n",
    "        ON p.id = o.projectId\\\n",
    "    JOIN datex_footprint.ShipmentStatuses ss\\\n",
    "        ON ss.id = s.statusId\\\n",
    "    WHERE releaseDate > dateadd(day,-1,getdate())\\\n",
    "        AND w.statusId = 3\\\n",
    "    ORDER BY releaseDate DESC\", cnxn)"
   ]
  },
  {
   "cell_type": "markdown",
   "id": "e7150e3c",
   "metadata": {},
   "source": [
    "# Create Waves Table Data"
   ]
  },
  {
   "cell_type": "code",
   "execution_count": 4,
   "id": "845a7997",
   "metadata": {
    "execution": {
     "iopub.execute_input": "2022-07-04T06:32:25.017549Z",
     "iopub.status.busy": "2022-07-04T06:32:25.017549Z",
     "iopub.status.idle": "2022-07-04T06:32:25.045202Z",
     "shell.execute_reply": "2022-07-04T06:32:25.044201Z"
    }
   },
   "outputs": [
    {
     "data": {
      "text/html": [
       "<div>\n",
       "<style scoped>\n",
       "    .dataframe tbody tr th:only-of-type {\n",
       "        vertical-align: middle;\n",
       "    }\n",
       "\n",
       "    .dataframe tbody tr th {\n",
       "        vertical-align: top;\n",
       "    }\n",
       "\n",
       "    .dataframe thead th {\n",
       "        text-align: right;\n",
       "    }\n",
       "</style>\n",
       "<table border=\"1\" class=\"dataframe\">\n",
       "  <thead>\n",
       "    <tr style=\"text-align: right;\">\n",
       "      <th></th>\n",
       "      <th>Date</th>\n",
       "      <th>id</th>\n",
       "      <th>Warehouse</th>\n",
       "      <th>Shipments</th>\n",
       "      <th>Customer</th>\n",
       "      <th>ShipmentStatus</th>\n",
       "    </tr>\n",
       "  </thead>\n",
       "  <tbody>\n",
       "  </tbody>\n",
       "</table>\n",
       "</div>"
      ],
      "text/plain": [
       "Empty DataFrame\n",
       "Columns: [Date, id, Warehouse, Shipments, Customer, ShipmentStatus]\n",
       "Index: []"
      ]
     },
     "execution_count": 4,
     "metadata": {},
     "output_type": "execute_result"
    }
   ],
   "source": [
    "df.head(10)"
   ]
  },
  {
   "cell_type": "code",
   "execution_count": 5,
   "id": "fbdc4124",
   "metadata": {
    "execution": {
     "iopub.execute_input": "2022-07-04T06:32:25.048202Z",
     "iopub.status.busy": "2022-07-04T06:32:25.047200Z",
     "iopub.status.idle": "2022-07-04T06:32:25.059852Z",
     "shell.execute_reply": "2022-07-04T06:32:25.059340Z"
    }
   },
   "outputs": [
    {
     "data": {
      "text/html": [
       "<div>\n",
       "<style scoped>\n",
       "    .dataframe tbody tr th:only-of-type {\n",
       "        vertical-align: middle;\n",
       "    }\n",
       "\n",
       "    .dataframe tbody tr th {\n",
       "        vertical-align: top;\n",
       "    }\n",
       "\n",
       "    .dataframe thead th {\n",
       "        text-align: right;\n",
       "    }\n",
       "</style>\n",
       "<table border=\"1\" class=\"dataframe\">\n",
       "  <thead>\n",
       "    <tr style=\"text-align: right;\">\n",
       "      <th></th>\n",
       "      <th>id</th>\n",
       "      <th>ShipmentStatus</th>\n",
       "      <th>Shipments</th>\n",
       "    </tr>\n",
       "  </thead>\n",
       "  <tbody>\n",
       "  </tbody>\n",
       "</table>\n",
       "</div>"
      ],
      "text/plain": [
       "Empty DataFrame\n",
       "Columns: [id, ShipmentStatus, Shipments]\n",
       "Index: []"
      ]
     },
     "execution_count": 5,
     "metadata": {},
     "output_type": "execute_result"
    }
   ],
   "source": [
    "# Count Shipments per Wave and Status\n",
    "count_shipments_statusdf = df.groupby(['id', 'ShipmentStatus']).count()[['Shipments']]\n",
    "count_shipments_statusdf.reset_index(inplace=True)\n",
    "count_shipments_statusdf.tail()"
   ]
  },
  {
   "cell_type": "code",
   "execution_count": 6,
   "id": "5a210b35",
   "metadata": {
    "execution": {
     "iopub.execute_input": "2022-07-04T06:32:25.062861Z",
     "iopub.status.busy": "2022-07-04T06:32:25.062861Z",
     "iopub.status.idle": "2022-07-04T06:32:25.075864Z",
     "shell.execute_reply": "2022-07-04T06:32:25.074863Z"
    }
   },
   "outputs": [
    {
     "data": {
      "text/html": [
       "<div>\n",
       "<style scoped>\n",
       "    .dataframe tbody tr th:only-of-type {\n",
       "        vertical-align: middle;\n",
       "    }\n",
       "\n",
       "    .dataframe tbody tr th {\n",
       "        vertical-align: top;\n",
       "    }\n",
       "\n",
       "    .dataframe thead th {\n",
       "        text-align: right;\n",
       "    }\n",
       "</style>\n",
       "<table border=\"1\" class=\"dataframe\">\n",
       "  <thead>\n",
       "    <tr style=\"text-align: right;\">\n",
       "      <th>ShipmentStatus</th>\n",
       "    </tr>\n",
       "    <tr>\n",
       "      <th>id</th>\n",
       "    </tr>\n",
       "  </thead>\n",
       "  <tbody>\n",
       "  </tbody>\n",
       "</table>\n",
       "</div>"
      ],
      "text/plain": [
       "Empty DataFrame\n",
       "Columns: []\n",
       "Index: []"
      ]
     },
     "execution_count": 6,
     "metadata": {},
     "output_type": "execute_result"
    }
   ],
   "source": [
    "# Convert Statuses to Columns\n",
    "shipment_pivot = count_shipments_statusdf.pivot(index='id', columns='ShipmentStatus', values='Shipments')\n",
    "shipment_pivot.tail()"
   ]
  },
  {
   "cell_type": "code",
   "execution_count": 7,
   "id": "d292f585",
   "metadata": {
    "execution": {
     "iopub.execute_input": "2022-07-04T06:32:25.078865Z",
     "iopub.status.busy": "2022-07-04T06:32:25.077865Z",
     "iopub.status.idle": "2022-07-04T06:32:25.091568Z",
     "shell.execute_reply": "2022-07-04T06:32:25.091060Z"
    }
   },
   "outputs": [
    {
     "data": {
      "text/html": [
       "<div>\n",
       "<style scoped>\n",
       "    .dataframe tbody tr th:only-of-type {\n",
       "        vertical-align: middle;\n",
       "    }\n",
       "\n",
       "    .dataframe tbody tr th {\n",
       "        vertical-align: top;\n",
       "    }\n",
       "\n",
       "    .dataframe thead th {\n",
       "        text-align: right;\n",
       "    }\n",
       "</style>\n",
       "<table border=\"1\" class=\"dataframe\">\n",
       "  <thead>\n",
       "    <tr style=\"text-align: right;\">\n",
       "      <th>ShipmentStatus</th>\n",
       "    </tr>\n",
       "    <tr>\n",
       "      <th>id</th>\n",
       "    </tr>\n",
       "  </thead>\n",
       "  <tbody>\n",
       "  </tbody>\n",
       "</table>\n",
       "</div>"
      ],
      "text/plain": [
       "Empty DataFrame\n",
       "Columns: []\n",
       "Index: []"
      ]
     },
     "execution_count": 7,
     "metadata": {},
     "output_type": "execute_result"
    }
   ],
   "source": [
    "# Convert NaN to 0\n",
    "shipment_pivot = shipment_pivot.fillna(0)\n",
    "shipment_pivot.head()"
   ]
  },
  {
   "cell_type": "code",
   "execution_count": 8,
   "id": "8a2d9f19",
   "metadata": {
    "execution": {
     "iopub.execute_input": "2022-07-04T06:32:25.095578Z",
     "iopub.status.busy": "2022-07-04T06:32:25.094576Z",
     "iopub.status.idle": "2022-07-04T06:32:25.107580Z",
     "shell.execute_reply": "2022-07-04T06:32:25.106578Z"
    }
   },
   "outputs": [
    {
     "name": "stdout",
     "output_type": "stream",
     "text": [
      "Column Completed does not exist yet\n",
      "Column Executing does not exist yet\n",
      "Column Released does not exist yet\n"
     ]
    },
    {
     "data": {
      "text/html": [
       "<div>\n",
       "<style scoped>\n",
       "    .dataframe tbody tr th:only-of-type {\n",
       "        vertical-align: middle;\n",
       "    }\n",
       "\n",
       "    .dataframe tbody tr th {\n",
       "        vertical-align: top;\n",
       "    }\n",
       "\n",
       "    .dataframe thead th {\n",
       "        text-align: right;\n",
       "    }\n",
       "</style>\n",
       "<table border=\"1\" class=\"dataframe\">\n",
       "  <thead>\n",
       "    <tr style=\"text-align: right;\">\n",
       "      <th>ShipmentStatus</th>\n",
       "    </tr>\n",
       "    <tr>\n",
       "      <th>id</th>\n",
       "    </tr>\n",
       "  </thead>\n",
       "  <tbody>\n",
       "  </tbody>\n",
       "</table>\n",
       "</div>"
      ],
      "text/plain": [
       "Empty DataFrame\n",
       "Columns: []\n",
       "Index: []"
      ]
     },
     "execution_count": 8,
     "metadata": {},
     "output_type": "execute_result"
    }
   ],
   "source": [
    "# Convert Float to Int\n",
    "try:\n",
    "    shipment_pivot['Completed'] = shipment_pivot['Completed'].astype(int)\n",
    "except:\n",
    "    print('Column Completed does not exist yet')\n",
    "\n",
    "try:\n",
    "    shipment_pivot['Executing'] = shipment_pivot['Executing'].astype(int)\n",
    "except:\n",
    "    print('Column Executing does not exist yet')\n",
    "\n",
    "try:\n",
    "    shipment_pivot['Released'] = shipment_pivot['Released'].astype(int)\n",
    "except:\n",
    "    print('Column Released does not exist yet')\n",
    "\n",
    "shipment_pivot.head()"
   ]
  },
  {
   "cell_type": "code",
   "execution_count": 9,
   "id": "dd56ac2a",
   "metadata": {
    "execution": {
     "iopub.execute_input": "2022-07-04T06:32:25.111577Z",
     "iopub.status.busy": "2022-07-04T06:32:25.110577Z",
     "iopub.status.idle": "2022-07-04T06:32:25.123580Z",
     "shell.execute_reply": "2022-07-04T06:32:25.122580Z"
    }
   },
   "outputs": [
    {
     "data": {
      "text/html": [
       "<div>\n",
       "<style scoped>\n",
       "    .dataframe tbody tr th:only-of-type {\n",
       "        vertical-align: middle;\n",
       "    }\n",
       "\n",
       "    .dataframe tbody tr th {\n",
       "        vertical-align: top;\n",
       "    }\n",
       "\n",
       "    .dataframe thead th {\n",
       "        text-align: right;\n",
       "    }\n",
       "</style>\n",
       "<table border=\"1\" class=\"dataframe\">\n",
       "  <thead>\n",
       "    <tr style=\"text-align: right;\">\n",
       "      <th>ShipmentStatus</th>\n",
       "      <th>id</th>\n",
       "    </tr>\n",
       "  </thead>\n",
       "  <tbody>\n",
       "  </tbody>\n",
       "</table>\n",
       "</div>"
      ],
      "text/plain": [
       "Empty DataFrame\n",
       "Columns: [id]\n",
       "Index: []"
      ]
     },
     "execution_count": 9,
     "metadata": {},
     "output_type": "execute_result"
    }
   ],
   "source": [
    "# Convert id index to a column\n",
    "shipment_pivot.reset_index(inplace=True)\n",
    "shipment_pivot.head()"
   ]
  },
  {
   "cell_type": "code",
   "execution_count": 10,
   "id": "732ec321",
   "metadata": {
    "execution": {
     "iopub.execute_input": "2022-07-04T06:32:25.126578Z",
     "iopub.status.busy": "2022-07-04T06:32:25.126578Z",
     "iopub.status.idle": "2022-07-04T06:32:25.139173Z",
     "shell.execute_reply": "2022-07-04T06:32:25.138665Z"
    }
   },
   "outputs": [
    {
     "name": "stdout",
     "output_type": "stream",
     "text": [
      "Column Completed does not exist yet\n",
      "Column Executing does not exist yet\n",
      "Column Released does not exist yet\n"
     ]
    },
    {
     "data": {
      "text/html": [
       "<div>\n",
       "<style scoped>\n",
       "    .dataframe tbody tr th:only-of-type {\n",
       "        vertical-align: middle;\n",
       "    }\n",
       "\n",
       "    .dataframe tbody tr th {\n",
       "        vertical-align: top;\n",
       "    }\n",
       "\n",
       "    .dataframe thead th {\n",
       "        text-align: right;\n",
       "    }\n",
       "</style>\n",
       "<table border=\"1\" class=\"dataframe\">\n",
       "  <thead>\n",
       "    <tr style=\"text-align: right;\">\n",
       "      <th>ShipmentStatus</th>\n",
       "      <th>id</th>\n",
       "    </tr>\n",
       "  </thead>\n",
       "  <tbody>\n",
       "  </tbody>\n",
       "</table>\n",
       "</div>"
      ],
      "text/plain": [
       "Empty DataFrame\n",
       "Columns: [id]\n",
       "Index: []"
      ]
     },
     "execution_count": 10,
     "metadata": {},
     "output_type": "execute_result"
    }
   ],
   "source": [
    "# Convert zeros to blanks. This also change the data type to String\n",
    "try:\n",
    "    shipment_pivot['Completed'].replace([0, ''], '', inplace=True)\n",
    "except:\n",
    "    print('Column Completed does not exist yet')\n",
    "    \n",
    "try:\n",
    "    shipment_pivot['Executing'].replace([0, ''], '', inplace=True)\n",
    "except:\n",
    "    print('Column Executing does not exist yet')\n",
    "\n",
    "try:\n",
    "    shipment_pivot['Released'].replace([0, ''], '', inplace=True)\n",
    "except:\n",
    "    print('Column Released does not exist yet')\n",
    "    \n",
    "shipment_pivot.head()"
   ]
  },
  {
   "cell_type": "code",
   "execution_count": 11,
   "id": "0f1d4b18",
   "metadata": {
    "execution": {
     "iopub.execute_input": "2022-07-04T06:32:25.142182Z",
     "iopub.status.busy": "2022-07-04T06:32:25.142182Z",
     "iopub.status.idle": "2022-07-04T06:32:25.155199Z",
     "shell.execute_reply": "2022-07-04T06:32:25.154184Z"
    }
   },
   "outputs": [
    {
     "data": {
      "text/plain": [
       "ShipmentStatus\n",
       "id    object\n",
       "dtype: object"
      ]
     },
     "execution_count": 11,
     "metadata": {},
     "output_type": "execute_result"
    }
   ],
   "source": [
    "shipment_pivot.dtypes"
   ]
  },
  {
   "cell_type": "code",
   "execution_count": 12,
   "id": "86c90f9e",
   "metadata": {
    "execution": {
     "iopub.execute_input": "2022-07-04T06:32:25.158182Z",
     "iopub.status.busy": "2022-07-04T06:32:25.158182Z",
     "iopub.status.idle": "2022-07-04T06:32:25.171183Z",
     "shell.execute_reply": "2022-07-04T06:32:25.170182Z"
    }
   },
   "outputs": [],
   "source": [
    "# Change columns order\n",
    "df = df[['Date', 'id', 'Warehouse', 'Customer']]"
   ]
  },
  {
   "cell_type": "code",
   "execution_count": 13,
   "id": "c398d4ee",
   "metadata": {
    "execution": {
     "iopub.execute_input": "2022-07-04T06:32:25.174184Z",
     "iopub.status.busy": "2022-07-04T06:32:25.174184Z",
     "iopub.status.idle": "2022-07-04T06:32:25.186183Z",
     "shell.execute_reply": "2022-07-04T06:32:25.185213Z"
    }
   },
   "outputs": [],
   "source": [
    "# Drops duplicates\n",
    "df = df.drop_duplicates()"
   ]
  },
  {
   "cell_type": "code",
   "execution_count": 14,
   "id": "2db34f0d",
   "metadata": {
    "execution": {
     "iopub.execute_input": "2022-07-04T06:32:25.188215Z",
     "iopub.status.busy": "2022-07-04T06:32:25.188215Z",
     "iopub.status.idle": "2022-07-04T06:32:25.201183Z",
     "shell.execute_reply": "2022-07-04T06:32:25.200186Z"
    }
   },
   "outputs": [
    {
     "data": {
      "text/html": [
       "<div>\n",
       "<style scoped>\n",
       "    .dataframe tbody tr th:only-of-type {\n",
       "        vertical-align: middle;\n",
       "    }\n",
       "\n",
       "    .dataframe tbody tr th {\n",
       "        vertical-align: top;\n",
       "    }\n",
       "\n",
       "    .dataframe thead th {\n",
       "        text-align: right;\n",
       "    }\n",
       "</style>\n",
       "<table border=\"1\" class=\"dataframe\">\n",
       "  <thead>\n",
       "    <tr style=\"text-align: right;\">\n",
       "      <th></th>\n",
       "      <th>Date</th>\n",
       "      <th>id</th>\n",
       "      <th>Warehouse</th>\n",
       "      <th>Customer</th>\n",
       "    </tr>\n",
       "  </thead>\n",
       "  <tbody>\n",
       "  </tbody>\n",
       "</table>\n",
       "</div>"
      ],
      "text/plain": [
       "Empty DataFrame\n",
       "Columns: [Date, id, Warehouse, Customer]\n",
       "Index: []"
      ]
     },
     "execution_count": 14,
     "metadata": {},
     "output_type": "execute_result"
    }
   ],
   "source": [
    "df.head(10)"
   ]
  },
  {
   "cell_type": "code",
   "execution_count": 15,
   "id": "1bcb0348",
   "metadata": {
    "execution": {
     "iopub.execute_input": "2022-07-04T06:32:25.204187Z",
     "iopub.status.busy": "2022-07-04T06:32:25.203182Z",
     "iopub.status.idle": "2022-07-04T06:32:25.217187Z",
     "shell.execute_reply": "2022-07-04T06:32:25.216218Z"
    }
   },
   "outputs": [
    {
     "data": {
      "text/html": [
       "<div>\n",
       "<style scoped>\n",
       "    .dataframe tbody tr th:only-of-type {\n",
       "        vertical-align: middle;\n",
       "    }\n",
       "\n",
       "    .dataframe tbody tr th {\n",
       "        vertical-align: top;\n",
       "    }\n",
       "\n",
       "    .dataframe thead th {\n",
       "        text-align: right;\n",
       "    }\n",
       "</style>\n",
       "<table border=\"1\" class=\"dataframe\">\n",
       "  <thead>\n",
       "    <tr style=\"text-align: right;\">\n",
       "      <th></th>\n",
       "      <th>Date</th>\n",
       "      <th>Warehouse</th>\n",
       "      <th>Customer</th>\n",
       "      <th>id</th>\n",
       "    </tr>\n",
       "  </thead>\n",
       "  <tbody>\n",
       "  </tbody>\n",
       "</table>\n",
       "</div>"
      ],
      "text/plain": [
       "Empty DataFrame\n",
       "Columns: [Date, Warehouse, Customer, id]\n",
       "Index: []"
      ]
     },
     "execution_count": 15,
     "metadata": {},
     "output_type": "execute_result"
    }
   ],
   "source": [
    "# Merge df with pivot table\n",
    "df2 = df.merge(shipment_pivot, left_on='id', right_on='id')\n",
    "df2.head(10)"
   ]
  },
  {
   "cell_type": "code",
   "execution_count": 16,
   "id": "27c97993",
   "metadata": {
    "execution": {
     "iopub.execute_input": "2022-07-04T06:32:25.219226Z",
     "iopub.status.busy": "2022-07-04T06:32:25.219226Z",
     "iopub.status.idle": "2022-07-04T06:32:25.233187Z",
     "shell.execute_reply": "2022-07-04T06:32:25.232184Z"
    }
   },
   "outputs": [],
   "source": [
    "wave_df = pd.DataFrame()\n",
    "statuses = list(df2.columns)\n",
    "\n",
    "# Reorder columns\n",
    "if ('Released' in statuses) and ('Executing' in statuses) and ('Completed' in statuses):\n",
    "    wave_df = df2[['Date', 'id', 'Warehouse', 'Customer', 'Released', 'Executing', 'Completed']]\n",
    "elif ('Released' in statuses) and ('Executing' in statuses):\n",
    "    wave_df = df2[['Date', 'id', 'Warehouse', 'Customer', 'Released', 'Executing']]\n",
    "elif ('Released' in statuses) and ('Completed' in statuses):\n",
    "    wave_df = df2[['Date', 'id', 'Warehouse', 'Customer', 'Released', 'Completed']]\n",
    "elif ('Released' in statuses):\n",
    "    wave_df = df2[['Date', 'id', 'Warehouse', 'Customer', 'Released']]\n",
    "else:\n",
    "    wave_df = df2[['Date', 'id', 'Warehouse', 'Customer']]"
   ]
  },
  {
   "cell_type": "code",
   "execution_count": 17,
   "id": "0980b3ed",
   "metadata": {
    "execution": {
     "iopub.execute_input": "2022-07-04T06:32:25.235186Z",
     "iopub.status.busy": "2022-07-04T06:32:25.235186Z",
     "iopub.status.idle": "2022-07-04T06:32:25.248869Z",
     "shell.execute_reply": "2022-07-04T06:32:25.248183Z"
    }
   },
   "outputs": [
    {
     "data": {
      "text/html": [
       "<div>\n",
       "<style scoped>\n",
       "    .dataframe tbody tr th:only-of-type {\n",
       "        vertical-align: middle;\n",
       "    }\n",
       "\n",
       "    .dataframe tbody tr th {\n",
       "        vertical-align: top;\n",
       "    }\n",
       "\n",
       "    .dataframe thead th {\n",
       "        text-align: right;\n",
       "    }\n",
       "</style>\n",
       "<table border=\"1\" class=\"dataframe\">\n",
       "  <thead>\n",
       "    <tr style=\"text-align: right;\">\n",
       "      <th></th>\n",
       "      <th>Date</th>\n",
       "      <th>id</th>\n",
       "      <th>Warehouse</th>\n",
       "      <th>Customer</th>\n",
       "    </tr>\n",
       "  </thead>\n",
       "  <tbody>\n",
       "  </tbody>\n",
       "</table>\n",
       "</div>"
      ],
      "text/plain": [
       "Empty DataFrame\n",
       "Columns: [Date, id, Warehouse, Customer]\n",
       "Index: []"
      ]
     },
     "execution_count": 17,
     "metadata": {},
     "output_type": "execute_result"
    }
   ],
   "source": [
    "wave_df.head(10)"
   ]
  },
  {
   "cell_type": "code",
   "execution_count": 18,
   "id": "19117df3",
   "metadata": {
    "execution": {
     "iopub.execute_input": "2022-07-04T06:32:25.251387Z",
     "iopub.status.busy": "2022-07-04T06:32:25.251387Z",
     "iopub.status.idle": "2022-07-04T06:32:25.264034Z",
     "shell.execute_reply": "2022-07-04T06:32:25.263526Z"
    }
   },
   "outputs": [],
   "source": [
    "# Save Waves DF into json file\n",
    "wave_df.to_json('data/waves.json')"
   ]
  },
  {
   "cell_type": "markdown",
   "id": "0509bd7b",
   "metadata": {},
   "source": [
    "# Warehouse Pie Chart Data"
   ]
  },
  {
   "cell_type": "code",
   "execution_count": 19,
   "id": "8f7a231b",
   "metadata": {
    "execution": {
     "iopub.execute_input": "2022-07-04T06:32:25.267046Z",
     "iopub.status.busy": "2022-07-04T06:32:25.267046Z",
     "iopub.status.idle": "2022-07-04T06:32:25.279596Z",
     "shell.execute_reply": "2022-07-04T06:32:25.279048Z"
    }
   },
   "outputs": [
    {
     "data": {
      "text/html": [
       "<div>\n",
       "<style scoped>\n",
       "    .dataframe tbody tr th:only-of-type {\n",
       "        vertical-align: middle;\n",
       "    }\n",
       "\n",
       "    .dataframe tbody tr th {\n",
       "        vertical-align: top;\n",
       "    }\n",
       "\n",
       "    .dataframe thead th {\n",
       "        text-align: right;\n",
       "    }\n",
       "</style>\n",
       "<table border=\"1\" class=\"dataframe\">\n",
       "  <thead>\n",
       "    <tr style=\"text-align: right;\">\n",
       "      <th></th>\n",
       "      <th>Date</th>\n",
       "      <th>id</th>\n",
       "      <th>Warehouse</th>\n",
       "      <th>Customer</th>\n",
       "    </tr>\n",
       "  </thead>\n",
       "  <tbody>\n",
       "  </tbody>\n",
       "</table>\n",
       "</div>"
      ],
      "text/plain": [
       "Empty DataFrame\n",
       "Columns: [Date, id, Warehouse, Customer]\n",
       "Index: []"
      ]
     },
     "execution_count": 19,
     "metadata": {},
     "output_type": "execute_result"
    }
   ],
   "source": [
    "# Save df2 in df3\n",
    "warehouse_df = wave_df\n",
    "warehouse_df.head()"
   ]
  },
  {
   "cell_type": "code",
   "execution_count": 20,
   "id": "74bc202e",
   "metadata": {
    "execution": {
     "iopub.execute_input": "2022-07-04T06:32:25.283029Z",
     "iopub.status.busy": "2022-07-04T06:32:25.283029Z",
     "iopub.status.idle": "2022-07-04T06:32:25.295449Z",
     "shell.execute_reply": "2022-07-04T06:32:25.294449Z"
    }
   },
   "outputs": [
    {
     "name": "stdout",
     "output_type": "stream",
     "text": [
      "Column Released does not exist yet\n",
      "Column Executing does not exist yet\n",
      "Column Completed does not exist yet\n"
     ]
    },
    {
     "data": {
      "text/html": [
       "<div>\n",
       "<style scoped>\n",
       "    .dataframe tbody tr th:only-of-type {\n",
       "        vertical-align: middle;\n",
       "    }\n",
       "\n",
       "    .dataframe tbody tr th {\n",
       "        vertical-align: top;\n",
       "    }\n",
       "\n",
       "    .dataframe thead th {\n",
       "        text-align: right;\n",
       "    }\n",
       "</style>\n",
       "<table border=\"1\" class=\"dataframe\">\n",
       "  <thead>\n",
       "    <tr style=\"text-align: right;\">\n",
       "      <th></th>\n",
       "      <th>Date</th>\n",
       "      <th>id</th>\n",
       "      <th>Warehouse</th>\n",
       "      <th>Customer</th>\n",
       "    </tr>\n",
       "  </thead>\n",
       "  <tbody>\n",
       "  </tbody>\n",
       "</table>\n",
       "</div>"
      ],
      "text/plain": [
       "Empty DataFrame\n",
       "Columns: [Date, id, Warehouse, Customer]\n",
       "Index: []"
      ]
     },
     "execution_count": 20,
     "metadata": {},
     "output_type": "execute_result"
    }
   ],
   "source": [
    "# Conver String to Float\n",
    "try:\n",
    "    warehouse_df['Released'] = pd.to_numeric(warehouse_df['Released'],errors='coerce')\n",
    "except:\n",
    "    print('Column Released does not exist yet')\n",
    "\n",
    "try:\n",
    "    warehouse_df['Executing'] = pd.to_numeric(warehouse_df['Executing'],errors='coerce')\n",
    "except:\n",
    "    print('Column Executing does not exist yet')\n",
    "\n",
    "try:\n",
    "    warehouse_df['Completed'] = pd.to_numeric(warehouse_df['Completed'],errors='coerce')\n",
    "except:\n",
    "    print('Column Completed does not exist yet')\n",
    "\n",
    "warehouse_df.head()"
   ]
  },
  {
   "cell_type": "code",
   "execution_count": 21,
   "id": "d80e31c0",
   "metadata": {
    "execution": {
     "iopub.execute_input": "2022-07-04T06:32:25.298216Z",
     "iopub.status.busy": "2022-07-04T06:32:25.298216Z",
     "iopub.status.idle": "2022-07-04T06:32:25.310661Z",
     "shell.execute_reply": "2022-07-04T06:32:25.309503Z"
    }
   },
   "outputs": [
    {
     "data": {
      "text/html": [
       "<div>\n",
       "<style scoped>\n",
       "    .dataframe tbody tr th:only-of-type {\n",
       "        vertical-align: middle;\n",
       "    }\n",
       "\n",
       "    .dataframe tbody tr th {\n",
       "        vertical-align: top;\n",
       "    }\n",
       "\n",
       "    .dataframe thead th {\n",
       "        text-align: right;\n",
       "    }\n",
       "</style>\n",
       "<table border=\"1\" class=\"dataframe\">\n",
       "  <thead>\n",
       "    <tr style=\"text-align: right;\">\n",
       "      <th></th>\n",
       "      <th>Date</th>\n",
       "      <th>id</th>\n",
       "      <th>Warehouse</th>\n",
       "      <th>Customer</th>\n",
       "    </tr>\n",
       "  </thead>\n",
       "  <tbody>\n",
       "  </tbody>\n",
       "</table>\n",
       "</div>"
      ],
      "text/plain": [
       "Empty DataFrame\n",
       "Columns: [Date, id, Warehouse, Customer]\n",
       "Index: []"
      ]
     },
     "execution_count": 21,
     "metadata": {},
     "output_type": "execute_result"
    }
   ],
   "source": [
    "# Conver NaN to Zero\n",
    "warehouse_df = warehouse_df.fillna(0)\n",
    "warehouse_df.head()"
   ]
  },
  {
   "cell_type": "code",
   "execution_count": 22,
   "id": "8151af58",
   "metadata": {
    "execution": {
     "iopub.execute_input": "2022-07-04T06:32:25.313425Z",
     "iopub.status.busy": "2022-07-04T06:32:25.313246Z",
     "iopub.status.idle": "2022-07-04T06:32:25.325232Z",
     "shell.execute_reply": "2022-07-04T06:32:25.324722Z"
    }
   },
   "outputs": [
    {
     "data": {
      "text/html": [
       "<div>\n",
       "<style scoped>\n",
       "    .dataframe tbody tr th:only-of-type {\n",
       "        vertical-align: middle;\n",
       "    }\n",
       "\n",
       "    .dataframe tbody tr th {\n",
       "        vertical-align: top;\n",
       "    }\n",
       "\n",
       "    .dataframe thead th {\n",
       "        text-align: right;\n",
       "    }\n",
       "</style>\n",
       "<table border=\"1\" class=\"dataframe\">\n",
       "  <thead>\n",
       "    <tr style=\"text-align: right;\">\n",
       "      <th></th>\n",
       "    </tr>\n",
       "    <tr>\n",
       "      <th>Warehouse</th>\n",
       "    </tr>\n",
       "  </thead>\n",
       "  <tbody>\n",
       "  </tbody>\n",
       "</table>\n",
       "</div>"
      ],
      "text/plain": [
       "Empty DataFrame\n",
       "Columns: []\n",
       "Index: []"
      ]
     },
     "execution_count": 22,
     "metadata": {},
     "output_type": "execute_result"
    }
   ],
   "source": [
    "# Group by Warehouse\n",
    "warehouse_df = warehouse_df.groupby(['Warehouse']).sum()\n",
    "warehouse_df"
   ]
  },
  {
   "cell_type": "code",
   "execution_count": 23,
   "id": "634c80cc",
   "metadata": {
    "execution": {
     "iopub.execute_input": "2022-07-04T06:32:25.328658Z",
     "iopub.status.busy": "2022-07-04T06:32:25.328658Z",
     "iopub.status.idle": "2022-07-04T06:32:25.340326Z",
     "shell.execute_reply": "2022-07-04T06:32:25.339819Z"
    }
   },
   "outputs": [
    {
     "data": {
      "text/html": [
       "<div>\n",
       "<style scoped>\n",
       "    .dataframe tbody tr th:only-of-type {\n",
       "        vertical-align: middle;\n",
       "    }\n",
       "\n",
       "    .dataframe tbody tr th {\n",
       "        vertical-align: top;\n",
       "    }\n",
       "\n",
       "    .dataframe thead th {\n",
       "        text-align: right;\n",
       "    }\n",
       "</style>\n",
       "<table border=\"1\" class=\"dataframe\">\n",
       "  <thead>\n",
       "    <tr style=\"text-align: right;\">\n",
       "      <th></th>\n",
       "      <th>Warehouse</th>\n",
       "    </tr>\n",
       "  </thead>\n",
       "  <tbody>\n",
       "  </tbody>\n",
       "</table>\n",
       "</div>"
      ],
      "text/plain": [
       "Empty DataFrame\n",
       "Columns: [Warehouse]\n",
       "Index: []"
      ]
     },
     "execution_count": 23,
     "metadata": {},
     "output_type": "execute_result"
    }
   ],
   "source": [
    "# Reset Index\n",
    "warehouse_df.reset_index(inplace=True)\n",
    "warehouse_df"
   ]
  },
  {
   "cell_type": "code",
   "execution_count": 24,
   "id": "f9246e74",
   "metadata": {
    "execution": {
     "iopub.execute_input": "2022-07-04T06:32:25.343137Z",
     "iopub.status.busy": "2022-07-04T06:32:25.343137Z",
     "iopub.status.idle": "2022-07-04T06:32:25.355803Z",
     "shell.execute_reply": "2022-07-04T06:32:25.354778Z"
    }
   },
   "outputs": [
    {
     "data": {
      "text/html": [
       "<div>\n",
       "<style scoped>\n",
       "    .dataframe tbody tr th:only-of-type {\n",
       "        vertical-align: middle;\n",
       "    }\n",
       "\n",
       "    .dataframe tbody tr th {\n",
       "        vertical-align: top;\n",
       "    }\n",
       "\n",
       "    .dataframe thead th {\n",
       "        text-align: right;\n",
       "    }\n",
       "</style>\n",
       "<table border=\"1\" class=\"dataframe\">\n",
       "  <thead>\n",
       "    <tr style=\"text-align: right;\">\n",
       "      <th></th>\n",
       "      <th>Warehouse</th>\n",
       "    </tr>\n",
       "  </thead>\n",
       "  <tbody>\n",
       "  </tbody>\n",
       "</table>\n",
       "</div>"
      ],
      "text/plain": [
       "Empty DataFrame\n",
       "Columns: [Warehouse]\n",
       "Index: []"
      ]
     },
     "execution_count": 24,
     "metadata": {},
     "output_type": "execute_result"
    }
   ],
   "source": [
    "warehouses = list(warehouse_df.columns)\n",
    "warehouse_df2 = pd.DataFrame()\n",
    "\n",
    "if ('Released' in warehouses) and ('Executing' in warehouses) and ('Completed' in warehouses):\n",
    "    warehouse_df2 = warehouse_df[['Warehouse', 'Released', 'Executing', 'Completed']]\n",
    "elif ('Released' in warehouses) and ('Executing' in warehouses):\n",
    "    warehouse_df2 = warehouse_df[['Warehouse', 'Released', 'Executing']]\n",
    "elif ('Released' in warehouses) and ('Completed' in warehouses):\n",
    "    warehouse_df2 = warehouse_df[['Warehouse', 'Released', 'Completed']]\n",
    "elif ('Released' in warehouses):\n",
    "    warehouse_df2 = warehouse_df[['Warehouse', 'Released']]\n",
    "else:\n",
    "    warehouse_df2 = warehouse_df[['Warehouse']]\n",
    "\n",
    "warehouse_df2"
   ]
  },
  {
   "cell_type": "code",
   "execution_count": 25,
   "id": "25719670",
   "metadata": {
    "execution": {
     "iopub.execute_input": "2022-07-04T06:32:25.360172Z",
     "iopub.status.busy": "2022-07-04T06:32:25.360172Z",
     "iopub.status.idle": "2022-07-04T06:32:25.371199Z",
     "shell.execute_reply": "2022-07-04T06:32:25.370131Z"
    }
   },
   "outputs": [
    {
     "data": {
      "text/html": [
       "<div>\n",
       "<style scoped>\n",
       "    .dataframe tbody tr th:only-of-type {\n",
       "        vertical-align: middle;\n",
       "    }\n",
       "\n",
       "    .dataframe tbody tr th {\n",
       "        vertical-align: top;\n",
       "    }\n",
       "\n",
       "    .dataframe thead th {\n",
       "        text-align: right;\n",
       "    }\n",
       "</style>\n",
       "<table border=\"1\" class=\"dataframe\">\n",
       "  <thead>\n",
       "    <tr style=\"text-align: right;\">\n",
       "      <th></th>\n",
       "      <th>Warehouse</th>\n",
       "      <th>Status</th>\n",
       "      <th>Value</th>\n",
       "    </tr>\n",
       "  </thead>\n",
       "  <tbody>\n",
       "  </tbody>\n",
       "</table>\n",
       "</div>"
      ],
      "text/plain": [
       "Empty DataFrame\n",
       "Columns: [Warehouse, Status, Value]\n",
       "Index: []"
      ]
     },
     "execution_count": 25,
     "metadata": {},
     "output_type": "execute_result"
    }
   ],
   "source": [
    "warehouse_df2 = pd.melt(warehouse_df2, id_vars=[\"Warehouse\"], \n",
    "                  var_name=\"Status\", value_name=\"Value\")\n",
    "warehouse_df2.head()"
   ]
  },
  {
   "cell_type": "code",
   "execution_count": 26,
   "id": "0441825e",
   "metadata": {
    "execution": {
     "iopub.execute_input": "2022-07-04T06:32:25.375339Z",
     "iopub.status.busy": "2022-07-04T06:32:25.375339Z",
     "iopub.status.idle": "2022-07-04T06:32:25.386170Z",
     "shell.execute_reply": "2022-07-04T06:32:25.385203Z"
    }
   },
   "outputs": [
    {
     "data": {
      "text/html": [
       "<div>\n",
       "<style scoped>\n",
       "    .dataframe tbody tr th:only-of-type {\n",
       "        vertical-align: middle;\n",
       "    }\n",
       "\n",
       "    .dataframe tbody tr th {\n",
       "        vertical-align: top;\n",
       "    }\n",
       "\n",
       "    .dataframe thead th {\n",
       "        text-align: right;\n",
       "    }\n",
       "</style>\n",
       "<table border=\"1\" class=\"dataframe\">\n",
       "  <thead>\n",
       "    <tr style=\"text-align: right;\">\n",
       "      <th>Warehouse</th>\n",
       "    </tr>\n",
       "    <tr>\n",
       "      <th>Status</th>\n",
       "    </tr>\n",
       "  </thead>\n",
       "  <tbody>\n",
       "  </tbody>\n",
       "</table>\n",
       "</div>"
      ],
      "text/plain": [
       "Empty DataFrame\n",
       "Columns: []\n",
       "Index: []"
      ]
     },
     "execution_count": 26,
     "metadata": {},
     "output_type": "execute_result"
    }
   ],
   "source": [
    "warehouse_df3 = warehouse_df2.pivot(index ='Status', columns='Warehouse', values='Value')\n",
    "warehouse_df3"
   ]
  },
  {
   "cell_type": "code",
   "execution_count": 27,
   "id": "74ed4c78",
   "metadata": {
    "execution": {
     "iopub.execute_input": "2022-07-04T06:32:25.391189Z",
     "iopub.status.busy": "2022-07-04T06:32:25.390652Z",
     "iopub.status.idle": "2022-07-04T06:32:25.401437Z",
     "shell.execute_reply": "2022-07-04T06:32:25.400378Z"
    }
   },
   "outputs": [
    {
     "data": {
      "text/html": [
       "<div>\n",
       "<style scoped>\n",
       "    .dataframe tbody tr th:only-of-type {\n",
       "        vertical-align: middle;\n",
       "    }\n",
       "\n",
       "    .dataframe tbody tr th {\n",
       "        vertical-align: top;\n",
       "    }\n",
       "\n",
       "    .dataframe thead th {\n",
       "        text-align: right;\n",
       "    }\n",
       "</style>\n",
       "<table border=\"1\" class=\"dataframe\">\n",
       "  <thead>\n",
       "    <tr style=\"text-align: right;\">\n",
       "      <th>Warehouse</th>\n",
       "      <th>Status</th>\n",
       "    </tr>\n",
       "  </thead>\n",
       "  <tbody>\n",
       "  </tbody>\n",
       "</table>\n",
       "</div>"
      ],
      "text/plain": [
       "Empty DataFrame\n",
       "Columns: [Status]\n",
       "Index: []"
      ]
     },
     "execution_count": 27,
     "metadata": {},
     "output_type": "execute_result"
    }
   ],
   "source": [
    "warehouse_df4 = warehouse_df3.reset_index()\n",
    "warehouse_df4"
   ]
  },
  {
   "cell_type": "code",
   "execution_count": 28,
   "id": "fa16a5ad",
   "metadata": {
    "execution": {
     "iopub.execute_input": "2022-07-04T06:32:25.404656Z",
     "iopub.status.busy": "2022-07-04T06:32:25.404656Z",
     "iopub.status.idle": "2022-07-04T06:32:25.416657Z",
     "shell.execute_reply": "2022-07-04T06:32:25.415656Z"
    }
   },
   "outputs": [
    {
     "data": {
      "text/html": [
       "<div>\n",
       "<style scoped>\n",
       "    .dataframe tbody tr th:only-of-type {\n",
       "        vertical-align: middle;\n",
       "    }\n",
       "\n",
       "    .dataframe tbody tr th {\n",
       "        vertical-align: top;\n",
       "    }\n",
       "\n",
       "    .dataframe thead th {\n",
       "        text-align: right;\n",
       "    }\n",
       "</style>\n",
       "<table border=\"1\" class=\"dataframe\">\n",
       "  <thead>\n",
       "    <tr style=\"text-align: right;\">\n",
       "      <th></th>\n",
       "      <th>Status</th>\n",
       "    </tr>\n",
       "  </thead>\n",
       "  <tbody>\n",
       "  </tbody>\n",
       "</table>\n",
       "</div>"
      ],
      "text/plain": [
       "Empty DataFrame\n",
       "Columns: [Status]\n",
       "Index: []"
      ]
     },
     "execution_count": 28,
     "metadata": {},
     "output_type": "execute_result"
    }
   ],
   "source": [
    "warehouse_df4 = warehouse_df4.rename_axis(None, axis=1)\n",
    "warehouse_df4"
   ]
  },
  {
   "cell_type": "code",
   "execution_count": 29,
   "id": "be505001",
   "metadata": {
    "execution": {
     "iopub.execute_input": "2022-07-04T06:32:25.419688Z",
     "iopub.status.busy": "2022-07-04T06:32:25.418651Z",
     "iopub.status.idle": "2022-07-04T06:32:25.432653Z",
     "shell.execute_reply": "2022-07-04T06:32:25.431656Z"
    }
   },
   "outputs": [],
   "source": [
    "# Save Warehouse into JSON file\n",
    "warehouse_df4.to_json('data/warehouse.json')"
   ]
  },
  {
   "cell_type": "code",
   "execution_count": 30,
   "id": "6137ffa2",
   "metadata": {
    "execution": {
     "iopub.execute_input": "2022-07-04T06:32:25.435657Z",
     "iopub.status.busy": "2022-07-04T06:32:25.434685Z",
     "iopub.status.idle": "2022-07-04T06:32:25.448656Z",
     "shell.execute_reply": "2022-07-04T06:32:25.447685Z"
    }
   },
   "outputs": [],
   "source": [
    "# Close connection\n",
    "cnxn.close()"
   ]
  },
  {
   "cell_type": "code",
   "execution_count": null,
   "id": "30f09d04",
   "metadata": {},
   "outputs": [],
   "source": []
  }
 ],
 "metadata": {
  "kernelspec": {
   "display_name": "PythonData",
   "language": "python",
   "name": "pythondata"
  },
  "language_info": {
   "codemirror_mode": {
    "name": "ipython",
    "version": 3
   },
   "file_extension": ".py",
   "mimetype": "text/x-python",
   "name": "python",
   "nbconvert_exporter": "python",
   "pygments_lexer": "ipython3",
   "version": "3.7.11"
  }
 },
 "nbformat": 4,
 "nbformat_minor": 5
}
